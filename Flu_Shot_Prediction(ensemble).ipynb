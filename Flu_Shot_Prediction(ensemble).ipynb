{
  "nbformat": 4,
  "nbformat_minor": 0,
  "metadata": {
    "colab": {
      "name": "Copy3 of Flu Shot Prediction(ensemble).ipynb",
      "provenance": [],
      "collapsed_sections": []
    },
    "kernelspec": {
      "name": "python3",
      "display_name": "Python 3"
    }
  },
  "cells": [
    {
      "cell_type": "code",
      "metadata": {
        "id": "bHddYPI0zmFe",
        "colab_type": "code",
        "outputId": "708d776d-f358-4c74-d6af-535224496f8a",
        "colab": {
          "base_uri": "https://localhost:8080/",
          "height": 122
        }
      },
      "source": [
        "from google.colab import drive\n",
        "drive.mount('/content/drive')"
      ],
      "execution_count": 0,
      "outputs": [
        {
          "output_type": "stream",
          "text": [
            "Go to this URL in a browser: https://accounts.google.com/o/oauth2/auth?client_id=947318989803-6bn6qk8qdgf4n4g3pfee6491hc0brc4i.apps.googleusercontent.com&redirect_uri=urn%3aietf%3awg%3aoauth%3a2.0%3aoob&response_type=code&scope=email%20https%3a%2f%2fwww.googleapis.com%2fauth%2fdocs.test%20https%3a%2f%2fwww.googleapis.com%2fauth%2fdrive%20https%3a%2f%2fwww.googleapis.com%2fauth%2fdrive.photos.readonly%20https%3a%2f%2fwww.googleapis.com%2fauth%2fpeopleapi.readonly\n",
            "\n",
            "Enter your authorization code:\n",
            "··········\n",
            "Mounted at /content/drive\n"
          ],
          "name": "stdout"
        }
      ]
    },
    {
      "cell_type": "code",
      "metadata": {
        "id": "Lujb44Wg1Z1U",
        "colab_type": "code",
        "colab": {}
      },
      "source": [
        "import numpy as np\n",
        "import pandas as pd"
      ],
      "execution_count": 0,
      "outputs": []
    },
    {
      "cell_type": "code",
      "metadata": {
        "id": "-idEmNjl0bB-",
        "colab_type": "code",
        "colab": {}
      },
      "source": [
        "training_set_features = r\"/content/drive/My Drive/LeadingIndiaAI/training_set_features.csv\"\n",
        "X = pd.read_csv(training_set_features,index_col=\"respondent_id\")\n",
        "\n",
        "training_set_labels = r\"/content/drive/My Drive/LeadingIndiaAI/training_set_labels.csv\"\n",
        "y = pd.read_csv(training_set_labels,index_col=\"respondent_id\")"
      ],
      "execution_count": 0,
      "outputs": []
    },
    {
      "cell_type": "code",
      "metadata": {
        "id": "T6WwgZKi1Snn",
        "colab_type": "code",
        "outputId": "38b3c878-e015-419f-d1b7-26a76b32928e",
        "colab": {
          "base_uri": "https://localhost:8080/",
          "height": 425
        }
      },
      "source": [
        "print(\"features_df.shape\", X.shape)\n",
        "X.head()"
      ],
      "execution_count": 0,
      "outputs": [
        {
          "output_type": "stream",
          "text": [
            "features_df.shape (26707, 35)\n"
          ],
          "name": "stdout"
        },
        {
          "output_type": "execute_result",
          "data": {
            "text/html": [
              "<div>\n",
              "<style scoped>\n",
              "    .dataframe tbody tr th:only-of-type {\n",
              "        vertical-align: middle;\n",
              "    }\n",
              "\n",
              "    .dataframe tbody tr th {\n",
              "        vertical-align: top;\n",
              "    }\n",
              "\n",
              "    .dataframe thead th {\n",
              "        text-align: right;\n",
              "    }\n",
              "</style>\n",
              "<table border=\"1\" class=\"dataframe\">\n",
              "  <thead>\n",
              "    <tr style=\"text-align: right;\">\n",
              "      <th></th>\n",
              "      <th>h1n1_concern</th>\n",
              "      <th>h1n1_knowledge</th>\n",
              "      <th>behavioral_antiviral_meds</th>\n",
              "      <th>behavioral_avoidance</th>\n",
              "      <th>behavioral_face_mask</th>\n",
              "      <th>behavioral_wash_hands</th>\n",
              "      <th>behavioral_large_gatherings</th>\n",
              "      <th>behavioral_outside_home</th>\n",
              "      <th>behavioral_touch_face</th>\n",
              "      <th>doctor_recc_h1n1</th>\n",
              "      <th>doctor_recc_seasonal</th>\n",
              "      <th>chronic_med_condition</th>\n",
              "      <th>child_under_6_months</th>\n",
              "      <th>health_worker</th>\n",
              "      <th>health_insurance</th>\n",
              "      <th>opinion_h1n1_vacc_effective</th>\n",
              "      <th>opinion_h1n1_risk</th>\n",
              "      <th>opinion_h1n1_sick_from_vacc</th>\n",
              "      <th>opinion_seas_vacc_effective</th>\n",
              "      <th>opinion_seas_risk</th>\n",
              "      <th>opinion_seas_sick_from_vacc</th>\n",
              "      <th>age_group</th>\n",
              "      <th>education</th>\n",
              "      <th>race</th>\n",
              "      <th>sex</th>\n",
              "      <th>income_poverty</th>\n",
              "      <th>marital_status</th>\n",
              "      <th>rent_or_own</th>\n",
              "      <th>employment_status</th>\n",
              "      <th>hhs_geo_region</th>\n",
              "      <th>census_msa</th>\n",
              "      <th>household_adults</th>\n",
              "      <th>household_children</th>\n",
              "      <th>employment_industry</th>\n",
              "      <th>employment_occupation</th>\n",
              "    </tr>\n",
              "    <tr>\n",
              "      <th>respondent_id</th>\n",
              "      <th></th>\n",
              "      <th></th>\n",
              "      <th></th>\n",
              "      <th></th>\n",
              "      <th></th>\n",
              "      <th></th>\n",
              "      <th></th>\n",
              "      <th></th>\n",
              "      <th></th>\n",
              "      <th></th>\n",
              "      <th></th>\n",
              "      <th></th>\n",
              "      <th></th>\n",
              "      <th></th>\n",
              "      <th></th>\n",
              "      <th></th>\n",
              "      <th></th>\n",
              "      <th></th>\n",
              "      <th></th>\n",
              "      <th></th>\n",
              "      <th></th>\n",
              "      <th></th>\n",
              "      <th></th>\n",
              "      <th></th>\n",
              "      <th></th>\n",
              "      <th></th>\n",
              "      <th></th>\n",
              "      <th></th>\n",
              "      <th></th>\n",
              "      <th></th>\n",
              "      <th></th>\n",
              "      <th></th>\n",
              "      <th></th>\n",
              "      <th></th>\n",
              "      <th></th>\n",
              "    </tr>\n",
              "  </thead>\n",
              "  <tbody>\n",
              "    <tr>\n",
              "      <th>0</th>\n",
              "      <td>1.0</td>\n",
              "      <td>0.0</td>\n",
              "      <td>0.0</td>\n",
              "      <td>0.0</td>\n",
              "      <td>0.0</td>\n",
              "      <td>0.0</td>\n",
              "      <td>0.0</td>\n",
              "      <td>1.0</td>\n",
              "      <td>1.0</td>\n",
              "      <td>0.0</td>\n",
              "      <td>0.0</td>\n",
              "      <td>0.0</td>\n",
              "      <td>0.0</td>\n",
              "      <td>0.0</td>\n",
              "      <td>1.0</td>\n",
              "      <td>3.0</td>\n",
              "      <td>1.0</td>\n",
              "      <td>2.0</td>\n",
              "      <td>2.0</td>\n",
              "      <td>1.0</td>\n",
              "      <td>2.0</td>\n",
              "      <td>55 - 64 Years</td>\n",
              "      <td>&lt; 12 Years</td>\n",
              "      <td>White</td>\n",
              "      <td>Female</td>\n",
              "      <td>Below Poverty</td>\n",
              "      <td>Not Married</td>\n",
              "      <td>Own</td>\n",
              "      <td>Not in Labor Force</td>\n",
              "      <td>oxchjgsf</td>\n",
              "      <td>Non-MSA</td>\n",
              "      <td>0.0</td>\n",
              "      <td>0.0</td>\n",
              "      <td>NaN</td>\n",
              "      <td>NaN</td>\n",
              "    </tr>\n",
              "    <tr>\n",
              "      <th>1</th>\n",
              "      <td>3.0</td>\n",
              "      <td>2.0</td>\n",
              "      <td>0.0</td>\n",
              "      <td>1.0</td>\n",
              "      <td>0.0</td>\n",
              "      <td>1.0</td>\n",
              "      <td>0.0</td>\n",
              "      <td>1.0</td>\n",
              "      <td>1.0</td>\n",
              "      <td>0.0</td>\n",
              "      <td>0.0</td>\n",
              "      <td>0.0</td>\n",
              "      <td>0.0</td>\n",
              "      <td>0.0</td>\n",
              "      <td>1.0</td>\n",
              "      <td>5.0</td>\n",
              "      <td>4.0</td>\n",
              "      <td>4.0</td>\n",
              "      <td>4.0</td>\n",
              "      <td>2.0</td>\n",
              "      <td>4.0</td>\n",
              "      <td>35 - 44 Years</td>\n",
              "      <td>12 Years</td>\n",
              "      <td>White</td>\n",
              "      <td>Male</td>\n",
              "      <td>Below Poverty</td>\n",
              "      <td>Not Married</td>\n",
              "      <td>Rent</td>\n",
              "      <td>Employed</td>\n",
              "      <td>bhuqouqj</td>\n",
              "      <td>MSA, Not Principle  City</td>\n",
              "      <td>0.0</td>\n",
              "      <td>0.0</td>\n",
              "      <td>pxcmvdjn</td>\n",
              "      <td>xgwztkwe</td>\n",
              "    </tr>\n",
              "    <tr>\n",
              "      <th>2</th>\n",
              "      <td>1.0</td>\n",
              "      <td>1.0</td>\n",
              "      <td>0.0</td>\n",
              "      <td>1.0</td>\n",
              "      <td>0.0</td>\n",
              "      <td>0.0</td>\n",
              "      <td>0.0</td>\n",
              "      <td>0.0</td>\n",
              "      <td>0.0</td>\n",
              "      <td>NaN</td>\n",
              "      <td>NaN</td>\n",
              "      <td>1.0</td>\n",
              "      <td>0.0</td>\n",
              "      <td>0.0</td>\n",
              "      <td>NaN</td>\n",
              "      <td>3.0</td>\n",
              "      <td>1.0</td>\n",
              "      <td>1.0</td>\n",
              "      <td>4.0</td>\n",
              "      <td>1.0</td>\n",
              "      <td>2.0</td>\n",
              "      <td>18 - 34 Years</td>\n",
              "      <td>College Graduate</td>\n",
              "      <td>White</td>\n",
              "      <td>Male</td>\n",
              "      <td>&lt;= $75,000, Above Poverty</td>\n",
              "      <td>Not Married</td>\n",
              "      <td>Own</td>\n",
              "      <td>Employed</td>\n",
              "      <td>qufhixun</td>\n",
              "      <td>MSA, Not Principle  City</td>\n",
              "      <td>2.0</td>\n",
              "      <td>0.0</td>\n",
              "      <td>rucpziij</td>\n",
              "      <td>xtkaffoo</td>\n",
              "    </tr>\n",
              "    <tr>\n",
              "      <th>3</th>\n",
              "      <td>1.0</td>\n",
              "      <td>1.0</td>\n",
              "      <td>0.0</td>\n",
              "      <td>1.0</td>\n",
              "      <td>0.0</td>\n",
              "      <td>1.0</td>\n",
              "      <td>1.0</td>\n",
              "      <td>0.0</td>\n",
              "      <td>0.0</td>\n",
              "      <td>0.0</td>\n",
              "      <td>1.0</td>\n",
              "      <td>1.0</td>\n",
              "      <td>0.0</td>\n",
              "      <td>0.0</td>\n",
              "      <td>NaN</td>\n",
              "      <td>3.0</td>\n",
              "      <td>3.0</td>\n",
              "      <td>5.0</td>\n",
              "      <td>5.0</td>\n",
              "      <td>4.0</td>\n",
              "      <td>1.0</td>\n",
              "      <td>65+ Years</td>\n",
              "      <td>12 Years</td>\n",
              "      <td>White</td>\n",
              "      <td>Female</td>\n",
              "      <td>Below Poverty</td>\n",
              "      <td>Not Married</td>\n",
              "      <td>Rent</td>\n",
              "      <td>Not in Labor Force</td>\n",
              "      <td>lrircsnp</td>\n",
              "      <td>MSA, Principle City</td>\n",
              "      <td>0.0</td>\n",
              "      <td>0.0</td>\n",
              "      <td>NaN</td>\n",
              "      <td>NaN</td>\n",
              "    </tr>\n",
              "    <tr>\n",
              "      <th>4</th>\n",
              "      <td>2.0</td>\n",
              "      <td>1.0</td>\n",
              "      <td>0.0</td>\n",
              "      <td>1.0</td>\n",
              "      <td>0.0</td>\n",
              "      <td>1.0</td>\n",
              "      <td>1.0</td>\n",
              "      <td>0.0</td>\n",
              "      <td>1.0</td>\n",
              "      <td>0.0</td>\n",
              "      <td>0.0</td>\n",
              "      <td>0.0</td>\n",
              "      <td>0.0</td>\n",
              "      <td>0.0</td>\n",
              "      <td>NaN</td>\n",
              "      <td>3.0</td>\n",
              "      <td>3.0</td>\n",
              "      <td>2.0</td>\n",
              "      <td>3.0</td>\n",
              "      <td>1.0</td>\n",
              "      <td>4.0</td>\n",
              "      <td>45 - 54 Years</td>\n",
              "      <td>Some College</td>\n",
              "      <td>White</td>\n",
              "      <td>Female</td>\n",
              "      <td>&lt;= $75,000, Above Poverty</td>\n",
              "      <td>Married</td>\n",
              "      <td>Own</td>\n",
              "      <td>Employed</td>\n",
              "      <td>qufhixun</td>\n",
              "      <td>MSA, Not Principle  City</td>\n",
              "      <td>1.0</td>\n",
              "      <td>0.0</td>\n",
              "      <td>wxleyezf</td>\n",
              "      <td>emcorrxb</td>\n",
              "    </tr>\n",
              "  </tbody>\n",
              "</table>\n",
              "</div>"
            ],
            "text/plain": [
              "               h1n1_concern  ...  employment_occupation\n",
              "respondent_id                ...                       \n",
              "0                       1.0  ...                    NaN\n",
              "1                       3.0  ...               xgwztkwe\n",
              "2                       1.0  ...               xtkaffoo\n",
              "3                       1.0  ...                    NaN\n",
              "4                       2.0  ...               emcorrxb\n",
              "\n",
              "[5 rows x 35 columns]"
            ]
          },
          "metadata": {
            "tags": []
          },
          "execution_count": 4
        }
      ]
    },
    {
      "cell_type": "code",
      "metadata": {
        "id": "uV5SjcBt2i4r",
        "colab_type": "code",
        "outputId": "cae5b846-2cb1-442e-bb71-f5d0a4b53c9e",
        "colab": {
          "base_uri": "https://localhost:8080/",
          "height": 629
        }
      },
      "source": [
        "X.dtypes"
      ],
      "execution_count": 0,
      "outputs": [
        {
          "output_type": "execute_result",
          "data": {
            "text/plain": [
              "h1n1_concern                   float64\n",
              "h1n1_knowledge                 float64\n",
              "behavioral_antiviral_meds      float64\n",
              "behavioral_avoidance           float64\n",
              "behavioral_face_mask           float64\n",
              "behavioral_wash_hands          float64\n",
              "behavioral_large_gatherings    float64\n",
              "behavioral_outside_home        float64\n",
              "behavioral_touch_face          float64\n",
              "doctor_recc_h1n1               float64\n",
              "doctor_recc_seasonal           float64\n",
              "chronic_med_condition          float64\n",
              "child_under_6_months           float64\n",
              "health_worker                  float64\n",
              "health_insurance               float64\n",
              "opinion_h1n1_vacc_effective    float64\n",
              "opinion_h1n1_risk              float64\n",
              "opinion_h1n1_sick_from_vacc    float64\n",
              "opinion_seas_vacc_effective    float64\n",
              "opinion_seas_risk              float64\n",
              "opinion_seas_sick_from_vacc    float64\n",
              "age_group                       object\n",
              "education                       object\n",
              "race                            object\n",
              "sex                             object\n",
              "income_poverty                  object\n",
              "marital_status                  object\n",
              "rent_or_own                     object\n",
              "employment_status               object\n",
              "hhs_geo_region                  object\n",
              "census_msa                      object\n",
              "household_adults               float64\n",
              "household_children             float64\n",
              "employment_industry             object\n",
              "employment_occupation           object\n",
              "dtype: object"
            ]
          },
          "metadata": {
            "tags": []
          },
          "execution_count": 5
        }
      ]
    },
    {
      "cell_type": "code",
      "metadata": {
        "id": "-JLIPfeq2Ld0",
        "colab_type": "code",
        "outputId": "a9a15219-88f5-4086-81bf-787bdaf587bc",
        "colab": {
          "base_uri": "https://localhost:8080/",
          "height": 252
        }
      },
      "source": [
        "print(\"labels_df.shape\", y.shape)\n",
        "y.head()"
      ],
      "execution_count": 0,
      "outputs": [
        {
          "output_type": "stream",
          "text": [
            "labels_df.shape (26707, 2)\n"
          ],
          "name": "stdout"
        },
        {
          "output_type": "execute_result",
          "data": {
            "text/html": [
              "<div>\n",
              "<style scoped>\n",
              "    .dataframe tbody tr th:only-of-type {\n",
              "        vertical-align: middle;\n",
              "    }\n",
              "\n",
              "    .dataframe tbody tr th {\n",
              "        vertical-align: top;\n",
              "    }\n",
              "\n",
              "    .dataframe thead th {\n",
              "        text-align: right;\n",
              "    }\n",
              "</style>\n",
              "<table border=\"1\" class=\"dataframe\">\n",
              "  <thead>\n",
              "    <tr style=\"text-align: right;\">\n",
              "      <th></th>\n",
              "      <th>h1n1_vaccine</th>\n",
              "      <th>seasonal_vaccine</th>\n",
              "    </tr>\n",
              "    <tr>\n",
              "      <th>respondent_id</th>\n",
              "      <th></th>\n",
              "      <th></th>\n",
              "    </tr>\n",
              "  </thead>\n",
              "  <tbody>\n",
              "    <tr>\n",
              "      <th>0</th>\n",
              "      <td>0</td>\n",
              "      <td>0</td>\n",
              "    </tr>\n",
              "    <tr>\n",
              "      <th>1</th>\n",
              "      <td>0</td>\n",
              "      <td>1</td>\n",
              "    </tr>\n",
              "    <tr>\n",
              "      <th>2</th>\n",
              "      <td>0</td>\n",
              "      <td>0</td>\n",
              "    </tr>\n",
              "    <tr>\n",
              "      <th>3</th>\n",
              "      <td>0</td>\n",
              "      <td>1</td>\n",
              "    </tr>\n",
              "    <tr>\n",
              "      <th>4</th>\n",
              "      <td>0</td>\n",
              "      <td>0</td>\n",
              "    </tr>\n",
              "  </tbody>\n",
              "</table>\n",
              "</div>"
            ],
            "text/plain": [
              "               h1n1_vaccine  seasonal_vaccine\n",
              "respondent_id                                \n",
              "0                         0                 0\n",
              "1                         0                 1\n",
              "2                         0                 0\n",
              "3                         0                 1\n",
              "4                         0                 0"
            ]
          },
          "metadata": {
            "tags": []
          },
          "execution_count": 6
        }
      ]
    },
    {
      "cell_type": "code",
      "metadata": {
        "id": "GPQ-VnkXTovr",
        "colab_type": "code",
        "outputId": "8d7087fe-8ef0-43ef-e2d1-902de1db9fc8",
        "colab": {
          "base_uri": "https://localhost:8080/",
          "height": 374
        }
      },
      "source": [
        "test_set_features = r\"/content/drive/My Drive/LeadingIndiaAI/test_set_features.csv\"\n",
        "test_file = pd.read_csv(test_set_features,index_col=\"respondent_id\")\n",
        "test_file.head()"
      ],
      "execution_count": 0,
      "outputs": [
        {
          "output_type": "execute_result",
          "data": {
            "text/html": [
              "<div>\n",
              "<style scoped>\n",
              "    .dataframe tbody tr th:only-of-type {\n",
              "        vertical-align: middle;\n",
              "    }\n",
              "\n",
              "    .dataframe tbody tr th {\n",
              "        vertical-align: top;\n",
              "    }\n",
              "\n",
              "    .dataframe thead th {\n",
              "        text-align: right;\n",
              "    }\n",
              "</style>\n",
              "<table border=\"1\" class=\"dataframe\">\n",
              "  <thead>\n",
              "    <tr style=\"text-align: right;\">\n",
              "      <th></th>\n",
              "      <th>h1n1_concern</th>\n",
              "      <th>h1n1_knowledge</th>\n",
              "      <th>behavioral_antiviral_meds</th>\n",
              "      <th>behavioral_avoidance</th>\n",
              "      <th>behavioral_face_mask</th>\n",
              "      <th>behavioral_wash_hands</th>\n",
              "      <th>behavioral_large_gatherings</th>\n",
              "      <th>behavioral_outside_home</th>\n",
              "      <th>behavioral_touch_face</th>\n",
              "      <th>doctor_recc_h1n1</th>\n",
              "      <th>doctor_recc_seasonal</th>\n",
              "      <th>chronic_med_condition</th>\n",
              "      <th>child_under_6_months</th>\n",
              "      <th>health_worker</th>\n",
              "      <th>health_insurance</th>\n",
              "      <th>opinion_h1n1_vacc_effective</th>\n",
              "      <th>opinion_h1n1_risk</th>\n",
              "      <th>opinion_h1n1_sick_from_vacc</th>\n",
              "      <th>opinion_seas_vacc_effective</th>\n",
              "      <th>opinion_seas_risk</th>\n",
              "      <th>opinion_seas_sick_from_vacc</th>\n",
              "      <th>age_group</th>\n",
              "      <th>education</th>\n",
              "      <th>race</th>\n",
              "      <th>sex</th>\n",
              "      <th>income_poverty</th>\n",
              "      <th>marital_status</th>\n",
              "      <th>rent_or_own</th>\n",
              "      <th>employment_status</th>\n",
              "      <th>hhs_geo_region</th>\n",
              "      <th>census_msa</th>\n",
              "      <th>household_adults</th>\n",
              "      <th>household_children</th>\n",
              "      <th>employment_industry</th>\n",
              "      <th>employment_occupation</th>\n",
              "    </tr>\n",
              "    <tr>\n",
              "      <th>respondent_id</th>\n",
              "      <th></th>\n",
              "      <th></th>\n",
              "      <th></th>\n",
              "      <th></th>\n",
              "      <th></th>\n",
              "      <th></th>\n",
              "      <th></th>\n",
              "      <th></th>\n",
              "      <th></th>\n",
              "      <th></th>\n",
              "      <th></th>\n",
              "      <th></th>\n",
              "      <th></th>\n",
              "      <th></th>\n",
              "      <th></th>\n",
              "      <th></th>\n",
              "      <th></th>\n",
              "      <th></th>\n",
              "      <th></th>\n",
              "      <th></th>\n",
              "      <th></th>\n",
              "      <th></th>\n",
              "      <th></th>\n",
              "      <th></th>\n",
              "      <th></th>\n",
              "      <th></th>\n",
              "      <th></th>\n",
              "      <th></th>\n",
              "      <th></th>\n",
              "      <th></th>\n",
              "      <th></th>\n",
              "      <th></th>\n",
              "      <th></th>\n",
              "      <th></th>\n",
              "      <th></th>\n",
              "    </tr>\n",
              "  </thead>\n",
              "  <tbody>\n",
              "    <tr>\n",
              "      <th>26707</th>\n",
              "      <td>2.0</td>\n",
              "      <td>2.0</td>\n",
              "      <td>0.0</td>\n",
              "      <td>1.0</td>\n",
              "      <td>0.0</td>\n",
              "      <td>1.0</td>\n",
              "      <td>1.0</td>\n",
              "      <td>0.0</td>\n",
              "      <td>1.0</td>\n",
              "      <td>0.0</td>\n",
              "      <td>0.0</td>\n",
              "      <td>0.0</td>\n",
              "      <td>0.0</td>\n",
              "      <td>0.0</td>\n",
              "      <td>1.0</td>\n",
              "      <td>5.0</td>\n",
              "      <td>1.0</td>\n",
              "      <td>1.0</td>\n",
              "      <td>5.0</td>\n",
              "      <td>1.0</td>\n",
              "      <td>1.0</td>\n",
              "      <td>35 - 44 Years</td>\n",
              "      <td>College Graduate</td>\n",
              "      <td>Hispanic</td>\n",
              "      <td>Female</td>\n",
              "      <td>&gt; $75,000</td>\n",
              "      <td>Not Married</td>\n",
              "      <td>Rent</td>\n",
              "      <td>Employed</td>\n",
              "      <td>mlyzmhmf</td>\n",
              "      <td>MSA, Not Principle  City</td>\n",
              "      <td>1.0</td>\n",
              "      <td>0.0</td>\n",
              "      <td>atmlpfrs</td>\n",
              "      <td>hfxkjkmi</td>\n",
              "    </tr>\n",
              "    <tr>\n",
              "      <th>26708</th>\n",
              "      <td>1.0</td>\n",
              "      <td>1.0</td>\n",
              "      <td>0.0</td>\n",
              "      <td>0.0</td>\n",
              "      <td>0.0</td>\n",
              "      <td>0.0</td>\n",
              "      <td>0.0</td>\n",
              "      <td>0.0</td>\n",
              "      <td>0.0</td>\n",
              "      <td>0.0</td>\n",
              "      <td>0.0</td>\n",
              "      <td>0.0</td>\n",
              "      <td>0.0</td>\n",
              "      <td>0.0</td>\n",
              "      <td>0.0</td>\n",
              "      <td>4.0</td>\n",
              "      <td>1.0</td>\n",
              "      <td>1.0</td>\n",
              "      <td>4.0</td>\n",
              "      <td>1.0</td>\n",
              "      <td>1.0</td>\n",
              "      <td>18 - 34 Years</td>\n",
              "      <td>12 Years</td>\n",
              "      <td>White</td>\n",
              "      <td>Male</td>\n",
              "      <td>Below Poverty</td>\n",
              "      <td>Not Married</td>\n",
              "      <td>Rent</td>\n",
              "      <td>Employed</td>\n",
              "      <td>bhuqouqj</td>\n",
              "      <td>Non-MSA</td>\n",
              "      <td>3.0</td>\n",
              "      <td>0.0</td>\n",
              "      <td>atmlpfrs</td>\n",
              "      <td>xqwwgdyp</td>\n",
              "    </tr>\n",
              "    <tr>\n",
              "      <th>26709</th>\n",
              "      <td>2.0</td>\n",
              "      <td>2.0</td>\n",
              "      <td>0.0</td>\n",
              "      <td>0.0</td>\n",
              "      <td>1.0</td>\n",
              "      <td>1.0</td>\n",
              "      <td>1.0</td>\n",
              "      <td>1.0</td>\n",
              "      <td>1.0</td>\n",
              "      <td>0.0</td>\n",
              "      <td>0.0</td>\n",
              "      <td>0.0</td>\n",
              "      <td>0.0</td>\n",
              "      <td>0.0</td>\n",
              "      <td>NaN</td>\n",
              "      <td>5.0</td>\n",
              "      <td>4.0</td>\n",
              "      <td>2.0</td>\n",
              "      <td>5.0</td>\n",
              "      <td>4.0</td>\n",
              "      <td>4.0</td>\n",
              "      <td>55 - 64 Years</td>\n",
              "      <td>College Graduate</td>\n",
              "      <td>White</td>\n",
              "      <td>Male</td>\n",
              "      <td>&gt; $75,000</td>\n",
              "      <td>Married</td>\n",
              "      <td>Own</td>\n",
              "      <td>Employed</td>\n",
              "      <td>lrircsnp</td>\n",
              "      <td>Non-MSA</td>\n",
              "      <td>1.0</td>\n",
              "      <td>0.0</td>\n",
              "      <td>nduyfdeo</td>\n",
              "      <td>pvmttkik</td>\n",
              "    </tr>\n",
              "    <tr>\n",
              "      <th>26710</th>\n",
              "      <td>1.0</td>\n",
              "      <td>1.0</td>\n",
              "      <td>0.0</td>\n",
              "      <td>0.0</td>\n",
              "      <td>0.0</td>\n",
              "      <td>0.0</td>\n",
              "      <td>0.0</td>\n",
              "      <td>0.0</td>\n",
              "      <td>0.0</td>\n",
              "      <td>1.0</td>\n",
              "      <td>1.0</td>\n",
              "      <td>1.0</td>\n",
              "      <td>0.0</td>\n",
              "      <td>0.0</td>\n",
              "      <td>1.0</td>\n",
              "      <td>4.0</td>\n",
              "      <td>2.0</td>\n",
              "      <td>2.0</td>\n",
              "      <td>4.0</td>\n",
              "      <td>4.0</td>\n",
              "      <td>2.0</td>\n",
              "      <td>65+ Years</td>\n",
              "      <td>12 Years</td>\n",
              "      <td>White</td>\n",
              "      <td>Female</td>\n",
              "      <td>&lt;= $75,000, Above Poverty</td>\n",
              "      <td>Married</td>\n",
              "      <td>Own</td>\n",
              "      <td>Not in Labor Force</td>\n",
              "      <td>lrircsnp</td>\n",
              "      <td>MSA, Not Principle  City</td>\n",
              "      <td>1.0</td>\n",
              "      <td>0.0</td>\n",
              "      <td>NaN</td>\n",
              "      <td>NaN</td>\n",
              "    </tr>\n",
              "    <tr>\n",
              "      <th>26711</th>\n",
              "      <td>3.0</td>\n",
              "      <td>1.0</td>\n",
              "      <td>1.0</td>\n",
              "      <td>1.0</td>\n",
              "      <td>0.0</td>\n",
              "      <td>1.0</td>\n",
              "      <td>1.0</td>\n",
              "      <td>1.0</td>\n",
              "      <td>1.0</td>\n",
              "      <td>0.0</td>\n",
              "      <td>0.0</td>\n",
              "      <td>0.0</td>\n",
              "      <td>0.0</td>\n",
              "      <td>1.0</td>\n",
              "      <td>1.0</td>\n",
              "      <td>5.0</td>\n",
              "      <td>2.0</td>\n",
              "      <td>4.0</td>\n",
              "      <td>4.0</td>\n",
              "      <td>4.0</td>\n",
              "      <td>2.0</td>\n",
              "      <td>35 - 44 Years</td>\n",
              "      <td>12 Years</td>\n",
              "      <td>Black</td>\n",
              "      <td>Female</td>\n",
              "      <td>&lt;= $75,000, Above Poverty</td>\n",
              "      <td>Not Married</td>\n",
              "      <td>Own</td>\n",
              "      <td>Employed</td>\n",
              "      <td>lzgpxyit</td>\n",
              "      <td>Non-MSA</td>\n",
              "      <td>0.0</td>\n",
              "      <td>1.0</td>\n",
              "      <td>fcxhlnwr</td>\n",
              "      <td>mxkfnird</td>\n",
              "    </tr>\n",
              "  </tbody>\n",
              "</table>\n",
              "</div>"
            ],
            "text/plain": [
              "               h1n1_concern  ...  employment_occupation\n",
              "respondent_id                ...                       \n",
              "26707                   2.0  ...               hfxkjkmi\n",
              "26708                   1.0  ...               xqwwgdyp\n",
              "26709                   2.0  ...               pvmttkik\n",
              "26710                   1.0  ...                    NaN\n",
              "26711                   3.0  ...               mxkfnird\n",
              "\n",
              "[5 rows x 35 columns]"
            ]
          },
          "metadata": {
            "tags": []
          },
          "execution_count": 7
        }
      ]
    },
    {
      "cell_type": "markdown",
      "metadata": {
        "id": "-xkNWHaoMkH3",
        "colab_type": "text"
      },
      "source": [
        "# **CatBoost Model (no need of one-hot-encoding....just load the data)**"
      ]
    },
    {
      "cell_type": "code",
      "metadata": {
        "id": "7jolEtJoNAJS",
        "colab_type": "code",
        "colab": {}
      },
      "source": [
        "from sklearn.model_selection import train_test_split\n",
        "X_train, X_test, y_train, y_test = train_test_split(\n",
        "    X,\n",
        "    y,\n",
        "    test_size=0.33)"
      ],
      "execution_count": 0,
      "outputs": []
    },
    {
      "cell_type": "code",
      "metadata": {
        "id": "-J8Ah5NqVMyd",
        "colab_type": "code",
        "outputId": "183a4e5e-5792-4566-bb17-6bec1ff4f1f8",
        "colab": {
          "base_uri": "https://localhost:8080/",
          "height": 343
        }
      },
      "source": [
        "!pip install catboost"
      ],
      "execution_count": 0,
      "outputs": [
        {
          "output_type": "stream",
          "text": [
            "Collecting catboost\n",
            "\u001b[?25l  Downloading https://files.pythonhosted.org/packages/b2/aa/e61819d04ef2bbee778bf4b3a748db1f3ad23512377e43ecfdc3211437a0/catboost-0.23.2-cp36-none-manylinux1_x86_64.whl (64.8MB)\n",
            "\u001b[K     |████████████████████████████████| 64.8MB 63kB/s \n",
            "\u001b[?25hRequirement already satisfied: six in /usr/local/lib/python3.6/dist-packages (from catboost) (1.12.0)\n",
            "Requirement already satisfied: pandas>=0.24.0 in /usr/local/lib/python3.6/dist-packages (from catboost) (1.0.4)\n",
            "Requirement already satisfied: plotly in /usr/local/lib/python3.6/dist-packages (from catboost) (4.4.1)\n",
            "Requirement already satisfied: numpy>=1.16.0 in /usr/local/lib/python3.6/dist-packages (from catboost) (1.18.4)\n",
            "Requirement already satisfied: scipy in /usr/local/lib/python3.6/dist-packages (from catboost) (1.4.1)\n",
            "Requirement already satisfied: graphviz in /usr/local/lib/python3.6/dist-packages (from catboost) (0.10.1)\n",
            "Requirement already satisfied: matplotlib in /usr/local/lib/python3.6/dist-packages (from catboost) (3.2.1)\n",
            "Requirement already satisfied: pytz>=2017.2 in /usr/local/lib/python3.6/dist-packages (from pandas>=0.24.0->catboost) (2018.9)\n",
            "Requirement already satisfied: python-dateutil>=2.6.1 in /usr/local/lib/python3.6/dist-packages (from pandas>=0.24.0->catboost) (2.8.1)\n",
            "Requirement already satisfied: retrying>=1.3.3 in /usr/local/lib/python3.6/dist-packages (from plotly->catboost) (1.3.3)\n",
            "Requirement already satisfied: kiwisolver>=1.0.1 in /usr/local/lib/python3.6/dist-packages (from matplotlib->catboost) (1.2.0)\n",
            "Requirement already satisfied: cycler>=0.10 in /usr/local/lib/python3.6/dist-packages (from matplotlib->catboost) (0.10.0)\n",
            "Requirement already satisfied: pyparsing!=2.0.4,!=2.1.2,!=2.1.6,>=2.0.1 in /usr/local/lib/python3.6/dist-packages (from matplotlib->catboost) (2.4.7)\n",
            "Installing collected packages: catboost\n",
            "Successfully installed catboost-0.23.2\n"
          ],
          "name": "stdout"
        }
      ]
    },
    {
      "cell_type": "code",
      "metadata": {
        "id": "RxPTUqUqWia-",
        "colab_type": "code",
        "outputId": "9c436941-cb8d-4761-f1eb-1425cdb19ab2",
        "colab": {
          "base_uri": "https://localhost:8080/",
          "height": 136
        }
      },
      "source": [
        "X = X.fillna(-999)\n",
        "pd.isnull(X).any()\n",
        "\n",
        "from sklearn.impute import SimpleImputer\n",
        "imputer = SimpleImputer(missing_values=-999,strategy='most_frequent')\n",
        "imputer=imputer.fit(X)\n",
        "X_new=imputer.transform(X)\n",
        "print(X_new)"
      ],
      "execution_count": 0,
      "outputs": [
        {
          "output_type": "stream",
          "text": [
            "[[1.0 0.0 0.0 ... 0.0 'fcxhlnwr' 'xtkaffoo']\n",
            " [3.0 2.0 0.0 ... 0.0 'pxcmvdjn' 'xgwztkwe']\n",
            " [1.0 1.0 0.0 ... 0.0 'rucpziij' 'xtkaffoo']\n",
            " ...\n",
            " [2.0 2.0 0.0 ... 0.0 'fcxhlnwr' 'xtkaffoo']\n",
            " [1.0 1.0 0.0 ... 0.0 'fcxhlnwr' 'haliazsg']\n",
            " [0.0 0.0 0.0 ... 0.0 'fcxhlnwr' 'xtkaffoo']]\n"
          ],
          "name": "stdout"
        }
      ]
    },
    {
      "cell_type": "code",
      "metadata": {
        "id": "Lx3TuePAa5rF",
        "colab_type": "code",
        "outputId": "fddfc756-773b-4b80-ed49-134c810c7a59",
        "colab": {
          "base_uri": "https://localhost:8080/",
          "height": 136
        }
      },
      "source": [
        "test_file_no_na = test_file.fillna(-999)\n",
        "pd.isnull(test_file_no_na).any()\n",
        "\n",
        "from sklearn.impute import SimpleImputer\n",
        "imputer = SimpleImputer(missing_values=-999,strategy='most_frequent')\n",
        "imputer=imputer.fit(test_file_no_na)\n",
        "test_file_new=imputer.transform(test_file_no_na)\n",
        "print(test_file_new)"
      ],
      "execution_count": 0,
      "outputs": [
        {
          "output_type": "stream",
          "text": [
            "[[2.0 2.0 0.0 ... 0.0 'atmlpfrs' 'hfxkjkmi']\n",
            " [1.0 1.0 0.0 ... 0.0 'atmlpfrs' 'xqwwgdyp']\n",
            " [2.0 2.0 0.0 ... 0.0 'nduyfdeo' 'pvmttkik']\n",
            " ...\n",
            " [0.0 1.0 0.0 ... 0.0 'fcxhlnwr' 'xtkaffoo']\n",
            " [3.0 1.0 0.0 ... 0.0 'fcxhlnwr' 'xtkaffoo']\n",
            " [2.0 1.0 0.0 ... 0.0 'fcxhlnwr' 'xtkaffoo']]\n"
          ],
          "name": "stdout"
        }
      ]
    },
    {
      "cell_type": "code",
      "metadata": {
        "id": "2Qxmi2HcaGxp",
        "colab_type": "code",
        "colab": {}
      },
      "source": [
        "y_h1n1=y['seasonal_vaccine']"
      ],
      "execution_count": 0,
      "outputs": []
    },
    {
      "cell_type": "code",
      "metadata": {
        "id": "_g9F_HgkM1hi",
        "colab_type": "code",
        "outputId": "8817ddb8-19f4-4197-88de-e16f3bea804d",
        "colab": {
          "base_uri": "https://localhost:8080/",
          "height": 1000
        }
      },
      "source": [
        "from catboost import CatBoostClassifier\n",
        "categorical_features_indices = np.where(X.dtypes != np.float)[0]\n",
        "#model=CatBoostClassifier(loss_function='Logloss',cat_features=(['age_group','education','race','sex', 'income_poverty', 'marital_status','rent_or_own','employment_status','hhs_geo_region','census_msa','employment_industry','employment_occupation']))\n",
        "model=CatBoostClassifier(loss_function='Logloss',cat_features=categorical_features_indices)\n",
        "#categorical_features_indices = np.where(df.dtypes != np.float)[0]\n",
        "model.fit(X_new,y_h1n1)\n",
        "#model.score(X_test,y_test)\n",
        "                                                          #loss_function='CrossEntropy'\n",
        "p=model.predict(test_file_new,prediction_type='Probability')  #prediction_type='Probability'\n",
        "\n",
        "pp=model.predict_proba(test_file_new)"
      ],
      "execution_count": 0,
      "outputs": [
        {
          "output_type": "stream",
          "text": [
            "Learning rate set to 0.041889\n",
            "0:\tlearn: 0.6758609\ttotal: 62.5ms\tremaining: 1m 2s\n",
            "1:\tlearn: 0.6600181\ttotal: 118ms\tremaining: 58.9s\n",
            "2:\tlearn: 0.6459327\ttotal: 185ms\tremaining: 1m 1s\n",
            "3:\tlearn: 0.6331269\ttotal: 255ms\tremaining: 1m 3s\n",
            "4:\tlearn: 0.6211483\ttotal: 319ms\tremaining: 1m 3s\n",
            "5:\tlearn: 0.6102151\ttotal: 375ms\tremaining: 1m 2s\n",
            "6:\tlearn: 0.6005067\ttotal: 435ms\tremaining: 1m 1s\n",
            "7:\tlearn: 0.5913486\ttotal: 492ms\tremaining: 1m 1s\n",
            "8:\tlearn: 0.5829926\ttotal: 555ms\tremaining: 1m 1s\n",
            "9:\tlearn: 0.5752523\ttotal: 622ms\tremaining: 1m 1s\n",
            "10:\tlearn: 0.5685852\ttotal: 671ms\tremaining: 1m\n",
            "11:\tlearn: 0.5618584\ttotal: 729ms\tremaining: 1m\n",
            "12:\tlearn: 0.5559391\ttotal: 778ms\tremaining: 59.1s\n",
            "13:\tlearn: 0.5508340\ttotal: 847ms\tremaining: 59.6s\n",
            "14:\tlearn: 0.5465989\ttotal: 910ms\tremaining: 59.8s\n",
            "15:\tlearn: 0.5421004\ttotal: 983ms\tremaining: 1m\n",
            "16:\tlearn: 0.5378657\ttotal: 1.05s\tremaining: 1m\n",
            "17:\tlearn: 0.5339754\ttotal: 1.1s\tremaining: 59.9s\n",
            "18:\tlearn: 0.5306303\ttotal: 1.17s\tremaining: 1m\n",
            "19:\tlearn: 0.5277888\ttotal: 1.23s\tremaining: 1m\n",
            "20:\tlearn: 0.5249986\ttotal: 1.31s\tremaining: 1m\n",
            "21:\tlearn: 0.5217597\ttotal: 1.39s\tremaining: 1m 1s\n",
            "22:\tlearn: 0.5191764\ttotal: 1.46s\tremaining: 1m 1s\n",
            "23:\tlearn: 0.5166127\ttotal: 1.52s\tremaining: 1m 1s\n",
            "24:\tlearn: 0.5141430\ttotal: 1.59s\tremaining: 1m 1s\n",
            "25:\tlearn: 0.5117634\ttotal: 1.65s\tremaining: 1m 1s\n",
            "26:\tlearn: 0.5095068\ttotal: 1.72s\tremaining: 1m 1s\n",
            "27:\tlearn: 0.5075535\ttotal: 1.78s\tremaining: 1m 1s\n",
            "28:\tlearn: 0.5057670\ttotal: 1.84s\tremaining: 1m 1s\n",
            "29:\tlearn: 0.5038961\ttotal: 1.91s\tremaining: 1m 1s\n",
            "30:\tlearn: 0.5022934\ttotal: 1.98s\tremaining: 1m 1s\n",
            "31:\tlearn: 0.5008643\ttotal: 2.04s\tremaining: 1m 1s\n",
            "32:\tlearn: 0.4993041\ttotal: 2.1s\tremaining: 1m 1s\n",
            "33:\tlearn: 0.4979344\ttotal: 2.16s\tremaining: 1m 1s\n",
            "34:\tlearn: 0.4968865\ttotal: 2.24s\tremaining: 1m 1s\n",
            "35:\tlearn: 0.4957322\ttotal: 2.31s\tremaining: 1m 1s\n",
            "36:\tlearn: 0.4944928\ttotal: 2.38s\tremaining: 1m 1s\n",
            "37:\tlearn: 0.4935107\ttotal: 2.44s\tremaining: 1m 1s\n",
            "38:\tlearn: 0.4926207\ttotal: 2.51s\tremaining: 1m 1s\n",
            "39:\tlearn: 0.4917450\ttotal: 2.58s\tremaining: 1m 1s\n",
            "40:\tlearn: 0.4906931\ttotal: 2.64s\tremaining: 1m 1s\n",
            "41:\tlearn: 0.4896473\ttotal: 2.72s\tremaining: 1m 1s\n",
            "42:\tlearn: 0.4885637\ttotal: 2.79s\tremaining: 1m 1s\n",
            "43:\tlearn: 0.4879414\ttotal: 2.85s\tremaining: 1m 1s\n",
            "44:\tlearn: 0.4871700\ttotal: 2.91s\tremaining: 1m 1s\n",
            "45:\tlearn: 0.4863537\ttotal: 2.98s\tremaining: 1m 1s\n",
            "46:\tlearn: 0.4857427\ttotal: 3.05s\tremaining: 1m 1s\n",
            "47:\tlearn: 0.4849000\ttotal: 3.11s\tremaining: 1m 1s\n",
            "48:\tlearn: 0.4840945\ttotal: 3.17s\tremaining: 1m 1s\n",
            "49:\tlearn: 0.4834182\ttotal: 3.25s\tremaining: 1m 1s\n",
            "50:\tlearn: 0.4826482\ttotal: 3.32s\tremaining: 1m 1s\n",
            "51:\tlearn: 0.4820430\ttotal: 3.38s\tremaining: 1m 1s\n",
            "52:\tlearn: 0.4815304\ttotal: 3.46s\tremaining: 1m 1s\n",
            "53:\tlearn: 0.4809402\ttotal: 3.52s\tremaining: 1m 1s\n",
            "54:\tlearn: 0.4803382\ttotal: 3.59s\tremaining: 1m 1s\n",
            "55:\tlearn: 0.4798798\ttotal: 3.66s\tremaining: 1m 1s\n",
            "56:\tlearn: 0.4793270\ttotal: 3.73s\tremaining: 1m 1s\n",
            "57:\tlearn: 0.4789027\ttotal: 3.79s\tremaining: 1m 1s\n",
            "58:\tlearn: 0.4785386\ttotal: 3.86s\tremaining: 1m 1s\n",
            "59:\tlearn: 0.4782625\ttotal: 3.91s\tremaining: 1m 1s\n",
            "60:\tlearn: 0.4777274\ttotal: 3.98s\tremaining: 1m 1s\n",
            "61:\tlearn: 0.4772416\ttotal: 4.04s\tremaining: 1m 1s\n",
            "62:\tlearn: 0.4768717\ttotal: 4.1s\tremaining: 1m 1s\n",
            "63:\tlearn: 0.4764745\ttotal: 4.17s\tremaining: 1m 1s\n",
            "64:\tlearn: 0.4761359\ttotal: 4.25s\tremaining: 1m 1s\n",
            "65:\tlearn: 0.4756631\ttotal: 4.33s\tremaining: 1m 1s\n",
            "66:\tlearn: 0.4752537\ttotal: 4.4s\tremaining: 1m 1s\n",
            "67:\tlearn: 0.4746122\ttotal: 4.47s\tremaining: 1m 1s\n",
            "68:\tlearn: 0.4741974\ttotal: 4.55s\tremaining: 1m 1s\n",
            "69:\tlearn: 0.4738943\ttotal: 4.61s\tremaining: 1m 1s\n",
            "70:\tlearn: 0.4735605\ttotal: 4.68s\tremaining: 1m 1s\n",
            "71:\tlearn: 0.4732165\ttotal: 4.75s\tremaining: 1m 1s\n",
            "72:\tlearn: 0.4728859\ttotal: 4.81s\tremaining: 1m 1s\n",
            "73:\tlearn: 0.4725992\ttotal: 4.88s\tremaining: 1m 1s\n",
            "74:\tlearn: 0.4722185\ttotal: 4.96s\tremaining: 1m 1s\n",
            "75:\tlearn: 0.4720129\ttotal: 5.02s\tremaining: 1m 1s\n",
            "76:\tlearn: 0.4716649\ttotal: 5.09s\tremaining: 1m\n",
            "77:\tlearn: 0.4713905\ttotal: 5.15s\tremaining: 1m\n",
            "78:\tlearn: 0.4711075\ttotal: 5.22s\tremaining: 1m\n",
            "79:\tlearn: 0.4707984\ttotal: 5.3s\tremaining: 1m\n",
            "80:\tlearn: 0.4705051\ttotal: 5.37s\tremaining: 1m\n",
            "81:\tlearn: 0.4700683\ttotal: 5.45s\tremaining: 1m\n",
            "82:\tlearn: 0.4698171\ttotal: 5.51s\tremaining: 1m\n",
            "83:\tlearn: 0.4696608\ttotal: 5.58s\tremaining: 1m\n",
            "84:\tlearn: 0.4692561\ttotal: 5.66s\tremaining: 1m\n",
            "85:\tlearn: 0.4690121\ttotal: 5.73s\tremaining: 1m\n",
            "86:\tlearn: 0.4687262\ttotal: 5.79s\tremaining: 1m\n",
            "87:\tlearn: 0.4685361\ttotal: 5.86s\tremaining: 1m\n",
            "88:\tlearn: 0.4681444\ttotal: 5.93s\tremaining: 1m\n",
            "89:\tlearn: 0.4678859\ttotal: 5.99s\tremaining: 1m\n",
            "90:\tlearn: 0.4676206\ttotal: 6.06s\tremaining: 1m\n",
            "91:\tlearn: 0.4673557\ttotal: 6.13s\tremaining: 1m\n",
            "92:\tlearn: 0.4670799\ttotal: 6.2s\tremaining: 1m\n",
            "93:\tlearn: 0.4668611\ttotal: 6.27s\tremaining: 1m\n",
            "94:\tlearn: 0.4666357\ttotal: 6.34s\tremaining: 1m\n",
            "95:\tlearn: 0.4663612\ttotal: 6.41s\tremaining: 1m\n",
            "96:\tlearn: 0.4662272\ttotal: 6.48s\tremaining: 1m\n",
            "97:\tlearn: 0.4659751\ttotal: 6.55s\tremaining: 1m\n",
            "98:\tlearn: 0.4657670\ttotal: 6.61s\tremaining: 1m\n",
            "99:\tlearn: 0.4656500\ttotal: 6.68s\tremaining: 1m\n",
            "100:\tlearn: 0.4655208\ttotal: 6.75s\tremaining: 1m\n",
            "101:\tlearn: 0.4653421\ttotal: 6.81s\tremaining: 60s\n",
            "102:\tlearn: 0.4652526\ttotal: 6.87s\tremaining: 59.8s\n",
            "103:\tlearn: 0.4650590\ttotal: 6.94s\tremaining: 59.8s\n",
            "104:\tlearn: 0.4648120\ttotal: 7s\tremaining: 59.7s\n",
            "105:\tlearn: 0.4645687\ttotal: 7.07s\tremaining: 59.6s\n",
            "106:\tlearn: 0.4643982\ttotal: 7.14s\tremaining: 59.6s\n",
            "107:\tlearn: 0.4641972\ttotal: 7.21s\tremaining: 59.5s\n",
            "108:\tlearn: 0.4640055\ttotal: 7.28s\tremaining: 59.5s\n",
            "109:\tlearn: 0.4638168\ttotal: 7.35s\tremaining: 59.5s\n",
            "110:\tlearn: 0.4635879\ttotal: 7.42s\tremaining: 59.4s\n",
            "111:\tlearn: 0.4634201\ttotal: 7.49s\tremaining: 59.4s\n",
            "112:\tlearn: 0.4633588\ttotal: 7.53s\tremaining: 59.1s\n",
            "113:\tlearn: 0.4631751\ttotal: 7.6s\tremaining: 59s\n",
            "114:\tlearn: 0.4630877\ttotal: 7.66s\tremaining: 58.9s\n",
            "115:\tlearn: 0.4629579\ttotal: 7.73s\tremaining: 58.9s\n",
            "116:\tlearn: 0.4627579\ttotal: 7.79s\tremaining: 58.8s\n",
            "117:\tlearn: 0.4625543\ttotal: 7.87s\tremaining: 58.8s\n",
            "118:\tlearn: 0.4623703\ttotal: 7.98s\tremaining: 59.1s\n",
            "119:\tlearn: 0.4622436\ttotal: 8.04s\tremaining: 59s\n",
            "120:\tlearn: 0.4621117\ttotal: 8.11s\tremaining: 58.9s\n",
            "121:\tlearn: 0.4619538\ttotal: 8.18s\tremaining: 58.8s\n",
            "122:\tlearn: 0.4618464\ttotal: 8.25s\tremaining: 58.8s\n",
            "123:\tlearn: 0.4617454\ttotal: 8.33s\tremaining: 58.9s\n",
            "124:\tlearn: 0.4615698\ttotal: 8.39s\tremaining: 58.8s\n",
            "125:\tlearn: 0.4613902\ttotal: 8.47s\tremaining: 58.8s\n",
            "126:\tlearn: 0.4613111\ttotal: 8.54s\tremaining: 58.7s\n",
            "127:\tlearn: 0.4611541\ttotal: 8.61s\tremaining: 58.7s\n",
            "128:\tlearn: 0.4609984\ttotal: 8.68s\tremaining: 58.6s\n",
            "129:\tlearn: 0.4608254\ttotal: 8.76s\tremaining: 58.6s\n",
            "130:\tlearn: 0.4606705\ttotal: 8.82s\tremaining: 58.5s\n",
            "131:\tlearn: 0.4605607\ttotal: 8.89s\tremaining: 58.5s\n",
            "132:\tlearn: 0.4604595\ttotal: 8.96s\tremaining: 58.4s\n",
            "133:\tlearn: 0.4603632\ttotal: 9.03s\tremaining: 58.3s\n",
            "134:\tlearn: 0.4601409\ttotal: 9.1s\tremaining: 58.3s\n",
            "135:\tlearn: 0.4600446\ttotal: 9.17s\tremaining: 58.3s\n",
            "136:\tlearn: 0.4599698\ttotal: 9.22s\tremaining: 58.1s\n",
            "137:\tlearn: 0.4598080\ttotal: 9.29s\tremaining: 58s\n",
            "138:\tlearn: 0.4596328\ttotal: 9.38s\tremaining: 58.1s\n",
            "139:\tlearn: 0.4594406\ttotal: 9.44s\tremaining: 58s\n",
            "140:\tlearn: 0.4593428\ttotal: 9.51s\tremaining: 57.9s\n",
            "141:\tlearn: 0.4591612\ttotal: 9.58s\tremaining: 57.9s\n",
            "142:\tlearn: 0.4590562\ttotal: 9.65s\tremaining: 57.8s\n",
            "143:\tlearn: 0.4589353\ttotal: 9.72s\tremaining: 57.8s\n",
            "144:\tlearn: 0.4588696\ttotal: 9.78s\tremaining: 57.7s\n",
            "145:\tlearn: 0.4587401\ttotal: 9.85s\tremaining: 57.6s\n",
            "146:\tlearn: 0.4586789\ttotal: 9.92s\tremaining: 57.6s\n",
            "147:\tlearn: 0.4585714\ttotal: 9.98s\tremaining: 57.5s\n",
            "148:\tlearn: 0.4585035\ttotal: 10s\tremaining: 57.3s\n",
            "149:\tlearn: 0.4583838\ttotal: 10.1s\tremaining: 57.3s\n",
            "150:\tlearn: 0.4582973\ttotal: 10.2s\tremaining: 57.2s\n",
            "151:\tlearn: 0.4581684\ttotal: 10.2s\tremaining: 57.1s\n",
            "152:\tlearn: 0.4580076\ttotal: 10.3s\tremaining: 57.1s\n",
            "153:\tlearn: 0.4579196\ttotal: 10.4s\tremaining: 57.1s\n",
            "154:\tlearn: 0.4578897\ttotal: 10.4s\tremaining: 56.9s\n",
            "155:\tlearn: 0.4577573\ttotal: 10.5s\tremaining: 56.8s\n",
            "156:\tlearn: 0.4576589\ttotal: 10.6s\tremaining: 56.8s\n",
            "157:\tlearn: 0.4575685\ttotal: 10.6s\tremaining: 56.7s\n",
            "158:\tlearn: 0.4574506\ttotal: 10.7s\tremaining: 56.7s\n",
            "159:\tlearn: 0.4573701\ttotal: 10.8s\tremaining: 56.6s\n",
            "160:\tlearn: 0.4572144\ttotal: 10.8s\tremaining: 56.5s\n",
            "161:\tlearn: 0.4570814\ttotal: 10.9s\tremaining: 56.4s\n",
            "162:\tlearn: 0.4569809\ttotal: 11s\tremaining: 56.4s\n",
            "163:\tlearn: 0.4567797\ttotal: 11.1s\tremaining: 56.3s\n",
            "164:\tlearn: 0.4566410\ttotal: 11.1s\tremaining: 56.3s\n",
            "165:\tlearn: 0.4564837\ttotal: 11.2s\tremaining: 56.2s\n",
            "166:\tlearn: 0.4563907\ttotal: 11.3s\tremaining: 56.2s\n",
            "167:\tlearn: 0.4563257\ttotal: 11.3s\tremaining: 56s\n",
            "168:\tlearn: 0.4562128\ttotal: 11.4s\tremaining: 56.1s\n",
            "169:\tlearn: 0.4561291\ttotal: 11.5s\tremaining: 56s\n",
            "170:\tlearn: 0.4559989\ttotal: 11.6s\tremaining: 56s\n",
            "171:\tlearn: 0.4558799\ttotal: 11.6s\tremaining: 56s\n",
            "172:\tlearn: 0.4557544\ttotal: 11.7s\tremaining: 55.9s\n",
            "173:\tlearn: 0.4557241\ttotal: 11.8s\tremaining: 56s\n",
            "174:\tlearn: 0.4555171\ttotal: 11.9s\tremaining: 55.9s\n",
            "175:\tlearn: 0.4553937\ttotal: 11.9s\tremaining: 55.9s\n",
            "176:\tlearn: 0.4552453\ttotal: 12s\tremaining: 55.8s\n",
            "177:\tlearn: 0.4551760\ttotal: 12.1s\tremaining: 55.8s\n",
            "178:\tlearn: 0.4550723\ttotal: 12.1s\tremaining: 55.7s\n",
            "179:\tlearn: 0.4550723\ttotal: 12.2s\tremaining: 55.4s\n",
            "180:\tlearn: 0.4550067\ttotal: 12.2s\tremaining: 55.4s\n",
            "181:\tlearn: 0.4549473\ttotal: 12.3s\tremaining: 55.3s\n",
            "182:\tlearn: 0.4548139\ttotal: 12.4s\tremaining: 55.3s\n",
            "183:\tlearn: 0.4546802\ttotal: 12.5s\tremaining: 55.2s\n",
            "184:\tlearn: 0.4546321\ttotal: 12.5s\tremaining: 55.2s\n",
            "185:\tlearn: 0.4545872\ttotal: 12.6s\tremaining: 55s\n",
            "186:\tlearn: 0.4545246\ttotal: 12.6s\tremaining: 55s\n",
            "187:\tlearn: 0.4544141\ttotal: 12.7s\tremaining: 54.9s\n",
            "188:\tlearn: 0.4543716\ttotal: 12.8s\tremaining: 54.8s\n",
            "189:\tlearn: 0.4543602\ttotal: 12.8s\tremaining: 54.6s\n",
            "190:\tlearn: 0.4543144\ttotal: 12.9s\tremaining: 54.5s\n",
            "191:\tlearn: 0.4542819\ttotal: 12.9s\tremaining: 54.4s\n",
            "192:\tlearn: 0.4542207\ttotal: 13s\tremaining: 54.3s\n",
            "193:\tlearn: 0.4540653\ttotal: 13.1s\tremaining: 54.3s\n",
            "194:\tlearn: 0.4540171\ttotal: 13.1s\tremaining: 54.3s\n",
            "195:\tlearn: 0.4539254\ttotal: 13.2s\tremaining: 54.2s\n",
            "196:\tlearn: 0.4538463\ttotal: 13.3s\tremaining: 54.2s\n",
            "197:\tlearn: 0.4537256\ttotal: 13.4s\tremaining: 54.1s\n",
            "198:\tlearn: 0.4536227\ttotal: 13.5s\tremaining: 54.1s\n",
            "199:\tlearn: 0.4534648\ttotal: 13.5s\tremaining: 54.1s\n",
            "200:\tlearn: 0.4534228\ttotal: 13.6s\tremaining: 54s\n",
            "201:\tlearn: 0.4534115\ttotal: 13.6s\tremaining: 53.9s\n",
            "202:\tlearn: 0.4533024\ttotal: 13.7s\tremaining: 53.8s\n",
            "203:\tlearn: 0.4532241\ttotal: 13.8s\tremaining: 53.7s\n",
            "204:\tlearn: 0.4531356\ttotal: 13.8s\tremaining: 53.7s\n",
            "205:\tlearn: 0.4529231\ttotal: 13.9s\tremaining: 53.6s\n",
            "206:\tlearn: 0.4528232\ttotal: 14s\tremaining: 53.6s\n",
            "207:\tlearn: 0.4527517\ttotal: 14.1s\tremaining: 53.5s\n",
            "208:\tlearn: 0.4526663\ttotal: 14.1s\tremaining: 53.4s\n",
            "209:\tlearn: 0.4526521\ttotal: 14.2s\tremaining: 53.4s\n",
            "210:\tlearn: 0.4526455\ttotal: 14.2s\tremaining: 53.1s\n",
            "211:\tlearn: 0.4524517\ttotal: 14.3s\tremaining: 53.1s\n",
            "212:\tlearn: 0.4523075\ttotal: 14.3s\tremaining: 53s\n",
            "213:\tlearn: 0.4521981\ttotal: 14.4s\tremaining: 53s\n",
            "214:\tlearn: 0.4521531\ttotal: 14.5s\tremaining: 52.9s\n",
            "215:\tlearn: 0.4521112\ttotal: 14.6s\tremaining: 52.9s\n",
            "216:\tlearn: 0.4520365\ttotal: 14.6s\tremaining: 52.8s\n",
            "217:\tlearn: 0.4519454\ttotal: 14.7s\tremaining: 52.7s\n",
            "218:\tlearn: 0.4518432\ttotal: 14.8s\tremaining: 52.7s\n",
            "219:\tlearn: 0.4518038\ttotal: 14.8s\tremaining: 52.6s\n",
            "220:\tlearn: 0.4516522\ttotal: 14.9s\tremaining: 52.6s\n",
            "221:\tlearn: 0.4515439\ttotal: 15s\tremaining: 52.5s\n",
            "222:\tlearn: 0.4514044\ttotal: 15s\tremaining: 52.4s\n",
            "223:\tlearn: 0.4512527\ttotal: 15.1s\tremaining: 52.3s\n",
            "224:\tlearn: 0.4510536\ttotal: 15.2s\tremaining: 52.3s\n",
            "225:\tlearn: 0.4509340\ttotal: 15.2s\tremaining: 52.2s\n",
            "226:\tlearn: 0.4508568\ttotal: 15.3s\tremaining: 52.1s\n",
            "227:\tlearn: 0.4507421\ttotal: 15.4s\tremaining: 52s\n",
            "228:\tlearn: 0.4507019\ttotal: 15.4s\tremaining: 52s\n",
            "229:\tlearn: 0.4505892\ttotal: 15.5s\tremaining: 51.9s\n",
            "230:\tlearn: 0.4505851\ttotal: 15.5s\tremaining: 51.8s\n",
            "231:\tlearn: 0.4505241\ttotal: 15.6s\tremaining: 51.7s\n",
            "232:\tlearn: 0.4504440\ttotal: 15.7s\tremaining: 51.6s\n",
            "233:\tlearn: 0.4504166\ttotal: 15.7s\tremaining: 51.5s\n",
            "234:\tlearn: 0.4503675\ttotal: 15.8s\tremaining: 51.4s\n",
            "235:\tlearn: 0.4503641\ttotal: 15.9s\tremaining: 51.3s\n",
            "236:\tlearn: 0.4503531\ttotal: 15.9s\tremaining: 51.3s\n",
            "237:\tlearn: 0.4502785\ttotal: 16s\tremaining: 51.2s\n",
            "238:\tlearn: 0.4502286\ttotal: 16.1s\tremaining: 51.1s\n",
            "239:\tlearn: 0.4501010\ttotal: 16.1s\tremaining: 51.1s\n",
            "240:\tlearn: 0.4500953\ttotal: 16.2s\tremaining: 51s\n",
            "241:\tlearn: 0.4500727\ttotal: 16.2s\tremaining: 50.9s\n",
            "242:\tlearn: 0.4498766\ttotal: 16.3s\tremaining: 50.8s\n",
            "243:\tlearn: 0.4497723\ttotal: 16.4s\tremaining: 50.8s\n",
            "244:\tlearn: 0.4496231\ttotal: 16.5s\tremaining: 50.7s\n",
            "245:\tlearn: 0.4495222\ttotal: 16.5s\tremaining: 50.7s\n",
            "246:\tlearn: 0.4494115\ttotal: 16.6s\tremaining: 50.6s\n",
            "247:\tlearn: 0.4493362\ttotal: 16.7s\tremaining: 50.5s\n",
            "248:\tlearn: 0.4491790\ttotal: 16.7s\tremaining: 50.5s\n",
            "249:\tlearn: 0.4490420\ttotal: 16.8s\tremaining: 50.4s\n",
            "250:\tlearn: 0.4490064\ttotal: 16.9s\tremaining: 50.4s\n",
            "251:\tlearn: 0.4489419\ttotal: 16.9s\tremaining: 50.3s\n",
            "252:\tlearn: 0.4487909\ttotal: 17s\tremaining: 50.2s\n",
            "253:\tlearn: 0.4487746\ttotal: 17.1s\tremaining: 50.2s\n",
            "254:\tlearn: 0.4487175\ttotal: 17.2s\tremaining: 50.1s\n",
            "255:\tlearn: 0.4486877\ttotal: 17.2s\tremaining: 50.1s\n",
            "256:\tlearn: 0.4486610\ttotal: 17.3s\tremaining: 50s\n",
            "257:\tlearn: 0.4485724\ttotal: 17.4s\tremaining: 49.9s\n",
            "258:\tlearn: 0.4483743\ttotal: 17.4s\tremaining: 49.9s\n",
            "259:\tlearn: 0.4483716\ttotal: 17.5s\tremaining: 49.8s\n",
            "260:\tlearn: 0.4483049\ttotal: 17.5s\tremaining: 49.7s\n",
            "261:\tlearn: 0.4483036\ttotal: 17.6s\tremaining: 49.6s\n",
            "262:\tlearn: 0.4482328\ttotal: 17.7s\tremaining: 49.5s\n",
            "263:\tlearn: 0.4481412\ttotal: 17.7s\tremaining: 49.5s\n",
            "264:\tlearn: 0.4480928\ttotal: 17.8s\tremaining: 49.4s\n",
            "265:\tlearn: 0.4480286\ttotal: 17.9s\tremaining: 49.3s\n",
            "266:\tlearn: 0.4479735\ttotal: 17.9s\tremaining: 49.3s\n",
            "267:\tlearn: 0.4479097\ttotal: 18s\tremaining: 49.2s\n",
            "268:\tlearn: 0.4478399\ttotal: 18.1s\tremaining: 49.1s\n",
            "269:\tlearn: 0.4478243\ttotal: 18.1s\tremaining: 49.1s\n",
            "270:\tlearn: 0.4478013\ttotal: 18.2s\tremaining: 49s\n",
            "271:\tlearn: 0.4477748\ttotal: 18.3s\tremaining: 48.9s\n",
            "272:\tlearn: 0.4476861\ttotal: 18.3s\tremaining: 48.8s\n",
            "273:\tlearn: 0.4476402\ttotal: 18.4s\tremaining: 48.8s\n",
            "274:\tlearn: 0.4476301\ttotal: 18.5s\tremaining: 48.7s\n",
            "275:\tlearn: 0.4474975\ttotal: 18.5s\tremaining: 48.7s\n",
            "276:\tlearn: 0.4474019\ttotal: 18.6s\tremaining: 48.6s\n",
            "277:\tlearn: 0.4473259\ttotal: 18.7s\tremaining: 48.5s\n",
            "278:\tlearn: 0.4472514\ttotal: 18.7s\tremaining: 48.4s\n",
            "279:\tlearn: 0.4470965\ttotal: 18.8s\tremaining: 48.4s\n",
            "280:\tlearn: 0.4470685\ttotal: 18.9s\tremaining: 48.3s\n",
            "281:\tlearn: 0.4468209\ttotal: 19s\tremaining: 48.3s\n",
            "282:\tlearn: 0.4465914\ttotal: 19s\tremaining: 48.2s\n",
            "283:\tlearn: 0.4465329\ttotal: 19.1s\tremaining: 48.2s\n",
            "284:\tlearn: 0.4464485\ttotal: 19.2s\tremaining: 48.1s\n",
            "285:\tlearn: 0.4462898\ttotal: 19.3s\tremaining: 48.1s\n",
            "286:\tlearn: 0.4462686\ttotal: 19.3s\tremaining: 48s\n",
            "287:\tlearn: 0.4462197\ttotal: 19.4s\tremaining: 47.9s\n",
            "288:\tlearn: 0.4461782\ttotal: 19.5s\tremaining: 47.9s\n",
            "289:\tlearn: 0.4461067\ttotal: 19.5s\tremaining: 47.8s\n",
            "290:\tlearn: 0.4460541\ttotal: 19.6s\tremaining: 47.8s\n",
            "291:\tlearn: 0.4460058\ttotal: 19.7s\tremaining: 47.7s\n",
            "292:\tlearn: 0.4458158\ttotal: 19.8s\tremaining: 47.7s\n",
            "293:\tlearn: 0.4456848\ttotal: 19.8s\tremaining: 47.6s\n",
            "294:\tlearn: 0.4456808\ttotal: 19.9s\tremaining: 47.5s\n",
            "295:\tlearn: 0.4456045\ttotal: 20s\tremaining: 47.5s\n",
            "296:\tlearn: 0.4454820\ttotal: 20s\tremaining: 47.4s\n",
            "297:\tlearn: 0.4454679\ttotal: 20.1s\tremaining: 47.3s\n",
            "298:\tlearn: 0.4453472\ttotal: 20.2s\tremaining: 47.3s\n",
            "299:\tlearn: 0.4452479\ttotal: 20.2s\tremaining: 47.2s\n",
            "300:\tlearn: 0.4451172\ttotal: 20.3s\tremaining: 47.2s\n",
            "301:\tlearn: 0.4449847\ttotal: 20.4s\tremaining: 47.1s\n",
            "302:\tlearn: 0.4449347\ttotal: 20.5s\tremaining: 47.1s\n",
            "303:\tlearn: 0.4448736\ttotal: 20.5s\tremaining: 47s\n",
            "304:\tlearn: 0.4447650\ttotal: 20.6s\tremaining: 47s\n",
            "305:\tlearn: 0.4446177\ttotal: 20.7s\tremaining: 46.9s\n",
            "306:\tlearn: 0.4444423\ttotal: 20.8s\tremaining: 46.9s\n",
            "307:\tlearn: 0.4444102\ttotal: 20.8s\tremaining: 46.8s\n",
            "308:\tlearn: 0.4443608\ttotal: 20.9s\tremaining: 46.8s\n",
            "309:\tlearn: 0.4442213\ttotal: 21s\tremaining: 46.7s\n",
            "310:\tlearn: 0.4441532\ttotal: 21.1s\tremaining: 46.7s\n",
            "311:\tlearn: 0.4440635\ttotal: 21.1s\tremaining: 46.6s\n",
            "312:\tlearn: 0.4438345\ttotal: 21.2s\tremaining: 46.6s\n",
            "313:\tlearn: 0.4437886\ttotal: 21.3s\tremaining: 46.5s\n",
            "314:\tlearn: 0.4437630\ttotal: 21.4s\tremaining: 46.5s\n",
            "315:\tlearn: 0.4436783\ttotal: 21.4s\tremaining: 46.4s\n",
            "316:\tlearn: 0.4436302\ttotal: 21.5s\tremaining: 46.3s\n",
            "317:\tlearn: 0.4435075\ttotal: 21.6s\tremaining: 46.3s\n",
            "318:\tlearn: 0.4434380\ttotal: 21.7s\tremaining: 46.3s\n",
            "319:\tlearn: 0.4433399\ttotal: 21.8s\tremaining: 46.3s\n",
            "320:\tlearn: 0.4432920\ttotal: 21.8s\tremaining: 46.2s\n",
            "321:\tlearn: 0.4432029\ttotal: 21.9s\tremaining: 46.1s\n",
            "322:\tlearn: 0.4430662\ttotal: 22s\tremaining: 46s\n",
            "323:\tlearn: 0.4429684\ttotal: 22s\tremaining: 46s\n",
            "324:\tlearn: 0.4428746\ttotal: 22.1s\tremaining: 45.9s\n",
            "325:\tlearn: 0.4427953\ttotal: 22.2s\tremaining: 45.9s\n",
            "326:\tlearn: 0.4427709\ttotal: 22.2s\tremaining: 45.8s\n",
            "327:\tlearn: 0.4427249\ttotal: 22.3s\tremaining: 45.7s\n",
            "328:\tlearn: 0.4426435\ttotal: 22.4s\tremaining: 45.7s\n",
            "329:\tlearn: 0.4426196\ttotal: 22.5s\tremaining: 45.6s\n",
            "330:\tlearn: 0.4425719\ttotal: 22.5s\tremaining: 45.5s\n",
            "331:\tlearn: 0.4425495\ttotal: 22.6s\tremaining: 45.5s\n",
            "332:\tlearn: 0.4425250\ttotal: 22.7s\tremaining: 45.4s\n",
            "333:\tlearn: 0.4424967\ttotal: 22.7s\tremaining: 45.3s\n",
            "334:\tlearn: 0.4424313\ttotal: 22.8s\tremaining: 45.3s\n",
            "335:\tlearn: 0.4423869\ttotal: 22.9s\tremaining: 45.2s\n",
            "336:\tlearn: 0.4423198\ttotal: 22.9s\tremaining: 45.1s\n",
            "337:\tlearn: 0.4422968\ttotal: 23s\tremaining: 45.1s\n",
            "338:\tlearn: 0.4422491\ttotal: 23.1s\tremaining: 45s\n",
            "339:\tlearn: 0.4422142\ttotal: 23.1s\tremaining: 44.9s\n",
            "340:\tlearn: 0.4421895\ttotal: 23.2s\tremaining: 44.8s\n",
            "341:\tlearn: 0.4421228\ttotal: 23.3s\tremaining: 44.8s\n",
            "342:\tlearn: 0.4419925\ttotal: 23.3s\tremaining: 44.7s\n",
            "343:\tlearn: 0.4418432\ttotal: 23.4s\tremaining: 44.7s\n",
            "344:\tlearn: 0.4418395\ttotal: 23.5s\tremaining: 44.6s\n",
            "345:\tlearn: 0.4417807\ttotal: 23.6s\tremaining: 44.5s\n",
            "346:\tlearn: 0.4417475\ttotal: 23.6s\tremaining: 44.4s\n",
            "347:\tlearn: 0.4415570\ttotal: 23.7s\tremaining: 44.4s\n",
            "348:\tlearn: 0.4414643\ttotal: 23.8s\tremaining: 44.3s\n",
            "349:\tlearn: 0.4414407\ttotal: 23.8s\tremaining: 44.2s\n",
            "350:\tlearn: 0.4413312\ttotal: 23.9s\tremaining: 44.1s\n",
            "351:\tlearn: 0.4412586\ttotal: 23.9s\tremaining: 44.1s\n",
            "352:\tlearn: 0.4411031\ttotal: 24s\tremaining: 44s\n",
            "353:\tlearn: 0.4410508\ttotal: 24.1s\tremaining: 43.9s\n",
            "354:\tlearn: 0.4410464\ttotal: 24.1s\tremaining: 43.9s\n",
            "355:\tlearn: 0.4409831\ttotal: 24.2s\tremaining: 43.8s\n",
            "356:\tlearn: 0.4409382\ttotal: 24.3s\tremaining: 43.7s\n",
            "357:\tlearn: 0.4408147\ttotal: 24.3s\tremaining: 43.7s\n",
            "358:\tlearn: 0.4407720\ttotal: 24.4s\tremaining: 43.6s\n",
            "359:\tlearn: 0.4407089\ttotal: 24.5s\tremaining: 43.5s\n",
            "360:\tlearn: 0.4405999\ttotal: 24.6s\tremaining: 43.5s\n",
            "361:\tlearn: 0.4405012\ttotal: 24.6s\tremaining: 43.4s\n",
            "362:\tlearn: 0.4403939\ttotal: 24.7s\tremaining: 43.3s\n",
            "363:\tlearn: 0.4403406\ttotal: 24.8s\tremaining: 43.3s\n",
            "364:\tlearn: 0.4402130\ttotal: 24.8s\tremaining: 43.2s\n",
            "365:\tlearn: 0.4401492\ttotal: 24.9s\tremaining: 43.1s\n",
            "366:\tlearn: 0.4400966\ttotal: 25s\tremaining: 43s\n",
            "367:\tlearn: 0.4400078\ttotal: 25s\tremaining: 43s\n",
            "368:\tlearn: 0.4399785\ttotal: 25.1s\tremaining: 42.9s\n",
            "369:\tlearn: 0.4399560\ttotal: 25.1s\tremaining: 42.8s\n",
            "370:\tlearn: 0.4399050\ttotal: 25.2s\tremaining: 42.8s\n",
            "371:\tlearn: 0.4398347\ttotal: 25.3s\tremaining: 42.7s\n",
            "372:\tlearn: 0.4397079\ttotal: 25.4s\tremaining: 42.6s\n",
            "373:\tlearn: 0.4396488\ttotal: 25.4s\tremaining: 42.5s\n",
            "374:\tlearn: 0.4396167\ttotal: 25.5s\tremaining: 42.5s\n",
            "375:\tlearn: 0.4395643\ttotal: 25.6s\tremaining: 42.4s\n",
            "376:\tlearn: 0.4395220\ttotal: 25.6s\tremaining: 42.3s\n",
            "377:\tlearn: 0.4394894\ttotal: 25.7s\tremaining: 42.3s\n",
            "378:\tlearn: 0.4393925\ttotal: 25.8s\tremaining: 42.2s\n",
            "379:\tlearn: 0.4392464\ttotal: 25.8s\tremaining: 42.2s\n",
            "380:\tlearn: 0.4392038\ttotal: 25.9s\tremaining: 42.1s\n",
            "381:\tlearn: 0.4391835\ttotal: 26s\tremaining: 42s\n",
            "382:\tlearn: 0.4391117\ttotal: 26s\tremaining: 41.9s\n",
            "383:\tlearn: 0.4391021\ttotal: 26.1s\tremaining: 41.9s\n",
            "384:\tlearn: 0.4390597\ttotal: 26.2s\tremaining: 41.8s\n",
            "385:\tlearn: 0.4389819\ttotal: 26.2s\tremaining: 41.7s\n",
            "386:\tlearn: 0.4389058\ttotal: 26.3s\tremaining: 41.6s\n",
            "387:\tlearn: 0.4388819\ttotal: 26.4s\tremaining: 41.6s\n",
            "388:\tlearn: 0.4388663\ttotal: 26.4s\tremaining: 41.5s\n",
            "389:\tlearn: 0.4387291\ttotal: 26.5s\tremaining: 41.4s\n",
            "390:\tlearn: 0.4386509\ttotal: 26.6s\tremaining: 41.4s\n",
            "391:\tlearn: 0.4385745\ttotal: 26.6s\tremaining: 41.3s\n",
            "392:\tlearn: 0.4385277\ttotal: 26.7s\tremaining: 41.2s\n",
            "393:\tlearn: 0.4384545\ttotal: 26.8s\tremaining: 41.2s\n",
            "394:\tlearn: 0.4383310\ttotal: 26.8s\tremaining: 41.1s\n",
            "395:\tlearn: 0.4382909\ttotal: 26.9s\tremaining: 41s\n",
            "396:\tlearn: 0.4382871\ttotal: 27s\tremaining: 41s\n",
            "397:\tlearn: 0.4381895\ttotal: 27s\tremaining: 40.9s\n",
            "398:\tlearn: 0.4381446\ttotal: 27.1s\tremaining: 40.8s\n",
            "399:\tlearn: 0.4380195\ttotal: 27.2s\tremaining: 40.8s\n",
            "400:\tlearn: 0.4380027\ttotal: 27.2s\tremaining: 40.7s\n",
            "401:\tlearn: 0.4379298\ttotal: 27.3s\tremaining: 40.6s\n",
            "402:\tlearn: 0.4378602\ttotal: 27.4s\tremaining: 40.6s\n",
            "403:\tlearn: 0.4378456\ttotal: 27.4s\tremaining: 40.5s\n",
            "404:\tlearn: 0.4377198\ttotal: 27.5s\tremaining: 40.4s\n",
            "405:\tlearn: 0.4376433\ttotal: 27.6s\tremaining: 40.4s\n",
            "406:\tlearn: 0.4376109\ttotal: 27.6s\tremaining: 40.3s\n",
            "407:\tlearn: 0.4375938\ttotal: 27.7s\tremaining: 40.2s\n",
            "408:\tlearn: 0.4374826\ttotal: 27.8s\tremaining: 40.1s\n",
            "409:\tlearn: 0.4374183\ttotal: 27.9s\tremaining: 40.1s\n",
            "410:\tlearn: 0.4373671\ttotal: 27.9s\tremaining: 40s\n",
            "411:\tlearn: 0.4373046\ttotal: 28s\tremaining: 40s\n",
            "412:\tlearn: 0.4372291\ttotal: 28.1s\tremaining: 39.9s\n",
            "413:\tlearn: 0.4371636\ttotal: 28.1s\tremaining: 39.8s\n",
            "414:\tlearn: 0.4370793\ttotal: 28.2s\tremaining: 39.8s\n",
            "415:\tlearn: 0.4370388\ttotal: 28.3s\tremaining: 39.7s\n",
            "416:\tlearn: 0.4369976\ttotal: 28.3s\tremaining: 39.6s\n",
            "417:\tlearn: 0.4369074\ttotal: 28.4s\tremaining: 39.5s\n",
            "418:\tlearn: 0.4367387\ttotal: 28.5s\tremaining: 39.5s\n",
            "419:\tlearn: 0.4367027\ttotal: 28.5s\tremaining: 39.4s\n",
            "420:\tlearn: 0.4366759\ttotal: 28.6s\tremaining: 39.3s\n",
            "421:\tlearn: 0.4366667\ttotal: 28.7s\tremaining: 39.3s\n",
            "422:\tlearn: 0.4366522\ttotal: 28.7s\tremaining: 39.2s\n",
            "423:\tlearn: 0.4364980\ttotal: 28.8s\tremaining: 39.1s\n",
            "424:\tlearn: 0.4364295\ttotal: 28.9s\tremaining: 39s\n",
            "425:\tlearn: 0.4364039\ttotal: 28.9s\tremaining: 39s\n",
            "426:\tlearn: 0.4363924\ttotal: 29s\tremaining: 38.9s\n",
            "427:\tlearn: 0.4363463\ttotal: 29.1s\tremaining: 38.8s\n",
            "428:\tlearn: 0.4362688\ttotal: 29.1s\tremaining: 38.8s\n",
            "429:\tlearn: 0.4361836\ttotal: 29.2s\tremaining: 38.7s\n",
            "430:\tlearn: 0.4361085\ttotal: 29.3s\tremaining: 38.6s\n",
            "431:\tlearn: 0.4360660\ttotal: 29.3s\tremaining: 38.5s\n",
            "432:\tlearn: 0.4359316\ttotal: 29.4s\tremaining: 38.5s\n",
            "433:\tlearn: 0.4358999\ttotal: 29.4s\tremaining: 38.4s\n",
            "434:\tlearn: 0.4358296\ttotal: 29.5s\tremaining: 38.3s\n",
            "435:\tlearn: 0.4357442\ttotal: 29.6s\tremaining: 38.3s\n",
            "436:\tlearn: 0.4356872\ttotal: 29.7s\tremaining: 38.2s\n",
            "437:\tlearn: 0.4356613\ttotal: 29.7s\tremaining: 38.1s\n",
            "438:\tlearn: 0.4356021\ttotal: 29.8s\tremaining: 38.1s\n",
            "439:\tlearn: 0.4355396\ttotal: 29.9s\tremaining: 38s\n",
            "440:\tlearn: 0.4354322\ttotal: 29.9s\tremaining: 38s\n",
            "441:\tlearn: 0.4352562\ttotal: 30s\tremaining: 37.9s\n",
            "442:\tlearn: 0.4351736\ttotal: 30.1s\tremaining: 37.8s\n",
            "443:\tlearn: 0.4351592\ttotal: 30.1s\tremaining: 37.7s\n",
            "444:\tlearn: 0.4350836\ttotal: 30.2s\tremaining: 37.7s\n",
            "445:\tlearn: 0.4350342\ttotal: 30.3s\tremaining: 37.6s\n",
            "446:\tlearn: 0.4349863\ttotal: 30.3s\tremaining: 37.5s\n",
            "447:\tlearn: 0.4348980\ttotal: 30.4s\tremaining: 37.5s\n",
            "448:\tlearn: 0.4347852\ttotal: 30.5s\tremaining: 37.4s\n",
            "449:\tlearn: 0.4346717\ttotal: 30.5s\tremaining: 37.3s\n",
            "450:\tlearn: 0.4346362\ttotal: 30.6s\tremaining: 37.3s\n",
            "451:\tlearn: 0.4345958\ttotal: 30.7s\tremaining: 37.2s\n",
            "452:\tlearn: 0.4345550\ttotal: 30.8s\tremaining: 37.1s\n",
            "453:\tlearn: 0.4345332\ttotal: 30.8s\tremaining: 37.1s\n",
            "454:\tlearn: 0.4344506\ttotal: 30.9s\tremaining: 37s\n",
            "455:\tlearn: 0.4343898\ttotal: 31s\tremaining: 36.9s\n",
            "456:\tlearn: 0.4342645\ttotal: 31s\tremaining: 36.9s\n",
            "457:\tlearn: 0.4341818\ttotal: 31.1s\tremaining: 36.8s\n",
            "458:\tlearn: 0.4341671\ttotal: 31.2s\tremaining: 36.7s\n",
            "459:\tlearn: 0.4341378\ttotal: 31.2s\tremaining: 36.7s\n",
            "460:\tlearn: 0.4341191\ttotal: 31.3s\tremaining: 36.6s\n",
            "461:\tlearn: 0.4340642\ttotal: 31.3s\tremaining: 36.5s\n",
            "462:\tlearn: 0.4340235\ttotal: 31.4s\tremaining: 36.4s\n",
            "463:\tlearn: 0.4339995\ttotal: 31.5s\tremaining: 36.4s\n",
            "464:\tlearn: 0.4339868\ttotal: 31.5s\tremaining: 36.3s\n",
            "465:\tlearn: 0.4339629\ttotal: 31.6s\tremaining: 36.2s\n",
            "466:\tlearn: 0.4339328\ttotal: 31.7s\tremaining: 36.1s\n",
            "467:\tlearn: 0.4338498\ttotal: 31.7s\tremaining: 36.1s\n",
            "468:\tlearn: 0.4338098\ttotal: 31.8s\tremaining: 36s\n",
            "469:\tlearn: 0.4337575\ttotal: 31.9s\tremaining: 35.9s\n",
            "470:\tlearn: 0.4337415\ttotal: 31.9s\tremaining: 35.8s\n",
            "471:\tlearn: 0.4337074\ttotal: 32s\tremaining: 35.8s\n",
            "472:\tlearn: 0.4336747\ttotal: 32s\tremaining: 35.7s\n",
            "473:\tlearn: 0.4335644\ttotal: 32.1s\tremaining: 35.6s\n",
            "474:\tlearn: 0.4335457\ttotal: 32.2s\tremaining: 35.6s\n",
            "475:\tlearn: 0.4334991\ttotal: 32.2s\tremaining: 35.5s\n",
            "476:\tlearn: 0.4334900\ttotal: 32.3s\tremaining: 35.4s\n",
            "477:\tlearn: 0.4334707\ttotal: 32.4s\tremaining: 35.3s\n",
            "478:\tlearn: 0.4334226\ttotal: 32.4s\tremaining: 35.3s\n",
            "479:\tlearn: 0.4333602\ttotal: 32.5s\tremaining: 35.2s\n",
            "480:\tlearn: 0.4332886\ttotal: 32.6s\tremaining: 35.1s\n",
            "481:\tlearn: 0.4332103\ttotal: 32.6s\tremaining: 35.1s\n",
            "482:\tlearn: 0.4331533\ttotal: 32.7s\tremaining: 35s\n",
            "483:\tlearn: 0.4330442\ttotal: 32.8s\tremaining: 34.9s\n",
            "484:\tlearn: 0.4329546\ttotal: 32.8s\tremaining: 34.9s\n",
            "485:\tlearn: 0.4329466\ttotal: 32.9s\tremaining: 34.8s\n",
            "486:\tlearn: 0.4329122\ttotal: 33s\tremaining: 34.7s\n",
            "487:\tlearn: 0.4328457\ttotal: 33.1s\tremaining: 34.7s\n",
            "488:\tlearn: 0.4328418\ttotal: 33.1s\tremaining: 34.6s\n",
            "489:\tlearn: 0.4328044\ttotal: 33.2s\tremaining: 34.5s\n",
            "490:\tlearn: 0.4327234\ttotal: 33.2s\tremaining: 34.5s\n",
            "491:\tlearn: 0.4326369\ttotal: 33.3s\tremaining: 34.4s\n",
            "492:\tlearn: 0.4326017\ttotal: 33.4s\tremaining: 34.3s\n",
            "493:\tlearn: 0.4324960\ttotal: 33.5s\tremaining: 34.3s\n",
            "494:\tlearn: 0.4324793\ttotal: 33.5s\tremaining: 34.2s\n",
            "495:\tlearn: 0.4324421\ttotal: 33.6s\tremaining: 34.1s\n",
            "496:\tlearn: 0.4323621\ttotal: 33.7s\tremaining: 34.1s\n",
            "497:\tlearn: 0.4322847\ttotal: 33.7s\tremaining: 34s\n",
            "498:\tlearn: 0.4322800\ttotal: 33.8s\tremaining: 33.9s\n",
            "499:\tlearn: 0.4322204\ttotal: 33.9s\tremaining: 33.9s\n",
            "500:\tlearn: 0.4321830\ttotal: 33.9s\tremaining: 33.8s\n",
            "501:\tlearn: 0.4321064\ttotal: 34s\tremaining: 33.7s\n",
            "502:\tlearn: 0.4320158\ttotal: 34.1s\tremaining: 33.7s\n",
            "503:\tlearn: 0.4319685\ttotal: 34.1s\tremaining: 33.6s\n",
            "504:\tlearn: 0.4318524\ttotal: 34.2s\tremaining: 33.5s\n",
            "505:\tlearn: 0.4318167\ttotal: 34.3s\tremaining: 33.4s\n",
            "506:\tlearn: 0.4317704\ttotal: 34.3s\tremaining: 33.4s\n",
            "507:\tlearn: 0.4317637\ttotal: 34.4s\tremaining: 33.3s\n",
            "508:\tlearn: 0.4316362\ttotal: 34.5s\tremaining: 33.2s\n",
            "509:\tlearn: 0.4315157\ttotal: 34.5s\tremaining: 33.2s\n",
            "510:\tlearn: 0.4314486\ttotal: 34.6s\tremaining: 33.1s\n",
            "511:\tlearn: 0.4313629\ttotal: 34.7s\tremaining: 33.1s\n",
            "512:\tlearn: 0.4313485\ttotal: 34.7s\tremaining: 33s\n",
            "513:\tlearn: 0.4313238\ttotal: 34.8s\tremaining: 32.9s\n",
            "514:\tlearn: 0.4313077\ttotal: 34.9s\tremaining: 32.8s\n",
            "515:\tlearn: 0.4312662\ttotal: 34.9s\tremaining: 32.8s\n",
            "516:\tlearn: 0.4312470\ttotal: 35s\tremaining: 32.7s\n",
            "517:\tlearn: 0.4312033\ttotal: 35.1s\tremaining: 32.6s\n",
            "518:\tlearn: 0.4311698\ttotal: 35.1s\tremaining: 32.6s\n",
            "519:\tlearn: 0.4311230\ttotal: 35.2s\tremaining: 32.5s\n",
            "520:\tlearn: 0.4310585\ttotal: 35.3s\tremaining: 32.4s\n",
            "521:\tlearn: 0.4310211\ttotal: 35.3s\tremaining: 32.4s\n",
            "522:\tlearn: 0.4310009\ttotal: 35.4s\tremaining: 32.3s\n",
            "523:\tlearn: 0.4308938\ttotal: 35.5s\tremaining: 32.2s\n",
            "524:\tlearn: 0.4308251\ttotal: 35.5s\tremaining: 32.2s\n",
            "525:\tlearn: 0.4307943\ttotal: 35.6s\tremaining: 32.1s\n",
            "526:\tlearn: 0.4307140\ttotal: 35.7s\tremaining: 32s\n",
            "527:\tlearn: 0.4306491\ttotal: 35.8s\tremaining: 32s\n",
            "528:\tlearn: 0.4306081\ttotal: 35.8s\tremaining: 31.9s\n",
            "529:\tlearn: 0.4305277\ttotal: 35.9s\tremaining: 31.8s\n",
            "530:\tlearn: 0.4304146\ttotal: 36s\tremaining: 31.8s\n",
            "531:\tlearn: 0.4303259\ttotal: 36s\tremaining: 31.7s\n",
            "532:\tlearn: 0.4302522\ttotal: 36.1s\tremaining: 31.6s\n",
            "533:\tlearn: 0.4302350\ttotal: 36.2s\tremaining: 31.5s\n",
            "534:\tlearn: 0.4301854\ttotal: 36.2s\tremaining: 31.5s\n",
            "535:\tlearn: 0.4301330\ttotal: 36.3s\tremaining: 31.4s\n",
            "536:\tlearn: 0.4300600\ttotal: 36.3s\tremaining: 31.3s\n",
            "537:\tlearn: 0.4300159\ttotal: 36.4s\tremaining: 31.3s\n",
            "538:\tlearn: 0.4299302\ttotal: 36.5s\tremaining: 31.2s\n",
            "539:\tlearn: 0.4298299\ttotal: 36.5s\tremaining: 31.1s\n",
            "540:\tlearn: 0.4298011\ttotal: 36.6s\tremaining: 31.1s\n",
            "541:\tlearn: 0.4297797\ttotal: 36.7s\tremaining: 31s\n",
            "542:\tlearn: 0.4296861\ttotal: 36.8s\tremaining: 30.9s\n",
            "543:\tlearn: 0.4296559\ttotal: 36.8s\tremaining: 30.9s\n",
            "544:\tlearn: 0.4295977\ttotal: 36.9s\tremaining: 30.8s\n",
            "545:\tlearn: 0.4295791\ttotal: 37s\tremaining: 30.7s\n",
            "546:\tlearn: 0.4295494\ttotal: 37s\tremaining: 30.7s\n",
            "547:\tlearn: 0.4295328\ttotal: 37.1s\tremaining: 30.6s\n",
            "548:\tlearn: 0.4294369\ttotal: 37.1s\tremaining: 30.5s\n",
            "549:\tlearn: 0.4293880\ttotal: 37.2s\tremaining: 30.4s\n",
            "550:\tlearn: 0.4293071\ttotal: 37.3s\tremaining: 30.4s\n",
            "551:\tlearn: 0.4292381\ttotal: 37.4s\tremaining: 30.3s\n",
            "552:\tlearn: 0.4292232\ttotal: 37.4s\tremaining: 30.2s\n",
            "553:\tlearn: 0.4291878\ttotal: 37.5s\tremaining: 30.2s\n",
            "554:\tlearn: 0.4291496\ttotal: 37.5s\tremaining: 30.1s\n",
            "555:\tlearn: 0.4290983\ttotal: 37.6s\tremaining: 30.1s\n",
            "556:\tlearn: 0.4290366\ttotal: 37.7s\tremaining: 30s\n",
            "557:\tlearn: 0.4289933\ttotal: 37.8s\tremaining: 29.9s\n",
            "558:\tlearn: 0.4289558\ttotal: 37.8s\tremaining: 29.8s\n",
            "559:\tlearn: 0.4289375\ttotal: 37.9s\tremaining: 29.8s\n",
            "560:\tlearn: 0.4289069\ttotal: 38s\tremaining: 29.7s\n",
            "561:\tlearn: 0.4287711\ttotal: 38s\tremaining: 29.6s\n",
            "562:\tlearn: 0.4287204\ttotal: 38.1s\tremaining: 29.6s\n",
            "563:\tlearn: 0.4286444\ttotal: 38.2s\tremaining: 29.5s\n",
            "564:\tlearn: 0.4285301\ttotal: 38.3s\tremaining: 29.5s\n",
            "565:\tlearn: 0.4284758\ttotal: 38.3s\tremaining: 29.4s\n",
            "566:\tlearn: 0.4284448\ttotal: 38.4s\tremaining: 29.3s\n",
            "567:\tlearn: 0.4284110\ttotal: 38.5s\tremaining: 29.3s\n",
            "568:\tlearn: 0.4283844\ttotal: 38.5s\tremaining: 29.2s\n",
            "569:\tlearn: 0.4283496\ttotal: 38.6s\tremaining: 29.1s\n",
            "570:\tlearn: 0.4283211\ttotal: 38.7s\tremaining: 29s\n",
            "571:\tlearn: 0.4282113\ttotal: 38.7s\tremaining: 29s\n",
            "572:\tlearn: 0.4281721\ttotal: 38.8s\tremaining: 28.9s\n",
            "573:\tlearn: 0.4281169\ttotal: 38.9s\tremaining: 28.8s\n",
            "574:\tlearn: 0.4280747\ttotal: 38.9s\tremaining: 28.8s\n",
            "575:\tlearn: 0.4279405\ttotal: 39s\tremaining: 28.7s\n",
            "576:\tlearn: 0.4278584\ttotal: 39.1s\tremaining: 28.6s\n",
            "577:\tlearn: 0.4278036\ttotal: 39.1s\tremaining: 28.6s\n",
            "578:\tlearn: 0.4277180\ttotal: 39.2s\tremaining: 28.5s\n",
            "579:\tlearn: 0.4276653\ttotal: 39.3s\tremaining: 28.4s\n",
            "580:\tlearn: 0.4276346\ttotal: 39.3s\tremaining: 28.4s\n",
            "581:\tlearn: 0.4276236\ttotal: 39.4s\tremaining: 28.3s\n",
            "582:\tlearn: 0.4275656\ttotal: 39.5s\tremaining: 28.2s\n",
            "583:\tlearn: 0.4275077\ttotal: 39.5s\tremaining: 28.2s\n",
            "584:\tlearn: 0.4273934\ttotal: 39.6s\tremaining: 28.1s\n",
            "585:\tlearn: 0.4272383\ttotal: 39.7s\tremaining: 28s\n",
            "586:\tlearn: 0.4271120\ttotal: 39.8s\tremaining: 28s\n",
            "587:\tlearn: 0.4269893\ttotal: 39.8s\tremaining: 27.9s\n",
            "588:\tlearn: 0.4269175\ttotal: 39.9s\tremaining: 27.8s\n",
            "589:\tlearn: 0.4268408\ttotal: 40s\tremaining: 27.8s\n",
            "590:\tlearn: 0.4266906\ttotal: 40s\tremaining: 27.7s\n",
            "591:\tlearn: 0.4265505\ttotal: 40.1s\tremaining: 27.6s\n",
            "592:\tlearn: 0.4265034\ttotal: 40.2s\tremaining: 27.6s\n",
            "593:\tlearn: 0.4263802\ttotal: 40.2s\tremaining: 27.5s\n",
            "594:\tlearn: 0.4263420\ttotal: 40.3s\tremaining: 27.4s\n",
            "595:\tlearn: 0.4262832\ttotal: 40.4s\tremaining: 27.4s\n",
            "596:\tlearn: 0.4262713\ttotal: 40.4s\tremaining: 27.3s\n",
            "597:\tlearn: 0.4262015\ttotal: 40.5s\tremaining: 27.2s\n",
            "598:\tlearn: 0.4261592\ttotal: 40.6s\tremaining: 27.2s\n",
            "599:\tlearn: 0.4261139\ttotal: 40.6s\tremaining: 27.1s\n",
            "600:\tlearn: 0.4260614\ttotal: 40.7s\tremaining: 27s\n",
            "601:\tlearn: 0.4260270\ttotal: 40.8s\tremaining: 27s\n",
            "602:\tlearn: 0.4260025\ttotal: 40.8s\tremaining: 26.9s\n",
            "603:\tlearn: 0.4259713\ttotal: 40.9s\tremaining: 26.8s\n",
            "604:\tlearn: 0.4258761\ttotal: 41s\tremaining: 26.8s\n",
            "605:\tlearn: 0.4257654\ttotal: 41.1s\tremaining: 26.7s\n",
            "606:\tlearn: 0.4257127\ttotal: 41.1s\tremaining: 26.6s\n",
            "607:\tlearn: 0.4256566\ttotal: 41.2s\tremaining: 26.6s\n",
            "608:\tlearn: 0.4256126\ttotal: 41.3s\tremaining: 26.5s\n",
            "609:\tlearn: 0.4255565\ttotal: 41.4s\tremaining: 26.4s\n",
            "610:\tlearn: 0.4255003\ttotal: 41.4s\tremaining: 26.4s\n",
            "611:\tlearn: 0.4254641\ttotal: 41.5s\tremaining: 26.3s\n",
            "612:\tlearn: 0.4253360\ttotal: 41.6s\tremaining: 26.2s\n",
            "613:\tlearn: 0.4252659\ttotal: 41.6s\tremaining: 26.2s\n",
            "614:\tlearn: 0.4252081\ttotal: 41.7s\tremaining: 26.1s\n",
            "615:\tlearn: 0.4251492\ttotal: 41.8s\tremaining: 26s\n",
            "616:\tlearn: 0.4251317\ttotal: 41.8s\tremaining: 26s\n",
            "617:\tlearn: 0.4251159\ttotal: 41.9s\tremaining: 25.9s\n",
            "618:\tlearn: 0.4250367\ttotal: 42s\tremaining: 25.8s\n",
            "619:\tlearn: 0.4249881\ttotal: 42s\tremaining: 25.8s\n",
            "620:\tlearn: 0.4249470\ttotal: 42.1s\tremaining: 25.7s\n",
            "621:\tlearn: 0.4249310\ttotal: 42.2s\tremaining: 25.6s\n",
            "622:\tlearn: 0.4248401\ttotal: 42.3s\tremaining: 25.6s\n",
            "623:\tlearn: 0.4248104\ttotal: 42.3s\tremaining: 25.5s\n",
            "624:\tlearn: 0.4247692\ttotal: 42.4s\tremaining: 25.4s\n",
            "625:\tlearn: 0.4246641\ttotal: 42.5s\tremaining: 25.4s\n",
            "626:\tlearn: 0.4246164\ttotal: 42.5s\tremaining: 25.3s\n",
            "627:\tlearn: 0.4245314\ttotal: 42.6s\tremaining: 25.2s\n",
            "628:\tlearn: 0.4243836\ttotal: 42.7s\tremaining: 25.2s\n",
            "629:\tlearn: 0.4243389\ttotal: 42.7s\tremaining: 25.1s\n",
            "630:\tlearn: 0.4242815\ttotal: 42.8s\tremaining: 25s\n",
            "631:\tlearn: 0.4242628\ttotal: 42.9s\tremaining: 25s\n",
            "632:\tlearn: 0.4241906\ttotal: 42.9s\tremaining: 24.9s\n",
            "633:\tlearn: 0.4241630\ttotal: 43s\tremaining: 24.8s\n",
            "634:\tlearn: 0.4241486\ttotal: 43.1s\tremaining: 24.8s\n",
            "635:\tlearn: 0.4241207\ttotal: 43.1s\tremaining: 24.7s\n",
            "636:\tlearn: 0.4240427\ttotal: 43.2s\tremaining: 24.6s\n",
            "637:\tlearn: 0.4240205\ttotal: 43.3s\tremaining: 24.6s\n",
            "638:\tlearn: 0.4239351\ttotal: 43.4s\tremaining: 24.5s\n",
            "639:\tlearn: 0.4238977\ttotal: 43.4s\tremaining: 24.4s\n",
            "640:\tlearn: 0.4238423\ttotal: 43.5s\tremaining: 24.4s\n",
            "641:\tlearn: 0.4238200\ttotal: 43.6s\tremaining: 24.3s\n",
            "642:\tlearn: 0.4237473\ttotal: 43.6s\tremaining: 24.2s\n",
            "643:\tlearn: 0.4236275\ttotal: 43.7s\tremaining: 24.2s\n",
            "644:\tlearn: 0.4235479\ttotal: 43.8s\tremaining: 24.1s\n",
            "645:\tlearn: 0.4235277\ttotal: 43.9s\tremaining: 24s\n",
            "646:\tlearn: 0.4234392\ttotal: 43.9s\tremaining: 24s\n",
            "647:\tlearn: 0.4233731\ttotal: 44s\tremaining: 23.9s\n",
            "648:\tlearn: 0.4233244\ttotal: 44s\tremaining: 23.8s\n",
            "649:\tlearn: 0.4232678\ttotal: 44.1s\tremaining: 23.8s\n",
            "650:\tlearn: 0.4232154\ttotal: 44.2s\tremaining: 23.7s\n",
            "651:\tlearn: 0.4231347\ttotal: 44.2s\tremaining: 23.6s\n",
            "652:\tlearn: 0.4231043\ttotal: 44.3s\tremaining: 23.5s\n",
            "653:\tlearn: 0.4229691\ttotal: 44.4s\tremaining: 23.5s\n",
            "654:\tlearn: 0.4229540\ttotal: 44.5s\tremaining: 23.4s\n",
            "655:\tlearn: 0.4229268\ttotal: 44.5s\tremaining: 23.3s\n",
            "656:\tlearn: 0.4229196\ttotal: 44.6s\tremaining: 23.3s\n",
            "657:\tlearn: 0.4228827\ttotal: 44.6s\tremaining: 23.2s\n",
            "658:\tlearn: 0.4228604\ttotal: 44.7s\tremaining: 23.1s\n",
            "659:\tlearn: 0.4228255\ttotal: 44.8s\tremaining: 23.1s\n",
            "660:\tlearn: 0.4227071\ttotal: 44.9s\tremaining: 23s\n",
            "661:\tlearn: 0.4226243\ttotal: 44.9s\tremaining: 22.9s\n",
            "662:\tlearn: 0.4226184\ttotal: 45s\tremaining: 22.9s\n",
            "663:\tlearn: 0.4225442\ttotal: 45.1s\tremaining: 22.8s\n",
            "664:\tlearn: 0.4224829\ttotal: 45.1s\tremaining: 22.7s\n",
            "665:\tlearn: 0.4224164\ttotal: 45.2s\tremaining: 22.7s\n",
            "666:\tlearn: 0.4223617\ttotal: 45.3s\tremaining: 22.6s\n",
            "667:\tlearn: 0.4223577\ttotal: 45.3s\tremaining: 22.5s\n",
            "668:\tlearn: 0.4222793\ttotal: 45.4s\tremaining: 22.4s\n",
            "669:\tlearn: 0.4222577\ttotal: 45.4s\tremaining: 22.4s\n",
            "670:\tlearn: 0.4221689\ttotal: 45.5s\tremaining: 22.3s\n",
            "671:\tlearn: 0.4220508\ttotal: 45.6s\tremaining: 22.3s\n",
            "672:\tlearn: 0.4220221\ttotal: 45.7s\tremaining: 22.2s\n",
            "673:\tlearn: 0.4219731\ttotal: 45.7s\tremaining: 22.1s\n",
            "674:\tlearn: 0.4219275\ttotal: 45.8s\tremaining: 22.1s\n",
            "675:\tlearn: 0.4219176\ttotal: 45.9s\tremaining: 22s\n",
            "676:\tlearn: 0.4219110\ttotal: 45.9s\tremaining: 21.9s\n",
            "677:\tlearn: 0.4218900\ttotal: 46s\tremaining: 21.9s\n",
            "678:\tlearn: 0.4218637\ttotal: 46.1s\tremaining: 21.8s\n",
            "679:\tlearn: 0.4218175\ttotal: 46.2s\tremaining: 21.7s\n",
            "680:\tlearn: 0.4217619\ttotal: 46.2s\tremaining: 21.7s\n",
            "681:\tlearn: 0.4217309\ttotal: 46.3s\tremaining: 21.6s\n",
            "682:\tlearn: 0.4216818\ttotal: 46.3s\tremaining: 21.5s\n",
            "683:\tlearn: 0.4216077\ttotal: 46.4s\tremaining: 21.4s\n",
            "684:\tlearn: 0.4215422\ttotal: 46.5s\tremaining: 21.4s\n",
            "685:\tlearn: 0.4214154\ttotal: 46.5s\tremaining: 21.3s\n",
            "686:\tlearn: 0.4214077\ttotal: 46.6s\tremaining: 21.2s\n",
            "687:\tlearn: 0.4213555\ttotal: 46.7s\tremaining: 21.2s\n",
            "688:\tlearn: 0.4212296\ttotal: 46.8s\tremaining: 21.1s\n",
            "689:\tlearn: 0.4211588\ttotal: 46.8s\tremaining: 21s\n",
            "690:\tlearn: 0.4211058\ttotal: 46.9s\tremaining: 21s\n",
            "691:\tlearn: 0.4210827\ttotal: 47s\tremaining: 20.9s\n",
            "692:\tlearn: 0.4210564\ttotal: 47s\tremaining: 20.8s\n",
            "693:\tlearn: 0.4209687\ttotal: 47.1s\tremaining: 20.8s\n",
            "694:\tlearn: 0.4209160\ttotal: 47.2s\tremaining: 20.7s\n",
            "695:\tlearn: 0.4208249\ttotal: 47.3s\tremaining: 20.6s\n",
            "696:\tlearn: 0.4208065\ttotal: 47.3s\tremaining: 20.6s\n",
            "697:\tlearn: 0.4207578\ttotal: 47.4s\tremaining: 20.5s\n",
            "698:\tlearn: 0.4207279\ttotal: 47.5s\tremaining: 20.4s\n",
            "699:\tlearn: 0.4206845\ttotal: 47.5s\tremaining: 20.4s\n",
            "700:\tlearn: 0.4206691\ttotal: 47.6s\tremaining: 20.3s\n",
            "701:\tlearn: 0.4206154\ttotal: 47.7s\tremaining: 20.2s\n",
            "702:\tlearn: 0.4206055\ttotal: 47.8s\tremaining: 20.2s\n",
            "703:\tlearn: 0.4205214\ttotal: 47.8s\tremaining: 20.1s\n",
            "704:\tlearn: 0.4205082\ttotal: 47.9s\tremaining: 20s\n",
            "705:\tlearn: 0.4204218\ttotal: 47.9s\tremaining: 20s\n",
            "706:\tlearn: 0.4203550\ttotal: 48s\tremaining: 19.9s\n",
            "707:\tlearn: 0.4202886\ttotal: 48.1s\tremaining: 19.8s\n",
            "708:\tlearn: 0.4202171\ttotal: 48.2s\tremaining: 19.8s\n",
            "709:\tlearn: 0.4202052\ttotal: 48.2s\tremaining: 19.7s\n",
            "710:\tlearn: 0.4201856\ttotal: 48.3s\tremaining: 19.6s\n",
            "711:\tlearn: 0.4201155\ttotal: 48.4s\tremaining: 19.6s\n",
            "712:\tlearn: 0.4200068\ttotal: 48.4s\tremaining: 19.5s\n",
            "713:\tlearn: 0.4199578\ttotal: 48.5s\tremaining: 19.4s\n",
            "714:\tlearn: 0.4198029\ttotal: 48.5s\tremaining: 19.4s\n",
            "715:\tlearn: 0.4197389\ttotal: 48.6s\tremaining: 19.3s\n",
            "716:\tlearn: 0.4196864\ttotal: 48.7s\tremaining: 19.2s\n",
            "717:\tlearn: 0.4195992\ttotal: 48.8s\tremaining: 19.2s\n",
            "718:\tlearn: 0.4195577\ttotal: 48.8s\tremaining: 19.1s\n",
            "719:\tlearn: 0.4195299\ttotal: 48.9s\tremaining: 19s\n",
            "720:\tlearn: 0.4194072\ttotal: 49s\tremaining: 19s\n",
            "721:\tlearn: 0.4193453\ttotal: 49s\tremaining: 18.9s\n",
            "722:\tlearn: 0.4192603\ttotal: 49.1s\tremaining: 18.8s\n",
            "723:\tlearn: 0.4191926\ttotal: 49.2s\tremaining: 18.7s\n",
            "724:\tlearn: 0.4191354\ttotal: 49.2s\tremaining: 18.7s\n",
            "725:\tlearn: 0.4190716\ttotal: 49.3s\tremaining: 18.6s\n",
            "726:\tlearn: 0.4190354\ttotal: 49.4s\tremaining: 18.5s\n",
            "727:\tlearn: 0.4189631\ttotal: 49.4s\tremaining: 18.5s\n",
            "728:\tlearn: 0.4189092\ttotal: 49.5s\tremaining: 18.4s\n",
            "729:\tlearn: 0.4187897\ttotal: 49.6s\tremaining: 18.3s\n",
            "730:\tlearn: 0.4186841\ttotal: 49.7s\tremaining: 18.3s\n",
            "731:\tlearn: 0.4186671\ttotal: 49.8s\tremaining: 18.2s\n",
            "732:\tlearn: 0.4186074\ttotal: 49.9s\tremaining: 18.2s\n",
            "733:\tlearn: 0.4185457\ttotal: 49.9s\tremaining: 18.1s\n",
            "734:\tlearn: 0.4184931\ttotal: 50s\tremaining: 18s\n",
            "735:\tlearn: 0.4184186\ttotal: 50.1s\tremaining: 18s\n",
            "736:\tlearn: 0.4183750\ttotal: 50.1s\tremaining: 17.9s\n",
            "737:\tlearn: 0.4183446\ttotal: 50.2s\tremaining: 17.8s\n",
            "738:\tlearn: 0.4182895\ttotal: 50.2s\tremaining: 17.7s\n",
            "739:\tlearn: 0.4182082\ttotal: 50.3s\tremaining: 17.7s\n",
            "740:\tlearn: 0.4181887\ttotal: 50.4s\tremaining: 17.6s\n",
            "741:\tlearn: 0.4181814\ttotal: 50.4s\tremaining: 17.5s\n",
            "742:\tlearn: 0.4180318\ttotal: 50.5s\tremaining: 17.5s\n",
            "743:\tlearn: 0.4180284\ttotal: 50.6s\tremaining: 17.4s\n",
            "744:\tlearn: 0.4179751\ttotal: 50.7s\tremaining: 17.3s\n",
            "745:\tlearn: 0.4179633\ttotal: 50.7s\tremaining: 17.3s\n",
            "746:\tlearn: 0.4179375\ttotal: 50.8s\tremaining: 17.2s\n",
            "747:\tlearn: 0.4178417\ttotal: 50.9s\tremaining: 17.1s\n",
            "748:\tlearn: 0.4178268\ttotal: 50.9s\tremaining: 17.1s\n",
            "749:\tlearn: 0.4178091\ttotal: 51s\tremaining: 17s\n",
            "750:\tlearn: 0.4177349\ttotal: 51.1s\tremaining: 16.9s\n",
            "751:\tlearn: 0.4177078\ttotal: 51.1s\tremaining: 16.9s\n",
            "752:\tlearn: 0.4176768\ttotal: 51.2s\tremaining: 16.8s\n",
            "753:\tlearn: 0.4176647\ttotal: 51.3s\tremaining: 16.7s\n",
            "754:\tlearn: 0.4176449\ttotal: 51.3s\tremaining: 16.7s\n",
            "755:\tlearn: 0.4176132\ttotal: 51.4s\tremaining: 16.6s\n",
            "756:\tlearn: 0.4175414\ttotal: 51.4s\tremaining: 16.5s\n",
            "757:\tlearn: 0.4174949\ttotal: 51.5s\tremaining: 16.4s\n",
            "758:\tlearn: 0.4173676\ttotal: 51.6s\tremaining: 16.4s\n",
            "759:\tlearn: 0.4173104\ttotal: 51.6s\tremaining: 16.3s\n",
            "760:\tlearn: 0.4172731\ttotal: 51.7s\tremaining: 16.2s\n",
            "761:\tlearn: 0.4172329\ttotal: 51.8s\tremaining: 16.2s\n",
            "762:\tlearn: 0.4172255\ttotal: 51.8s\tremaining: 16.1s\n",
            "763:\tlearn: 0.4172127\ttotal: 51.9s\tremaining: 16s\n",
            "764:\tlearn: 0.4172005\ttotal: 52s\tremaining: 16s\n",
            "765:\tlearn: 0.4171644\ttotal: 52s\tremaining: 15.9s\n",
            "766:\tlearn: 0.4171576\ttotal: 52.1s\tremaining: 15.8s\n",
            "767:\tlearn: 0.4171262\ttotal: 52.2s\tremaining: 15.8s\n",
            "768:\tlearn: 0.4170855\ttotal: 52.2s\tremaining: 15.7s\n",
            "769:\tlearn: 0.4169978\ttotal: 52.3s\tremaining: 15.6s\n",
            "770:\tlearn: 0.4169949\ttotal: 52.4s\tremaining: 15.6s\n",
            "771:\tlearn: 0.4168897\ttotal: 52.4s\tremaining: 15.5s\n",
            "772:\tlearn: 0.4167871\ttotal: 52.5s\tremaining: 15.4s\n",
            "773:\tlearn: 0.4167705\ttotal: 52.6s\tremaining: 15.3s\n",
            "774:\tlearn: 0.4167530\ttotal: 52.6s\tremaining: 15.3s\n",
            "775:\tlearn: 0.4166939\ttotal: 52.7s\tremaining: 15.2s\n",
            "776:\tlearn: 0.4166598\ttotal: 52.8s\tremaining: 15.1s\n",
            "777:\tlearn: 0.4166307\ttotal: 52.8s\tremaining: 15.1s\n",
            "778:\tlearn: 0.4166087\ttotal: 52.9s\tremaining: 15s\n",
            "779:\tlearn: 0.4165526\ttotal: 53s\tremaining: 14.9s\n",
            "780:\tlearn: 0.4165392\ttotal: 53s\tremaining: 14.9s\n",
            "781:\tlearn: 0.4164926\ttotal: 53.1s\tremaining: 14.8s\n",
            "782:\tlearn: 0.4164723\ttotal: 53.2s\tremaining: 14.7s\n",
            "783:\tlearn: 0.4164469\ttotal: 53.2s\tremaining: 14.7s\n",
            "784:\tlearn: 0.4164350\ttotal: 53.3s\tremaining: 14.6s\n",
            "785:\tlearn: 0.4164274\ttotal: 53.4s\tremaining: 14.5s\n",
            "786:\tlearn: 0.4163758\ttotal: 53.4s\tremaining: 14.5s\n",
            "787:\tlearn: 0.4163146\ttotal: 53.5s\tremaining: 14.4s\n",
            "788:\tlearn: 0.4162841\ttotal: 53.6s\tremaining: 14.3s\n",
            "789:\tlearn: 0.4161964\ttotal: 53.6s\tremaining: 14.3s\n",
            "790:\tlearn: 0.4161309\ttotal: 53.7s\tremaining: 14.2s\n",
            "791:\tlearn: 0.4160753\ttotal: 53.8s\tremaining: 14.1s\n",
            "792:\tlearn: 0.4160103\ttotal: 53.9s\tremaining: 14.1s\n",
            "793:\tlearn: 0.4159676\ttotal: 53.9s\tremaining: 14s\n",
            "794:\tlearn: 0.4159020\ttotal: 54s\tremaining: 13.9s\n",
            "795:\tlearn: 0.4158879\ttotal: 54.1s\tremaining: 13.9s\n",
            "796:\tlearn: 0.4158365\ttotal: 54.1s\tremaining: 13.8s\n",
            "797:\tlearn: 0.4158200\ttotal: 54.2s\tremaining: 13.7s\n",
            "798:\tlearn: 0.4157894\ttotal: 54.3s\tremaining: 13.7s\n",
            "799:\tlearn: 0.4157466\ttotal: 54.3s\tremaining: 13.6s\n",
            "800:\tlearn: 0.4157273\ttotal: 54.4s\tremaining: 13.5s\n",
            "801:\tlearn: 0.4156683\ttotal: 54.5s\tremaining: 13.4s\n",
            "802:\tlearn: 0.4156396\ttotal: 54.5s\tremaining: 13.4s\n",
            "803:\tlearn: 0.4155624\ttotal: 54.6s\tremaining: 13.3s\n",
            "804:\tlearn: 0.4155525\ttotal: 54.7s\tremaining: 13.2s\n",
            "805:\tlearn: 0.4155050\ttotal: 54.7s\tremaining: 13.2s\n",
            "806:\tlearn: 0.4154058\ttotal: 54.8s\tremaining: 13.1s\n",
            "807:\tlearn: 0.4153227\ttotal: 54.9s\tremaining: 13s\n",
            "808:\tlearn: 0.4152402\ttotal: 55s\tremaining: 13s\n",
            "809:\tlearn: 0.4151791\ttotal: 55s\tremaining: 12.9s\n",
            "810:\tlearn: 0.4151573\ttotal: 55.1s\tremaining: 12.8s\n",
            "811:\tlearn: 0.4151062\ttotal: 55.2s\tremaining: 12.8s\n",
            "812:\tlearn: 0.4150443\ttotal: 55.2s\tremaining: 12.7s\n",
            "813:\tlearn: 0.4149204\ttotal: 55.3s\tremaining: 12.6s\n",
            "814:\tlearn: 0.4148235\ttotal: 55.3s\tremaining: 12.6s\n",
            "815:\tlearn: 0.4148143\ttotal: 55.4s\tremaining: 12.5s\n",
            "816:\tlearn: 0.4147792\ttotal: 55.5s\tremaining: 12.4s\n",
            "817:\tlearn: 0.4147644\ttotal: 55.5s\tremaining: 12.4s\n",
            "818:\tlearn: 0.4147171\ttotal: 55.6s\tremaining: 12.3s\n",
            "819:\tlearn: 0.4146956\ttotal: 55.7s\tremaining: 12.2s\n",
            "820:\tlearn: 0.4146028\ttotal: 55.7s\tremaining: 12.2s\n",
            "821:\tlearn: 0.4145365\ttotal: 55.8s\tremaining: 12.1s\n",
            "822:\tlearn: 0.4144979\ttotal: 55.9s\tremaining: 12s\n",
            "823:\tlearn: 0.4144489\ttotal: 55.9s\tremaining: 11.9s\n",
            "824:\tlearn: 0.4144100\ttotal: 56s\tremaining: 11.9s\n",
            "825:\tlearn: 0.4143767\ttotal: 56.1s\tremaining: 11.8s\n",
            "826:\tlearn: 0.4142982\ttotal: 56.1s\tremaining: 11.7s\n",
            "827:\tlearn: 0.4142098\ttotal: 56.2s\tremaining: 11.7s\n",
            "828:\tlearn: 0.4141962\ttotal: 56.3s\tremaining: 11.6s\n",
            "829:\tlearn: 0.4141800\ttotal: 56.3s\tremaining: 11.5s\n",
            "830:\tlearn: 0.4141066\ttotal: 56.4s\tremaining: 11.5s\n",
            "831:\tlearn: 0.4140623\ttotal: 56.5s\tremaining: 11.4s\n",
            "832:\tlearn: 0.4139224\ttotal: 56.6s\tremaining: 11.3s\n",
            "833:\tlearn: 0.4138905\ttotal: 56.6s\tremaining: 11.3s\n",
            "834:\tlearn: 0.4138469\ttotal: 56.7s\tremaining: 11.2s\n",
            "835:\tlearn: 0.4138009\ttotal: 56.8s\tremaining: 11.1s\n",
            "836:\tlearn: 0.4137552\ttotal: 56.9s\tremaining: 11.1s\n",
            "837:\tlearn: 0.4137005\ttotal: 56.9s\tremaining: 11s\n",
            "838:\tlearn: 0.4136426\ttotal: 57s\tremaining: 10.9s\n",
            "839:\tlearn: 0.4135868\ttotal: 57.1s\tremaining: 10.9s\n",
            "840:\tlearn: 0.4135614\ttotal: 57.1s\tremaining: 10.8s\n",
            "841:\tlearn: 0.4135033\ttotal: 57.2s\tremaining: 10.7s\n",
            "842:\tlearn: 0.4134767\ttotal: 57.3s\tremaining: 10.7s\n",
            "843:\tlearn: 0.4134213\ttotal: 57.3s\tremaining: 10.6s\n",
            "844:\tlearn: 0.4133200\ttotal: 57.4s\tremaining: 10.5s\n",
            "845:\tlearn: 0.4132082\ttotal: 57.5s\tremaining: 10.5s\n",
            "846:\tlearn: 0.4131656\ttotal: 57.5s\tremaining: 10.4s\n",
            "847:\tlearn: 0.4130598\ttotal: 57.6s\tremaining: 10.3s\n",
            "848:\tlearn: 0.4130401\ttotal: 57.7s\tremaining: 10.3s\n",
            "849:\tlearn: 0.4129863\ttotal: 57.8s\tremaining: 10.2s\n",
            "850:\tlearn: 0.4129148\ttotal: 57.8s\tremaining: 10.1s\n",
            "851:\tlearn: 0.4128312\ttotal: 57.9s\tremaining: 10.1s\n",
            "852:\tlearn: 0.4128294\ttotal: 58s\tremaining: 9.99s\n",
            "853:\tlearn: 0.4127303\ttotal: 58s\tremaining: 9.92s\n",
            "854:\tlearn: 0.4126812\ttotal: 58.1s\tremaining: 9.85s\n",
            "855:\tlearn: 0.4126525\ttotal: 58.2s\tremaining: 9.79s\n",
            "856:\tlearn: 0.4126099\ttotal: 58.2s\tremaining: 9.72s\n",
            "857:\tlearn: 0.4125552\ttotal: 58.3s\tremaining: 9.65s\n",
            "858:\tlearn: 0.4125376\ttotal: 58.4s\tremaining: 9.58s\n",
            "859:\tlearn: 0.4125238\ttotal: 58.5s\tremaining: 9.52s\n",
            "860:\tlearn: 0.4125032\ttotal: 58.5s\tremaining: 9.45s\n",
            "861:\tlearn: 0.4125012\ttotal: 58.6s\tremaining: 9.38s\n",
            "862:\tlearn: 0.4124420\ttotal: 58.7s\tremaining: 9.31s\n",
            "863:\tlearn: 0.4123880\ttotal: 58.7s\tremaining: 9.24s\n",
            "864:\tlearn: 0.4123322\ttotal: 58.8s\tremaining: 9.18s\n",
            "865:\tlearn: 0.4122841\ttotal: 58.9s\tremaining: 9.11s\n",
            "866:\tlearn: 0.4122384\ttotal: 59s\tremaining: 9.04s\n",
            "867:\tlearn: 0.4121744\ttotal: 59s\tremaining: 8.98s\n",
            "868:\tlearn: 0.4120903\ttotal: 59.1s\tremaining: 8.91s\n",
            "869:\tlearn: 0.4120619\ttotal: 59.2s\tremaining: 8.84s\n",
            "870:\tlearn: 0.4120502\ttotal: 59.2s\tremaining: 8.77s\n",
            "871:\tlearn: 0.4120340\ttotal: 59.3s\tremaining: 8.7s\n",
            "872:\tlearn: 0.4120064\ttotal: 59.4s\tremaining: 8.63s\n",
            "873:\tlearn: 0.4119536\ttotal: 59.4s\tremaining: 8.57s\n",
            "874:\tlearn: 0.4119368\ttotal: 59.5s\tremaining: 8.5s\n",
            "875:\tlearn: 0.4119206\ttotal: 59.6s\tremaining: 8.43s\n",
            "876:\tlearn: 0.4118824\ttotal: 59.6s\tremaining: 8.36s\n",
            "877:\tlearn: 0.4118380\ttotal: 59.7s\tremaining: 8.3s\n",
            "878:\tlearn: 0.4118260\ttotal: 59.8s\tremaining: 8.23s\n",
            "879:\tlearn: 0.4117576\ttotal: 59.8s\tremaining: 8.16s\n",
            "880:\tlearn: 0.4117163\ttotal: 59.9s\tremaining: 8.09s\n",
            "881:\tlearn: 0.4116848\ttotal: 60s\tremaining: 8.03s\n",
            "882:\tlearn: 0.4116621\ttotal: 1m\tremaining: 7.96s\n",
            "883:\tlearn: 0.4116430\ttotal: 1m\tremaining: 7.89s\n",
            "884:\tlearn: 0.4116150\ttotal: 1m\tremaining: 7.82s\n",
            "885:\tlearn: 0.4115648\ttotal: 1m\tremaining: 7.75s\n",
            "886:\tlearn: 0.4114853\ttotal: 1m\tremaining: 7.68s\n",
            "887:\tlearn: 0.4114509\ttotal: 1m\tremaining: 7.62s\n",
            "888:\tlearn: 0.4114352\ttotal: 1m\tremaining: 7.55s\n",
            "889:\tlearn: 0.4113341\ttotal: 1m\tremaining: 7.48s\n",
            "890:\tlearn: 0.4112846\ttotal: 1m\tremaining: 7.41s\n",
            "891:\tlearn: 0.4112134\ttotal: 1m\tremaining: 7.34s\n",
            "892:\tlearn: 0.4112116\ttotal: 1m\tremaining: 7.28s\n",
            "893:\tlearn: 0.4111769\ttotal: 1m\tremaining: 7.21s\n",
            "894:\tlearn: 0.4111574\ttotal: 1m\tremaining: 7.14s\n",
            "895:\tlearn: 0.4111167\ttotal: 1m\tremaining: 7.07s\n",
            "896:\tlearn: 0.4110694\ttotal: 1m 1s\tremaining: 7s\n",
            "897:\tlearn: 0.4110150\ttotal: 1m 1s\tremaining: 6.94s\n",
            "898:\tlearn: 0.4109791\ttotal: 1m 1s\tremaining: 6.87s\n",
            "899:\tlearn: 0.4109779\ttotal: 1m 1s\tremaining: 6.8s\n",
            "900:\tlearn: 0.4109580\ttotal: 1m 1s\tremaining: 6.73s\n",
            "901:\tlearn: 0.4109471\ttotal: 1m 1s\tremaining: 6.66s\n",
            "902:\tlearn: 0.4108763\ttotal: 1m 1s\tremaining: 6.6s\n",
            "903:\tlearn: 0.4108733\ttotal: 1m 1s\tremaining: 6.53s\n",
            "904:\tlearn: 0.4108539\ttotal: 1m 1s\tremaining: 6.46s\n",
            "905:\tlearn: 0.4108189\ttotal: 1m 1s\tremaining: 6.39s\n",
            "906:\tlearn: 0.4107407\ttotal: 1m 1s\tremaining: 6.32s\n",
            "907:\tlearn: 0.4107239\ttotal: 1m 1s\tremaining: 6.25s\n",
            "908:\tlearn: 0.4106848\ttotal: 1m 1s\tremaining: 6.19s\n",
            "909:\tlearn: 0.4106182\ttotal: 1m 1s\tremaining: 6.12s\n",
            "910:\tlearn: 0.4105693\ttotal: 1m 1s\tremaining: 6.05s\n",
            "911:\tlearn: 0.4105036\ttotal: 1m 2s\tremaining: 5.98s\n",
            "912:\tlearn: 0.4104768\ttotal: 1m 2s\tremaining: 5.91s\n",
            "913:\tlearn: 0.4104045\ttotal: 1m 2s\tremaining: 5.85s\n",
            "914:\tlearn: 0.4103937\ttotal: 1m 2s\tremaining: 5.78s\n",
            "915:\tlearn: 0.4103339\ttotal: 1m 2s\tremaining: 5.71s\n",
            "916:\tlearn: 0.4102871\ttotal: 1m 2s\tremaining: 5.64s\n",
            "917:\tlearn: 0.4102038\ttotal: 1m 2s\tremaining: 5.57s\n",
            "918:\tlearn: 0.4101701\ttotal: 1m 2s\tremaining: 5.5s\n",
            "919:\tlearn: 0.4100716\ttotal: 1m 2s\tremaining: 5.44s\n",
            "920:\tlearn: 0.4100450\ttotal: 1m 2s\tremaining: 5.37s\n",
            "921:\tlearn: 0.4100209\ttotal: 1m 2s\tremaining: 5.3s\n",
            "922:\tlearn: 0.4100104\ttotal: 1m 2s\tremaining: 5.23s\n",
            "923:\tlearn: 0.4099729\ttotal: 1m 2s\tremaining: 5.16s\n",
            "924:\tlearn: 0.4099099\ttotal: 1m 2s\tremaining: 5.1s\n",
            "925:\tlearn: 0.4098673\ttotal: 1m 2s\tremaining: 5.03s\n",
            "926:\tlearn: 0.4098437\ttotal: 1m 2s\tremaining: 4.96s\n",
            "927:\tlearn: 0.4098315\ttotal: 1m 3s\tremaining: 4.89s\n",
            "928:\tlearn: 0.4097614\ttotal: 1m 3s\tremaining: 4.83s\n",
            "929:\tlearn: 0.4097153\ttotal: 1m 3s\tremaining: 4.76s\n",
            "930:\tlearn: 0.4096865\ttotal: 1m 3s\tremaining: 4.69s\n",
            "931:\tlearn: 0.4096679\ttotal: 1m 3s\tremaining: 4.62s\n",
            "932:\tlearn: 0.4096571\ttotal: 1m 3s\tremaining: 4.55s\n",
            "933:\tlearn: 0.4096291\ttotal: 1m 3s\tremaining: 4.48s\n",
            "934:\tlearn: 0.4096082\ttotal: 1m 3s\tremaining: 4.42s\n",
            "935:\tlearn: 0.4095733\ttotal: 1m 3s\tremaining: 4.35s\n",
            "936:\tlearn: 0.4095137\ttotal: 1m 3s\tremaining: 4.28s\n",
            "937:\tlearn: 0.4094792\ttotal: 1m 3s\tremaining: 4.21s\n",
            "938:\tlearn: 0.4093446\ttotal: 1m 3s\tremaining: 4.14s\n",
            "939:\tlearn: 0.4092799\ttotal: 1m 3s\tremaining: 4.08s\n",
            "940:\tlearn: 0.4092539\ttotal: 1m 3s\tremaining: 4.01s\n",
            "941:\tlearn: 0.4092431\ttotal: 1m 4s\tremaining: 3.94s\n",
            "942:\tlearn: 0.4092273\ttotal: 1m 4s\tremaining: 3.87s\n",
            "943:\tlearn: 0.4091615\ttotal: 1m 4s\tremaining: 3.81s\n",
            "944:\tlearn: 0.4091317\ttotal: 1m 4s\tremaining: 3.74s\n",
            "945:\tlearn: 0.4090970\ttotal: 1m 4s\tremaining: 3.67s\n",
            "946:\tlearn: 0.4090261\ttotal: 1m 4s\tremaining: 3.6s\n",
            "947:\tlearn: 0.4090021\ttotal: 1m 4s\tremaining: 3.53s\n",
            "948:\tlearn: 0.4088946\ttotal: 1m 4s\tremaining: 3.46s\n",
            "949:\tlearn: 0.4088238\ttotal: 1m 4s\tremaining: 3.4s\n",
            "950:\tlearn: 0.4087793\ttotal: 1m 4s\tremaining: 3.33s\n",
            "951:\tlearn: 0.4087105\ttotal: 1m 4s\tremaining: 3.26s\n",
            "952:\tlearn: 0.4086926\ttotal: 1m 4s\tremaining: 3.19s\n",
            "953:\tlearn: 0.4086271\ttotal: 1m 4s\tremaining: 3.13s\n",
            "954:\tlearn: 0.4085765\ttotal: 1m 4s\tremaining: 3.06s\n",
            "955:\tlearn: 0.4085147\ttotal: 1m 5s\tremaining: 2.99s\n",
            "956:\tlearn: 0.4084592\ttotal: 1m 5s\tremaining: 2.92s\n",
            "957:\tlearn: 0.4084484\ttotal: 1m 5s\tremaining: 2.85s\n",
            "958:\tlearn: 0.4084398\ttotal: 1m 5s\tremaining: 2.79s\n",
            "959:\tlearn: 0.4083360\ttotal: 1m 5s\tremaining: 2.72s\n",
            "960:\tlearn: 0.4083036\ttotal: 1m 5s\tremaining: 2.65s\n",
            "961:\tlearn: 0.4082755\ttotal: 1m 5s\tremaining: 2.58s\n",
            "962:\tlearn: 0.4082689\ttotal: 1m 5s\tremaining: 2.52s\n",
            "963:\tlearn: 0.4081955\ttotal: 1m 5s\tremaining: 2.45s\n",
            "964:\tlearn: 0.4081666\ttotal: 1m 5s\tremaining: 2.38s\n",
            "965:\tlearn: 0.4081412\ttotal: 1m 5s\tremaining: 2.31s\n",
            "966:\tlearn: 0.4081184\ttotal: 1m 5s\tremaining: 2.24s\n",
            "967:\tlearn: 0.4081091\ttotal: 1m 5s\tremaining: 2.17s\n",
            "968:\tlearn: 0.4080759\ttotal: 1m 5s\tremaining: 2.11s\n",
            "969:\tlearn: 0.4080044\ttotal: 1m 5s\tremaining: 2.04s\n",
            "970:\tlearn: 0.4079639\ttotal: 1m 6s\tremaining: 1.97s\n",
            "971:\tlearn: 0.4079579\ttotal: 1m 6s\tremaining: 1.9s\n",
            "972:\tlearn: 0.4079368\ttotal: 1m 6s\tremaining: 1.84s\n",
            "973:\tlearn: 0.4078625\ttotal: 1m 6s\tremaining: 1.77s\n",
            "974:\tlearn: 0.4078517\ttotal: 1m 6s\tremaining: 1.7s\n",
            "975:\tlearn: 0.4078272\ttotal: 1m 6s\tremaining: 1.63s\n",
            "976:\tlearn: 0.4078084\ttotal: 1m 6s\tremaining: 1.56s\n",
            "977:\tlearn: 0.4077887\ttotal: 1m 6s\tremaining: 1.5s\n",
            "978:\tlearn: 0.4076936\ttotal: 1m 6s\tremaining: 1.43s\n",
            "979:\tlearn: 0.4075957\ttotal: 1m 6s\tremaining: 1.36s\n",
            "980:\tlearn: 0.4075536\ttotal: 1m 6s\tremaining: 1.29s\n",
            "981:\tlearn: 0.4073996\ttotal: 1m 6s\tremaining: 1.22s\n",
            "982:\tlearn: 0.4073414\ttotal: 1m 6s\tremaining: 1.16s\n",
            "983:\tlearn: 0.4072936\ttotal: 1m 6s\tremaining: 1.09s\n",
            "984:\tlearn: 0.4072444\ttotal: 1m 6s\tremaining: 1.02s\n",
            "985:\tlearn: 0.4072164\ttotal: 1m 7s\tremaining: 952ms\n",
            "986:\tlearn: 0.4071929\ttotal: 1m 7s\tremaining: 884ms\n",
            "987:\tlearn: 0.4071790\ttotal: 1m 7s\tremaining: 816ms\n",
            "988:\tlearn: 0.4070326\ttotal: 1m 7s\tremaining: 748ms\n",
            "989:\tlearn: 0.4070196\ttotal: 1m 7s\tremaining: 680ms\n",
            "990:\tlearn: 0.4069931\ttotal: 1m 7s\tremaining: 612ms\n",
            "991:\tlearn: 0.4069555\ttotal: 1m 7s\tremaining: 544ms\n",
            "992:\tlearn: 0.4069357\ttotal: 1m 7s\tremaining: 476ms\n",
            "993:\tlearn: 0.4068911\ttotal: 1m 7s\tremaining: 408ms\n",
            "994:\tlearn: 0.4068772\ttotal: 1m 7s\tremaining: 340ms\n",
            "995:\tlearn: 0.4068131\ttotal: 1m 7s\tremaining: 272ms\n",
            "996:\tlearn: 0.4067640\ttotal: 1m 7s\tremaining: 204ms\n",
            "997:\tlearn: 0.4067167\ttotal: 1m 7s\tremaining: 136ms\n",
            "998:\tlearn: 0.4066819\ttotal: 1m 7s\tremaining: 68ms\n",
            "999:\tlearn: 0.4066538\ttotal: 1m 7s\tremaining: 0us\n"
          ],
          "name": "stdout"
        }
      ]
    },
    {
      "cell_type": "code",
      "metadata": {
        "id": "IL1V1LpEV_rf",
        "colab_type": "code",
        "outputId": "e69401f5-4b84-4eab-baaf-ed090cc7c318",
        "colab": {
          "base_uri": "https://localhost:8080/",
          "height": 136
        }
      },
      "source": [
        "print(p)"
      ],
      "execution_count": 0,
      "outputs": [
        {
          "output_type": "stream",
          "text": [
            "[[0.81433726 0.18566274]\n",
            " [0.97366791 0.02633209]\n",
            " [0.19409361 0.80590639]\n",
            " ...\n",
            " [0.81520875 0.18479125]\n",
            " [0.68490313 0.31509687]\n",
            " [0.41147785 0.58852215]]\n"
          ],
          "name": "stdout"
        }
      ]
    },
    {
      "cell_type": "code",
      "metadata": {
        "id": "NNyN60B0b6fz",
        "colab_type": "code",
        "outputId": "0ebe576c-dabe-4a98-a3d7-80b47be30524",
        "colab": {
          "base_uri": "https://localhost:8080/",
          "height": 136
        }
      },
      "source": [
        "print(pp)"
      ],
      "execution_count": 0,
      "outputs": [
        {
          "output_type": "stream",
          "text": [
            "[[0.81433726 0.18566274]\n",
            " [0.97366791 0.02633209]\n",
            " [0.19409361 0.80590639]\n",
            " ...\n",
            " [0.81520875 0.18479125]\n",
            " [0.68490313 0.31509687]\n",
            " [0.41147785 0.58852215]]\n"
          ],
          "name": "stdout"
        }
      ]
    },
    {
      "cell_type": "code",
      "metadata": {
        "id": "xklpRZ9gcc5S",
        "colab_type": "code",
        "colab": {}
      },
      "source": [
        "np.savetxt('subm_seas_catboost(logloss,class)_imputed.csv',pp,delimiter=\",\")"
      ],
      "execution_count": 0,
      "outputs": []
    },
    {
      "cell_type": "markdown",
      "metadata": {
        "id": "ogjdp4cHgFac",
        "colab_type": "text"
      },
      "source": [
        "# **Data Preprocessing**"
      ]
    },
    {
      "cell_type": "code",
      "metadata": {
        "id": "mA8-TbQadx6W",
        "colab_type": "code",
        "outputId": "99442aed-75eb-40f2-fcf5-aa65ca93da51",
        "colab": {
          "base_uri": "https://localhost:8080/",
          "height": 221
        }
      },
      "source": [
        "for cat in ['age_group','education','race','sex', 'income_poverty', 'marital_status','rent_or_own','employment_status','hhs_geo_region','census_msa','employment_industry','employment_occupation']:\n",
        "    print(\"Number of levels in category '{0}': \\b {1:2.2f} \".format(cat, X[cat].unique().size))"
      ],
      "execution_count": 0,
      "outputs": [
        {
          "output_type": "stream",
          "text": [
            "Number of levels in category 'age_group': \b 5.00 \n",
            "Number of levels in category 'education': \b 5.00 \n",
            "Number of levels in category 'race': \b 4.00 \n",
            "Number of levels in category 'sex': \b 2.00 \n",
            "Number of levels in category 'income_poverty': \b 4.00 \n",
            "Number of levels in category 'marital_status': \b 3.00 \n",
            "Number of levels in category 'rent_or_own': \b 3.00 \n",
            "Number of levels in category 'employment_status': \b 4.00 \n",
            "Number of levels in category 'hhs_geo_region': \b 10.00 \n",
            "Number of levels in category 'census_msa': \b 3.00 \n",
            "Number of levels in category 'employment_industry': \b 22.00 \n",
            "Number of levels in category 'employment_occupation': \b 24.00 \n"
          ],
          "name": "stdout"
        }
      ]
    },
    {
      "cell_type": "code",
      "metadata": {
        "id": "lZbUeCM6ft9E",
        "colab_type": "code",
        "outputId": "cc5bbc34-f660-4673-e4de-eff99456e4d4",
        "colab": {
          "base_uri": "https://localhost:8080/",
          "height": 187
        }
      },
      "source": [
        "for cat in ['age_group','education','race','sex','income_poverty','marital_status','rent_or_own','employment_status','census_msa']:\n",
        "    print(\"Levels for catgeory '{0}': {1}\".format(cat, X[cat].unique()))"
      ],
      "execution_count": 0,
      "outputs": [
        {
          "output_type": "stream",
          "text": [
            "Levels for catgeory 'age_group': ['55 - 64 Years' '35 - 44 Years' '18 - 34 Years' '65+ Years'\n",
            " '45 - 54 Years']\n",
            "Levels for catgeory 'education': ['< 12 Years' '12 Years' 'College Graduate' 'Some College' nan]\n",
            "Levels for catgeory 'race': ['White' 'Black' 'Other or Multiple' 'Hispanic']\n",
            "Levels for catgeory 'sex': ['Female' 'Male']\n",
            "Levels for catgeory 'income_poverty': ['Below Poverty' '<= $75,000, Above Poverty' '> $75,000' nan]\n",
            "Levels for catgeory 'marital_status': ['Not Married' 'Married' nan]\n",
            "Levels for catgeory 'rent_or_own': ['Own' 'Rent' nan]\n",
            "Levels for catgeory 'employment_status': ['Not in Labor Force' 'Employed' 'Unemployed' nan]\n",
            "Levels for catgeory 'census_msa': ['Non-MSA' 'MSA, Not Principle  City' 'MSA, Principle City']\n"
          ],
          "name": "stdout"
        }
      ]
    },
    {
      "cell_type": "code",
      "metadata": {
        "id": "o0HiaU0AP_vd",
        "colab_type": "code",
        "outputId": "8b05bf2a-07be-486c-e9a8-ae512426153f",
        "colab": {
          "base_uri": "https://localhost:8080/",
          "height": 187
        }
      },
      "source": [
        "for cat in ['employment_industry','employment_occupation','hhs_geo_region']:\n",
        "    print(\"Levels for catgeory '{0}': {1}\".format(cat, X[cat].unique()))"
      ],
      "execution_count": 0,
      "outputs": [
        {
          "output_type": "stream",
          "text": [
            "Levels for catgeory 'employment_industry': [nan 'pxcmvdjn' 'rucpziij' 'wxleyezf' 'saaquncn' 'xicduogh' 'ldnlellj'\n",
            " 'wlfvacwt' 'nduyfdeo' 'fcxhlnwr' 'vjjrobsf' 'arjwrbjb' 'atmlpfrs'\n",
            " 'msuufmds' 'xqicxuve' 'phxvnwax' 'dotnnunm' 'mfikgejo' 'cfqqtusy'\n",
            " 'mcubkhph' 'haxffmxo' 'qnlwzans']\n",
            "Levels for catgeory 'employment_occupation': [nan 'xgwztkwe' 'xtkaffoo' 'emcorrxb' 'vlluhbov' 'xqwwgdyp' 'ccgxvspp'\n",
            " 'qxajmpny' 'kldqjyjy' 'mxkfnird' 'hfxkjkmi' 'bxpfxfdn' 'ukymxvdu'\n",
            " 'cmhcxjea' 'haliazsg' 'dlvbwzss' 'xzmlyyjv' 'oijqvulv' 'rcertsgn'\n",
            " 'tfqavkke' 'hodpvpew' 'uqqtjvyb' 'pvmttkik' 'dcjcmpih']\n",
            "Levels for catgeory 'hhs_geo_region': ['oxchjgsf' 'bhuqouqj' 'qufhixun' 'lrircsnp' 'atmpeygn' 'lzgpxyit'\n",
            " 'fpwskwrf' 'mlyzmhmf' 'dqpwygqj' 'kbazzjca']\n"
          ],
          "name": "stdout"
        }
      ]
    },
    {
      "cell_type": "code",
      "metadata": {
        "id": "7pH93OK0QQe1",
        "colab_type": "code",
        "colab": {}
      },
      "source": [
        "X['employment_industry'] = X['employment_industry'].map({'pxcmvdjn':0,'rucpziij':1,'wxleyezf':2,'saaquncn':3,'xicduogh':4, 'ldnlellj':5,\n",
        " 'wlfvacwt':6, 'nduyfdeo':7, 'fcxhlnwr':8, 'vjjrobsf':9, 'arjwrbjb':10, 'atmlpfrs':11,\n",
        " 'msuufmds':12, 'xqicxuve':13, 'phxvnwax':14, 'dotnnunm':15, 'mfikgejo':16, 'cfqqtusy':17,\n",
        " 'mcubkhph':18, 'haxffmxo':19, 'qnlwzans':20})\n",
        "\n",
        "X['employment_occupation'] = X['employment_occupation'].map({'xgwztkwe':0,'xtkaffoo':1,'emcorrxb':2, 'vlluhbov':3, 'xqwwgdyp':4, 'ccgxvspp':5,\n",
        " 'qxajmpny':6, 'kldqjyjy':7, 'mxkfnird':8, 'hfxkjkmi':9, 'bxpfxfdn':10, 'ukymxvdu':11,\n",
        " 'cmhcxjea':12, 'haliazsg':13, 'dlvbwzss':14, 'xzmlyyjv':15, 'oijqvulv':16, 'rcertsgn':17,\n",
        " 'tfqavkke':18, 'hodpvpew':19, 'uqqtjvyb':20, 'pvmttkik':21, 'dcjcmpih':22})\n",
        "\n",
        "X['hhs_geo_region'] = X['hhs_geo_region'].map({'oxchjgsf':0,'bhuqouqj':1,'qufhixun':2, 'lrircsnp':3, 'atmpeygn':4, 'lzgpxyit':5,\n",
        " 'fpwskwrf':6, 'mlyzmhmf':7, 'dqpwygqj':8, 'kbazzjca':9})"
      ],
      "execution_count": 0,
      "outputs": []
    },
    {
      "cell_type": "code",
      "metadata": {
        "id": "zjChyfTJgzQi",
        "colab_type": "code",
        "colab": {}
      },
      "source": [
        "X['age_group'] = X['age_group'].map({'18 - 34 Years':0,'35 - 44 Years':1,'45 - 54 Years':2,'55 - 64 Years':3,'65+ Years':4})\n",
        "X['education'] = X['education'].map({'< 12 Years':0,'12 Years':1,'College Graduate':2,'Some College':3})\n",
        "X['race'] = X['race'].map({'White':0,'Black':1,'Hispanic':2,'Other or Multiple':3})\n",
        "X['sex'] = X['sex'].map({'male':0,'12 Years':1,})\n",
        "X['income_poverty'] = X['income_poverty'].map({'Below Poverty':0,'<= $75,000, Above Poverty':1,'> $75,000':2})\n",
        "X['marital_status'] = X['marital_status'].map({'Not Married':0,'Married':1})\n",
        "X['rent_or_own'] = X['rent_or_own'].map({'Own':0,'Rent':1})\n",
        "X['employment_status'] = X['employment_status'].map({'Not in Labor Force':0,'Unemployed':1,'Employed':2})\n",
        "X['census_msa'] = X['census_msa'].map({'Non-MSA':0,'MSA, Not Principle  City':1,'MSA, Principle City':2})"
      ],
      "execution_count": 0,
      "outputs": []
    },
    {
      "cell_type": "code",
      "metadata": {
        "id": "i-tMtMVIvzUS",
        "colab_type": "code",
        "outputId": "37390755-f1eb-40c9-8379-99357113d908",
        "colab": {
          "base_uri": "https://localhost:8080/",
          "height": 238
        }
      },
      "source": [
        "print(X['census_msa'])"
      ],
      "execution_count": 0,
      "outputs": [
        {
          "output_type": "stream",
          "text": [
            "respondent_id\n",
            "0        0\n",
            "1        1\n",
            "2        1\n",
            "3        2\n",
            "4        1\n",
            "        ..\n",
            "26702    0\n",
            "26703    2\n",
            "26704    1\n",
            "26705    0\n",
            "26706    2\n",
            "Name: census_msa, Length: 26707, dtype: int64\n"
          ],
          "name": "stdout"
        }
      ]
    },
    {
      "cell_type": "code",
      "metadata": {
        "id": "FgFz03jkSRXt",
        "colab_type": "code",
        "outputId": "576cfd8f-0e8e-4800-decc-6b3c503e3b9a",
        "colab": {
          "base_uri": "https://localhost:8080/",
          "height": 680
        }
      },
      "source": [
        "print(X['employment_industry'])\n",
        "print(X['employment_occupation'])\n",
        "print(X['hhs_geo_region'])"
      ],
      "execution_count": 0,
      "outputs": [
        {
          "output_type": "stream",
          "text": [
            "respondent_id\n",
            "0        NaN\n",
            "1        0.0\n",
            "2        1.0\n",
            "3        NaN\n",
            "4        2.0\n",
            "        ... \n",
            "26702    NaN\n",
            "26703    8.0\n",
            "26704    NaN\n",
            "26705    8.0\n",
            "26706    NaN\n",
            "Name: employment_industry, Length: 26707, dtype: float64\n",
            "respondent_id\n",
            "0         NaN\n",
            "1         0.0\n",
            "2         1.0\n",
            "3         NaN\n",
            "4         2.0\n",
            "         ... \n",
            "26702     NaN\n",
            "26703    12.0\n",
            "26704     NaN\n",
            "26705    13.0\n",
            "26706     NaN\n",
            "Name: employment_occupation, Length: 26707, dtype: float64\n",
            "respondent_id\n",
            "0        0\n",
            "1        1\n",
            "2        2\n",
            "3        3\n",
            "4        2\n",
            "        ..\n",
            "26702    2\n",
            "26703    5\n",
            "26704    5\n",
            "26705    3\n",
            "26706    7\n",
            "Name: hhs_geo_region, Length: 26707, dtype: int64\n"
          ],
          "name": "stdout"
        }
      ]
    },
    {
      "cell_type": "code",
      "metadata": {
        "id": "oM9HxFtFuPLE",
        "colab_type": "code",
        "outputId": "ef4e3de6-9310-4e78-ee39-6350c27884d2",
        "colab": {
          "base_uri": "https://localhost:8080/",
          "height": 629
        }
      },
      "source": [
        "X = X.fillna(-999)\n",
        "pd.isnull(X).any()"
      ],
      "execution_count": 0,
      "outputs": [
        {
          "output_type": "execute_result",
          "data": {
            "text/plain": [
              "h1n1_concern                   False\n",
              "h1n1_knowledge                 False\n",
              "behavioral_antiviral_meds      False\n",
              "behavioral_avoidance           False\n",
              "behavioral_face_mask           False\n",
              "behavioral_wash_hands          False\n",
              "behavioral_large_gatherings    False\n",
              "behavioral_outside_home        False\n",
              "behavioral_touch_face          False\n",
              "doctor_recc_h1n1               False\n",
              "doctor_recc_seasonal           False\n",
              "chronic_med_condition          False\n",
              "child_under_6_months           False\n",
              "health_worker                  False\n",
              "health_insurance               False\n",
              "opinion_h1n1_vacc_effective    False\n",
              "opinion_h1n1_risk              False\n",
              "opinion_h1n1_sick_from_vacc    False\n",
              "opinion_seas_vacc_effective    False\n",
              "opinion_seas_risk              False\n",
              "opinion_seas_sick_from_vacc    False\n",
              "age_group                      False\n",
              "education                      False\n",
              "race                           False\n",
              "sex                            False\n",
              "income_poverty                 False\n",
              "marital_status                 False\n",
              "rent_or_own                    False\n",
              "employment_status              False\n",
              "hhs_geo_region                 False\n",
              "census_msa                     False\n",
              "household_adults               False\n",
              "household_children             False\n",
              "employment_industry            False\n",
              "employment_occupation          False\n",
              "dtype: bool"
            ]
          },
          "metadata": {
            "tags": []
          },
          "execution_count": 15
        }
      ]
    },
    {
      "cell_type": "code",
      "metadata": {
        "id": "UyUff5Kfnevi",
        "colab_type": "code",
        "outputId": "44591a7d-a11e-48b2-a649-26074677e39c",
        "colab": {
          "base_uri": "https://localhost:8080/",
          "height": 374
        }
      },
      "source": [
        "test_set_features = r\"/content/drive/My Drive/LeadingIndiaAI/test_set_features.csv\"\n",
        "test_file = pd.read_csv(test_set_features,index_col=\"respondent_id\")\n",
        "test_file.head()"
      ],
      "execution_count": 0,
      "outputs": [
        {
          "output_type": "execute_result",
          "data": {
            "text/html": [
              "<div>\n",
              "<style scoped>\n",
              "    .dataframe tbody tr th:only-of-type {\n",
              "        vertical-align: middle;\n",
              "    }\n",
              "\n",
              "    .dataframe tbody tr th {\n",
              "        vertical-align: top;\n",
              "    }\n",
              "\n",
              "    .dataframe thead th {\n",
              "        text-align: right;\n",
              "    }\n",
              "</style>\n",
              "<table border=\"1\" class=\"dataframe\">\n",
              "  <thead>\n",
              "    <tr style=\"text-align: right;\">\n",
              "      <th></th>\n",
              "      <th>h1n1_concern</th>\n",
              "      <th>h1n1_knowledge</th>\n",
              "      <th>behavioral_antiviral_meds</th>\n",
              "      <th>behavioral_avoidance</th>\n",
              "      <th>behavioral_face_mask</th>\n",
              "      <th>behavioral_wash_hands</th>\n",
              "      <th>behavioral_large_gatherings</th>\n",
              "      <th>behavioral_outside_home</th>\n",
              "      <th>behavioral_touch_face</th>\n",
              "      <th>doctor_recc_h1n1</th>\n",
              "      <th>doctor_recc_seasonal</th>\n",
              "      <th>chronic_med_condition</th>\n",
              "      <th>child_under_6_months</th>\n",
              "      <th>health_worker</th>\n",
              "      <th>health_insurance</th>\n",
              "      <th>opinion_h1n1_vacc_effective</th>\n",
              "      <th>opinion_h1n1_risk</th>\n",
              "      <th>opinion_h1n1_sick_from_vacc</th>\n",
              "      <th>opinion_seas_vacc_effective</th>\n",
              "      <th>opinion_seas_risk</th>\n",
              "      <th>opinion_seas_sick_from_vacc</th>\n",
              "      <th>age_group</th>\n",
              "      <th>education</th>\n",
              "      <th>race</th>\n",
              "      <th>sex</th>\n",
              "      <th>income_poverty</th>\n",
              "      <th>marital_status</th>\n",
              "      <th>rent_or_own</th>\n",
              "      <th>employment_status</th>\n",
              "      <th>hhs_geo_region</th>\n",
              "      <th>census_msa</th>\n",
              "      <th>household_adults</th>\n",
              "      <th>household_children</th>\n",
              "      <th>employment_industry</th>\n",
              "      <th>employment_occupation</th>\n",
              "    </tr>\n",
              "    <tr>\n",
              "      <th>respondent_id</th>\n",
              "      <th></th>\n",
              "      <th></th>\n",
              "      <th></th>\n",
              "      <th></th>\n",
              "      <th></th>\n",
              "      <th></th>\n",
              "      <th></th>\n",
              "      <th></th>\n",
              "      <th></th>\n",
              "      <th></th>\n",
              "      <th></th>\n",
              "      <th></th>\n",
              "      <th></th>\n",
              "      <th></th>\n",
              "      <th></th>\n",
              "      <th></th>\n",
              "      <th></th>\n",
              "      <th></th>\n",
              "      <th></th>\n",
              "      <th></th>\n",
              "      <th></th>\n",
              "      <th></th>\n",
              "      <th></th>\n",
              "      <th></th>\n",
              "      <th></th>\n",
              "      <th></th>\n",
              "      <th></th>\n",
              "      <th></th>\n",
              "      <th></th>\n",
              "      <th></th>\n",
              "      <th></th>\n",
              "      <th></th>\n",
              "      <th></th>\n",
              "      <th></th>\n",
              "      <th></th>\n",
              "    </tr>\n",
              "  </thead>\n",
              "  <tbody>\n",
              "    <tr>\n",
              "      <th>26707</th>\n",
              "      <td>2.0</td>\n",
              "      <td>2.0</td>\n",
              "      <td>0.0</td>\n",
              "      <td>1.0</td>\n",
              "      <td>0.0</td>\n",
              "      <td>1.0</td>\n",
              "      <td>1.0</td>\n",
              "      <td>0.0</td>\n",
              "      <td>1.0</td>\n",
              "      <td>0.0</td>\n",
              "      <td>0.0</td>\n",
              "      <td>0.0</td>\n",
              "      <td>0.0</td>\n",
              "      <td>0.0</td>\n",
              "      <td>1.0</td>\n",
              "      <td>5.0</td>\n",
              "      <td>1.0</td>\n",
              "      <td>1.0</td>\n",
              "      <td>5.0</td>\n",
              "      <td>1.0</td>\n",
              "      <td>1.0</td>\n",
              "      <td>35 - 44 Years</td>\n",
              "      <td>College Graduate</td>\n",
              "      <td>Hispanic</td>\n",
              "      <td>Female</td>\n",
              "      <td>&gt; $75,000</td>\n",
              "      <td>Not Married</td>\n",
              "      <td>Rent</td>\n",
              "      <td>Employed</td>\n",
              "      <td>mlyzmhmf</td>\n",
              "      <td>MSA, Not Principle  City</td>\n",
              "      <td>1.0</td>\n",
              "      <td>0.0</td>\n",
              "      <td>atmlpfrs</td>\n",
              "      <td>hfxkjkmi</td>\n",
              "    </tr>\n",
              "    <tr>\n",
              "      <th>26708</th>\n",
              "      <td>1.0</td>\n",
              "      <td>1.0</td>\n",
              "      <td>0.0</td>\n",
              "      <td>0.0</td>\n",
              "      <td>0.0</td>\n",
              "      <td>0.0</td>\n",
              "      <td>0.0</td>\n",
              "      <td>0.0</td>\n",
              "      <td>0.0</td>\n",
              "      <td>0.0</td>\n",
              "      <td>0.0</td>\n",
              "      <td>0.0</td>\n",
              "      <td>0.0</td>\n",
              "      <td>0.0</td>\n",
              "      <td>0.0</td>\n",
              "      <td>4.0</td>\n",
              "      <td>1.0</td>\n",
              "      <td>1.0</td>\n",
              "      <td>4.0</td>\n",
              "      <td>1.0</td>\n",
              "      <td>1.0</td>\n",
              "      <td>18 - 34 Years</td>\n",
              "      <td>12 Years</td>\n",
              "      <td>White</td>\n",
              "      <td>Male</td>\n",
              "      <td>Below Poverty</td>\n",
              "      <td>Not Married</td>\n",
              "      <td>Rent</td>\n",
              "      <td>Employed</td>\n",
              "      <td>bhuqouqj</td>\n",
              "      <td>Non-MSA</td>\n",
              "      <td>3.0</td>\n",
              "      <td>0.0</td>\n",
              "      <td>atmlpfrs</td>\n",
              "      <td>xqwwgdyp</td>\n",
              "    </tr>\n",
              "    <tr>\n",
              "      <th>26709</th>\n",
              "      <td>2.0</td>\n",
              "      <td>2.0</td>\n",
              "      <td>0.0</td>\n",
              "      <td>0.0</td>\n",
              "      <td>1.0</td>\n",
              "      <td>1.0</td>\n",
              "      <td>1.0</td>\n",
              "      <td>1.0</td>\n",
              "      <td>1.0</td>\n",
              "      <td>0.0</td>\n",
              "      <td>0.0</td>\n",
              "      <td>0.0</td>\n",
              "      <td>0.0</td>\n",
              "      <td>0.0</td>\n",
              "      <td>NaN</td>\n",
              "      <td>5.0</td>\n",
              "      <td>4.0</td>\n",
              "      <td>2.0</td>\n",
              "      <td>5.0</td>\n",
              "      <td>4.0</td>\n",
              "      <td>4.0</td>\n",
              "      <td>55 - 64 Years</td>\n",
              "      <td>College Graduate</td>\n",
              "      <td>White</td>\n",
              "      <td>Male</td>\n",
              "      <td>&gt; $75,000</td>\n",
              "      <td>Married</td>\n",
              "      <td>Own</td>\n",
              "      <td>Employed</td>\n",
              "      <td>lrircsnp</td>\n",
              "      <td>Non-MSA</td>\n",
              "      <td>1.0</td>\n",
              "      <td>0.0</td>\n",
              "      <td>nduyfdeo</td>\n",
              "      <td>pvmttkik</td>\n",
              "    </tr>\n",
              "    <tr>\n",
              "      <th>26710</th>\n",
              "      <td>1.0</td>\n",
              "      <td>1.0</td>\n",
              "      <td>0.0</td>\n",
              "      <td>0.0</td>\n",
              "      <td>0.0</td>\n",
              "      <td>0.0</td>\n",
              "      <td>0.0</td>\n",
              "      <td>0.0</td>\n",
              "      <td>0.0</td>\n",
              "      <td>1.0</td>\n",
              "      <td>1.0</td>\n",
              "      <td>1.0</td>\n",
              "      <td>0.0</td>\n",
              "      <td>0.0</td>\n",
              "      <td>1.0</td>\n",
              "      <td>4.0</td>\n",
              "      <td>2.0</td>\n",
              "      <td>2.0</td>\n",
              "      <td>4.0</td>\n",
              "      <td>4.0</td>\n",
              "      <td>2.0</td>\n",
              "      <td>65+ Years</td>\n",
              "      <td>12 Years</td>\n",
              "      <td>White</td>\n",
              "      <td>Female</td>\n",
              "      <td>&lt;= $75,000, Above Poverty</td>\n",
              "      <td>Married</td>\n",
              "      <td>Own</td>\n",
              "      <td>Not in Labor Force</td>\n",
              "      <td>lrircsnp</td>\n",
              "      <td>MSA, Not Principle  City</td>\n",
              "      <td>1.0</td>\n",
              "      <td>0.0</td>\n",
              "      <td>NaN</td>\n",
              "      <td>NaN</td>\n",
              "    </tr>\n",
              "    <tr>\n",
              "      <th>26711</th>\n",
              "      <td>3.0</td>\n",
              "      <td>1.0</td>\n",
              "      <td>1.0</td>\n",
              "      <td>1.0</td>\n",
              "      <td>0.0</td>\n",
              "      <td>1.0</td>\n",
              "      <td>1.0</td>\n",
              "      <td>1.0</td>\n",
              "      <td>1.0</td>\n",
              "      <td>0.0</td>\n",
              "      <td>0.0</td>\n",
              "      <td>0.0</td>\n",
              "      <td>0.0</td>\n",
              "      <td>1.0</td>\n",
              "      <td>1.0</td>\n",
              "      <td>5.0</td>\n",
              "      <td>2.0</td>\n",
              "      <td>4.0</td>\n",
              "      <td>4.0</td>\n",
              "      <td>4.0</td>\n",
              "      <td>2.0</td>\n",
              "      <td>35 - 44 Years</td>\n",
              "      <td>12 Years</td>\n",
              "      <td>Black</td>\n",
              "      <td>Female</td>\n",
              "      <td>&lt;= $75,000, Above Poverty</td>\n",
              "      <td>Not Married</td>\n",
              "      <td>Own</td>\n",
              "      <td>Employed</td>\n",
              "      <td>lzgpxyit</td>\n",
              "      <td>Non-MSA</td>\n",
              "      <td>0.0</td>\n",
              "      <td>1.0</td>\n",
              "      <td>fcxhlnwr</td>\n",
              "      <td>mxkfnird</td>\n",
              "    </tr>\n",
              "  </tbody>\n",
              "</table>\n",
              "</div>"
            ],
            "text/plain": [
              "               h1n1_concern  ...  employment_occupation\n",
              "respondent_id                ...                       \n",
              "26707                   2.0  ...               hfxkjkmi\n",
              "26708                   1.0  ...               xqwwgdyp\n",
              "26709                   2.0  ...               pvmttkik\n",
              "26710                   1.0  ...                    NaN\n",
              "26711                   3.0  ...               mxkfnird\n",
              "\n",
              "[5 rows x 35 columns]"
            ]
          },
          "metadata": {
            "tags": []
          },
          "execution_count": 16
        }
      ]
    },
    {
      "cell_type": "code",
      "metadata": {
        "id": "JTAjKsDgt2J1",
        "colab_type": "code",
        "colab": {}
      },
      "source": [
        "test_file['employment_industry'] = test_file['employment_industry'].map({'pxcmvdjn':0,'rucpziij':1,'wxleyezf':2,'saaquncn':3,'xicduogh':4, 'ldnlellj':5,\n",
        " 'wlfvacwt':6, 'nduyfdeo':7, 'fcxhlnwr':8, 'vjjrobsf':9, 'arjwrbjb':10, 'atmlpfrs':11,\n",
        " 'msuufmds':12, 'xqicxuve':13, 'phxvnwax':14, 'dotnnunm':15, 'mfikgejo':16, 'cfqqtusy':17,\n",
        " 'mcubkhph':18, 'haxffmxo':19, 'qnlwzans':20})\n",
        "\n",
        "test_file['employment_occupation'] = test_file['employment_occupation'].map({'xgwztkwe':0,'xtkaffoo':1,'emcorrxb':2, 'vlluhbov':3, 'xqwwgdyp':4, 'ccgxvspp':5,\n",
        " 'qxajmpny':6, 'kldqjyjy':7, 'mxkfnird':8, 'hfxkjkmi':9, 'bxpfxfdn':10, 'ukymxvdu':11,\n",
        " 'cmhcxjea':12, 'haliazsg':13, 'dlvbwzss':14, 'xzmlyyjv':15, 'oijqvulv':16, 'rcertsgn':17,\n",
        " 'tfqavkke':18, 'hodpvpew':19, 'uqqtjvyb':20, 'pvmttkik':21, 'dcjcmpih':22})\n",
        "\n",
        "test_file['hhs_geo_region'] = test_file['hhs_geo_region'].map({'oxchjgsf':0,'bhuqouqj':1,'qufhixun':2, 'lrircsnp':3, 'atmpeygn':4, 'lzgpxyit':5,\n",
        " 'fpwskwrf':6, 'mlyzmhmf':7, 'dqpwygqj':8, 'kbazzjca':9})"
      ],
      "execution_count": 0,
      "outputs": []
    },
    {
      "cell_type": "code",
      "metadata": {
        "id": "qiHxvsXRt7DH",
        "colab_type": "code",
        "colab": {}
      },
      "source": [
        "test_file['age_group'] = test_file['age_group'].map({'18 - 34 Years':0,'35 - 44 Years':1,'45 - 54 Years':2,'55 - 64 Years':3,'65+ Years':4})\n",
        "test_file['education'] = test_file['education'].map({'< 12 Years':0,'12 Years':1,'College Graduate':2,'Some College':3})\n",
        "test_file['race'] = test_file['race'].map({'White':0,'Black':1,'Hispanic':2,'Other or Multiple':3})\n",
        "test_file['sex'] = test_file['sex'].map({'male':0,'12 Years':1,})\n",
        "test_file['income_poverty'] = test_file['income_poverty'].map({'Below Poverty':0,'<= $75,000, Above Poverty':1,'> $75,000':2})\n",
        "test_file['marital_status'] = test_file['marital_status'].map({'Not Married':0,'Married':1})\n",
        "test_file['rent_or_own'] = test_file['rent_or_own'].map({'Own':0,'Rent':1})\n",
        "test_file['employment_status'] = test_file['employment_status'].map({'Not in Labor Force':0,'Unemployed':1,'Employed':2})\n",
        "test_file['census_msa'] = test_file['census_msa'].map({'Non-MSA':0,'MSA, Not Principle  City':1,'MSA, Principle City':2})"
      ],
      "execution_count": 0,
      "outputs": []
    },
    {
      "cell_type": "code",
      "metadata": {
        "id": "6I06X4RbuAaq",
        "colab_type": "code",
        "outputId": "26121a26-2350-430f-fb85-a09b9add92fc",
        "colab": {
          "base_uri": "https://localhost:8080/",
          "height": 629
        }
      },
      "source": [
        "test_file_new = test_file.fillna(-999)\n",
        "pd.isnull(test_file_new).any()"
      ],
      "execution_count": 0,
      "outputs": [
        {
          "output_type": "execute_result",
          "data": {
            "text/plain": [
              "h1n1_concern                   False\n",
              "h1n1_knowledge                 False\n",
              "behavioral_antiviral_meds      False\n",
              "behavioral_avoidance           False\n",
              "behavioral_face_mask           False\n",
              "behavioral_wash_hands          False\n",
              "behavioral_large_gatherings    False\n",
              "behavioral_outside_home        False\n",
              "behavioral_touch_face          False\n",
              "doctor_recc_h1n1               False\n",
              "doctor_recc_seasonal           False\n",
              "chronic_med_condition          False\n",
              "child_under_6_months           False\n",
              "health_worker                  False\n",
              "health_insurance               False\n",
              "opinion_h1n1_vacc_effective    False\n",
              "opinion_h1n1_risk              False\n",
              "opinion_h1n1_sick_from_vacc    False\n",
              "opinion_seas_vacc_effective    False\n",
              "opinion_seas_risk              False\n",
              "opinion_seas_sick_from_vacc    False\n",
              "age_group                      False\n",
              "education                      False\n",
              "race                           False\n",
              "sex                            False\n",
              "income_poverty                 False\n",
              "marital_status                 False\n",
              "rent_or_own                    False\n",
              "employment_status              False\n",
              "hhs_geo_region                 False\n",
              "census_msa                     False\n",
              "household_adults               False\n",
              "household_children             False\n",
              "employment_industry            False\n",
              "employment_occupation          False\n",
              "dtype: bool"
            ]
          },
          "metadata": {
            "tags": []
          },
          "execution_count": 19
        }
      ]
    },
    {
      "cell_type": "code",
      "metadata": {
        "id": "SKxJi8Pikzt8",
        "colab_type": "code",
        "outputId": "5617fb7f-3099-4b12-8101-d4f51cec6c43",
        "colab": {
          "base_uri": "https://localhost:8080/",
          "height": 238
        }
      },
      "source": [
        "y_h1n1=y['h1n1_vaccine']\n",
        "print(y_h1n1)"
      ],
      "execution_count": 0,
      "outputs": [
        {
          "output_type": "stream",
          "text": [
            "respondent_id\n",
            "0        0\n",
            "1        0\n",
            "2        0\n",
            "3        0\n",
            "4        0\n",
            "        ..\n",
            "26702    0\n",
            "26703    0\n",
            "26704    0\n",
            "26705    0\n",
            "26706    0\n",
            "Name: h1n1_vaccine, Length: 26707, dtype: int64\n"
          ],
          "name": "stdout"
        }
      ]
    },
    {
      "cell_type": "code",
      "metadata": {
        "id": "kILibngXTMM4",
        "colab_type": "code",
        "colab": {}
      },
      "source": [
        "from sklearn.model_selection import train_test_split\n",
        "X_train, X_test, y_train, y_test = train_test_split(\n",
        "    X,\n",
        "    y_h1n1,\n",
        "    test_size=0.33)"
      ],
      "execution_count": 0,
      "outputs": []
    },
    {
      "cell_type": "markdown",
      "metadata": {
        "id": "7RlybOgcJDS3",
        "colab_type": "text"
      },
      "source": [
        "# **Ensemble Techniques**"
      ]
    },
    {
      "cell_type": "markdown",
      "metadata": {
        "id": "g1fC0PIsJQPy",
        "colab_type": "text"
      },
      "source": [
        "Stacking"
      ]
    },
    {
      "cell_type": "code",
      "metadata": {
        "id": "zX5QCRaQJG1K",
        "colab_type": "code",
        "colab": {}
      },
      "source": [
        "from sklearn.model_selection import StratifiedKFold\n",
        "def Stacking(model,train,y,test,n_fold):\n",
        "   folds=StratifiedKFold(n_splits=n_fold,random_state=1)\n",
        "   test_pred=np.empty((test.shape[0],1),float)\n",
        "   train_pred=np.empty((0,1),float)\n",
        "   for train_indices,val_indices in folds.split(train,y.values):\n",
        "      X_train,X_test=train.iloc[train_indices],train.iloc[val_indices]\n",
        "      y_train,y_test=y.iloc[train_indices],y.iloc[val_indices]\n",
        "\n",
        "      model.fit(X=X_train,y=y_train)\n",
        "      train_pred=np.append(train_pred,model.predict(X_test))\n",
        "      test_pred=np.append(test_pred,model.predict(y_test))\n",
        "   return (test_pred.reshape(-1,1),train_pred)"
      ],
      "execution_count": 0,
      "outputs": []
    },
    {
      "cell_type": "code",
      "metadata": {
        "id": "quPHW9ChJSTU",
        "colab_type": "code",
        "colab": {}
      },
      "source": [
        "from sklearn import tree\n",
        "model1 = tree.DecisionTreeClassifier(random_state=1)\n",
        "\n",
        "test_pred1 ,train_pred1=Stacking(model=model1,n_fold=10,train=X,test=test_file_new,y=y)\n",
        "\n",
        "train_pred1=pd.DataFrame(train_pred1)\n",
        "test_pred1=pd.DataFrame(test_pred1)\n",
        "\n",
        "\n",
        "from sklearn.neighbors import KNeighborsClassifier\n",
        "model2 = KNeighborsClassifier()\n",
        "\n",
        "test_pred2 ,train_pred2=Stacking(model=model2,n_fold=10,train=X,test=test_file_new,y=y)\n",
        "\n",
        "train_pred2=pd.DataFrame(train_pred2)\n",
        "test_pred2=pd.DataFrame(test_pred2)\n",
        "\n",
        "\n",
        "\n",
        "df = pd.concat([train_pred1, train_pred2], axis=1)\n",
        "df_test = pd.concat([test_pred1, test_pred2], axis=1)\n",
        "\n",
        "from sklearn.linear_model import LinearRegression\n",
        "model = LinearRegression(random_state=1)\n",
        "model.fit(df)\n",
        "model.score(df_test, test_file_new)"
      ],
      "execution_count": 0,
      "outputs": []
    },
    {
      "cell_type": "markdown",
      "metadata": {
        "id": "Vme9WMXIJHb5",
        "colab_type": "text"
      },
      "source": [
        "Bagging Classifier"
      ]
    },
    {
      "cell_type": "code",
      "metadata": {
        "id": "2i56ShSnKtek",
        "colab_type": "code",
        "outputId": "76104a58-367f-4bb6-b36e-96d5aa8fb794",
        "colab": {
          "base_uri": "https://localhost:8080/",
          "height": 323
        }
      },
      "source": [
        "from sklearn.ensemble import BaggingClassifier\n",
        "from sklearn import tree\n",
        "model = BaggingClassifier(tree.DecisionTreeClassifier(random_state=1))\n",
        "model.fit(X, y_seas)\n",
        "#model.score(X_test,y_test)"
      ],
      "execution_count": 0,
      "outputs": [
        {
          "output_type": "execute_result",
          "data": {
            "text/plain": [
              "BaggingClassifier(base_estimator=DecisionTreeClassifier(ccp_alpha=0.0,\n",
              "                                                        class_weight=None,\n",
              "                                                        criterion='gini',\n",
              "                                                        max_depth=None,\n",
              "                                                        max_features=None,\n",
              "                                                        max_leaf_nodes=None,\n",
              "                                                        min_impurity_decrease=0.0,\n",
              "                                                        min_impurity_split=None,\n",
              "                                                        min_samples_leaf=1,\n",
              "                                                        min_samples_split=2,\n",
              "                                                        min_weight_fraction_leaf=0.0,\n",
              "                                                        presort='deprecated',\n",
              "                                                        random_state=1,\n",
              "                                                        splitter='best'),\n",
              "                  bootstrap=True, bootstrap_features=False, max_features=1.0,\n",
              "                  max_samples=1.0, n_estimators=10, n_jobs=None,\n",
              "                  oob_score=False, random_state=None, verbose=0,\n",
              "                  warm_start=False)"
            ]
          },
          "metadata": {
            "tags": []
          },
          "execution_count": 49
        }
      ]
    },
    {
      "cell_type": "code",
      "metadata": {
        "id": "-Epm2NI5jDfw",
        "colab_type": "code",
        "outputId": "c681d659-6ea9-45f7-f4b9-c61f34661d4f",
        "colab": {
          "base_uri": "https://localhost:8080/",
          "height": 136
        }
      },
      "source": [
        "pp1=model.predict_proba(test_file_new)\n",
        "print(pp1)"
      ],
      "execution_count": 0,
      "outputs": [
        {
          "output_type": "stream",
          "text": [
            "[[0.9 0.1]\n",
            " [1.  0. ]\n",
            " [0.8 0.2]\n",
            " ...\n",
            " [0.8 0.2]\n",
            " [0.6 0.4]\n",
            " [0.6 0.4]]\n"
          ],
          "name": "stdout"
        }
      ]
    },
    {
      "cell_type": "code",
      "metadata": {
        "id": "Qplxvoj7jgvV",
        "colab_type": "code",
        "colab": {}
      },
      "source": [
        "np.savetxt('subm_seas_baggingclassifier.csv',pp1,delimiter=\",\")"
      ],
      "execution_count": 0,
      "outputs": []
    },
    {
      "cell_type": "markdown",
      "metadata": {
        "id": "JfMJ8MVgLOVc",
        "colab_type": "text"
      },
      "source": [
        "AdaBoost Classifier"
      ]
    },
    {
      "cell_type": "code",
      "metadata": {
        "id": "zI2p2-CELSSt",
        "colab_type": "code",
        "outputId": "ecd08991-0b9c-41fd-a6cd-9c02ea6888a3",
        "colab": {
          "base_uri": "https://localhost:8080/",
          "height": 51
        }
      },
      "source": [
        "from sklearn.ensemble import AdaBoostClassifier\n",
        "model = AdaBoostClassifier(random_state=1)\n",
        "model.fit(X, y_seas)\n",
        "#model.score(X_test,y_test)"
      ],
      "execution_count": 0,
      "outputs": [
        {
          "output_type": "execute_result",
          "data": {
            "text/plain": [
              "AdaBoostClassifier(algorithm='SAMME.R', base_estimator=None, learning_rate=1.0,\n",
              "                   n_estimators=50, random_state=1)"
            ]
          },
          "metadata": {
            "tags": []
          },
          "execution_count": 52
        }
      ]
    },
    {
      "cell_type": "code",
      "metadata": {
        "id": "KdHuan1wj9fw",
        "colab_type": "code",
        "outputId": "c54f785e-46c2-42dc-cefd-6ba899a40c48",
        "colab": {
          "base_uri": "https://localhost:8080/",
          "height": 136
        }
      },
      "source": [
        "pp2=model.predict_proba(test_file_new)\n",
        "print(pp2)"
      ],
      "execution_count": 0,
      "outputs": [
        {
          "output_type": "stream",
          "text": [
            "[[0.50367102 0.49632898]\n",
            " [0.51542929 0.48457071]\n",
            " [0.49641664 0.50358336]\n",
            " ...\n",
            " [0.50425656 0.49574344]\n",
            " [0.50240134 0.49759866]\n",
            " [0.50042716 0.49957284]]\n"
          ],
          "name": "stdout"
        }
      ]
    },
    {
      "cell_type": "code",
      "metadata": {
        "id": "YrMDeO_6kE7x",
        "colab_type": "code",
        "colab": {}
      },
      "source": [
        "np.savetxt('subm_seas_adaboostclass.csv',pp2,delimiter=\",\")"
      ],
      "execution_count": 0,
      "outputs": []
    },
    {
      "cell_type": "markdown",
      "metadata": {
        "id": "-GH7lEhkLjyJ",
        "colab_type": "text"
      },
      "source": [
        "GradientBoosting Classifier"
      ]
    },
    {
      "cell_type": "code",
      "metadata": {
        "id": "757ULfG1LnTe",
        "colab_type": "code",
        "outputId": "eb75bf01-cdf2-4867-ea56-776eaa1ec68f",
        "colab": {
          "base_uri": "https://localhost:8080/",
          "height": 187
        }
      },
      "source": [
        "from sklearn.ensemble import GradientBoostingClassifier\n",
        "model= GradientBoostingClassifier(learning_rate=0.01,random_state=1)\n",
        "model.fit(X, y_seas)\n",
        "#model.score(X_test,y_test)"
      ],
      "execution_count": 0,
      "outputs": [
        {
          "output_type": "execute_result",
          "data": {
            "text/plain": [
              "GradientBoostingClassifier(ccp_alpha=0.0, criterion='friedman_mse', init=None,\n",
              "                           learning_rate=0.01, loss='deviance', max_depth=3,\n",
              "                           max_features=None, max_leaf_nodes=None,\n",
              "                           min_impurity_decrease=0.0, min_impurity_split=None,\n",
              "                           min_samples_leaf=1, min_samples_split=2,\n",
              "                           min_weight_fraction_leaf=0.0, n_estimators=100,\n",
              "                           n_iter_no_change=None, presort='deprecated',\n",
              "                           random_state=1, subsample=1.0, tol=0.0001,\n",
              "                           validation_fraction=0.1, verbose=0,\n",
              "                           warm_start=False)"
            ]
          },
          "metadata": {
            "tags": []
          },
          "execution_count": 55
        }
      ]
    },
    {
      "cell_type": "code",
      "metadata": {
        "id": "WmjB_dWIkVyY",
        "colab_type": "code",
        "outputId": "e85b876a-5e11-46b3-b599-02d63d7c456d",
        "colab": {
          "base_uri": "https://localhost:8080/",
          "height": 136
        }
      },
      "source": [
        "pp3=model.predict_proba(test_file_new)\n",
        "print(pp3)"
      ],
      "execution_count": 0,
      "outputs": [
        {
          "output_type": "stream",
          "text": [
            "[[0.62654741 0.37345259]\n",
            " [0.73166931 0.26833069]\n",
            " [0.37913463 0.62086537]\n",
            " ...\n",
            " [0.61684172 0.38315828]\n",
            " [0.56657547 0.43342453]\n",
            " [0.3823093  0.6176907 ]]\n"
          ],
          "name": "stdout"
        }
      ]
    },
    {
      "cell_type": "code",
      "metadata": {
        "id": "h2wiU1KBkYJl",
        "colab_type": "code",
        "colab": {}
      },
      "source": [
        "np.savetxt('subm_seas_gradientboostclass.csv',pp3,delimiter=\",\")"
      ],
      "execution_count": 0,
      "outputs": []
    },
    {
      "cell_type": "markdown",
      "metadata": {
        "id": "8NiTLTcg54LK",
        "colab_type": "text"
      },
      "source": [
        "# **XGBoost Model**"
      ]
    },
    {
      "cell_type": "code",
      "metadata": {
        "id": "DHc8SjB-xPBD",
        "colab_type": "code",
        "outputId": "126d4ebb-49db-46b4-e948-449e4779ff8c",
        "colab": {
          "base_uri": "https://localhost:8080/",
          "height": 68
        }
      },
      "source": [
        "!pip install xgboost"
      ],
      "execution_count": 0,
      "outputs": [
        {
          "output_type": "stream",
          "text": [
            "Requirement already satisfied: xgboost in /usr/local/lib/python3.6/dist-packages (0.90)\n",
            "Requirement already satisfied: scipy in /usr/local/lib/python3.6/dist-packages (from xgboost) (1.4.1)\n",
            "Requirement already satisfied: numpy in /usr/local/lib/python3.6/dist-packages (from xgboost) (1.18.4)\n"
          ],
          "name": "stdout"
        }
      ]
    },
    {
      "cell_type": "code",
      "metadata": {
        "id": "vWbQMXFsl4fu",
        "colab_type": "code",
        "outputId": "a39a9706-596c-4909-d135-e2085bf2499c",
        "colab": {
          "base_uri": "https://localhost:8080/",
          "height": 105
        }
      },
      "source": [
        "from sklearn.ensemble import RandomForestClassifier\n",
        "from sklearn.svm import LinearSVC\n",
        "from sklearn.pipeline import Pipeline\n",
        "from sklearn.linear_model import Ridge\n",
        "from mlxtend.feature_selection import SequentialFeatureSelector as sfs\n",
        "from mlxtend.classifier import StackingClassifier\n",
        "from sklearn.metrics import roc_curve, roc_auc_score"
      ],
      "execution_count": 0,
      "outputs": [
        {
          "output_type": "stream",
          "text": [
            "/usr/local/lib/python3.6/dist-packages/sklearn/externals/joblib/__init__.py:15: FutureWarning: sklearn.externals.joblib is deprecated in 0.21 and will be removed in 0.23. Please import this functionality directly from joblib, which can be installed with: pip install joblib. If this warning is raised when loading pickled models, you may need to re-serialize those models with scikit-learn 0.21+.\n",
            "  warnings.warn(msg, category=FutureWarning)\n",
            "/usr/local/lib/python3.6/dist-packages/sklearn/externals/six.py:31: FutureWarning: The module is deprecated in version 0.21 and will be removed in version 0.23 since we've dropped support for Python 2.7. Please rely on the official version of six (https://pypi.org/project/six/).\n",
            "  \"(https://pypi.org/project/six/).\", FutureWarning)\n"
          ],
          "name": "stderr"
        }
      ]
    },
    {
      "cell_type": "code",
      "metadata": {
        "id": "bMX8kk8c5a3l",
        "colab_type": "code",
        "outputId": "a6ca3608-ac20-4223-9365-c16ea72560a2",
        "colab": {
          "base_uri": "https://localhost:8080/",
          "height": 1000
        }
      },
      "source": [
        "from xgboost import XGBClassifier\n",
        "clf1=XGBClassifier()\n",
        "clf1.fit(X_train,y_train)\n",
        "sfs1 = sfs(clf1,\n",
        "           k_features=15,\n",
        "           forward=True,\n",
        "           floating=False,\n",
        "           verbose=2,\n",
        "           scoring='roc_auc',\n",
        "           cv=5)\n",
        "sfs1 = sfs1.fit(X_train, y_train)"
      ],
      "execution_count": 0,
      "outputs": [
        {
          "output_type": "stream",
          "text": [
            "[Parallel(n_jobs=1)]: Using backend SequentialBackend with 1 concurrent workers.\n",
            "[Parallel(n_jobs=1)]: Done   1 out of   1 | elapsed:    1.6s remaining:    0.0s\n",
            "[Parallel(n_jobs=1)]: Done  35 out of  35 | elapsed:   51.3s finished\n",
            "\n",
            "[2020-06-07 22:51:50] Features: 1/15 -- score: 0.7019532538129466[Parallel(n_jobs=1)]: Using backend SequentialBackend with 1 concurrent workers.\n",
            "[Parallel(n_jobs=1)]: Done   1 out of   1 | elapsed:    1.9s remaining:    0.0s\n",
            "[Parallel(n_jobs=1)]: Done  34 out of  34 | elapsed:  1.1min finished\n",
            "\n",
            "[2020-06-07 22:52:54] Features: 2/15 -- score: 0.7847487299034109[Parallel(n_jobs=1)]: Using backend SequentialBackend with 1 concurrent workers.\n",
            "[Parallel(n_jobs=1)]: Done   1 out of   1 | elapsed:    2.1s remaining:    0.0s\n",
            "[Parallel(n_jobs=1)]: Done  33 out of  33 | elapsed:  1.1min finished\n",
            "\n",
            "[2020-06-07 22:54:02] Features: 3/15 -- score: 0.8268052616546264[Parallel(n_jobs=1)]: Using backend SequentialBackend with 1 concurrent workers.\n",
            "[Parallel(n_jobs=1)]: Done   1 out of   1 | elapsed:    2.2s remaining:    0.0s\n",
            "[Parallel(n_jobs=1)]: Done  32 out of  32 | elapsed:  1.2min finished\n",
            "\n",
            "[2020-06-07 22:55:13] Features: 4/15 -- score: 0.8467000933543403[Parallel(n_jobs=1)]: Using backend SequentialBackend with 1 concurrent workers.\n",
            "[Parallel(n_jobs=1)]: Done   1 out of   1 | elapsed:    2.4s remaining:    0.0s\n",
            "[Parallel(n_jobs=1)]: Done  31 out of  31 | elapsed:  1.3min finished\n",
            "\n",
            "[2020-06-07 22:56:28] Features: 5/15 -- score: 0.8546808030825804[Parallel(n_jobs=1)]: Using backend SequentialBackend with 1 concurrent workers.\n",
            "[Parallel(n_jobs=1)]: Done   1 out of   1 | elapsed:    2.5s remaining:    0.0s\n",
            "[Parallel(n_jobs=1)]: Done  30 out of  30 | elapsed:  1.3min finished\n",
            "\n",
            "[2020-06-07 22:57:44] Features: 6/15 -- score: 0.8568411386900866[Parallel(n_jobs=1)]: Using backend SequentialBackend with 1 concurrent workers.\n",
            "[Parallel(n_jobs=1)]: Done   1 out of   1 | elapsed:    2.7s remaining:    0.0s\n",
            "[Parallel(n_jobs=1)]: Done  29 out of  29 | elapsed:  1.3min finished\n",
            "\n",
            "[2020-06-07 22:59:01] Features: 7/15 -- score: 0.8593677085425624[Parallel(n_jobs=1)]: Using backend SequentialBackend with 1 concurrent workers.\n",
            "[Parallel(n_jobs=1)]: Done   1 out of   1 | elapsed:    2.9s remaining:    0.0s\n",
            "[Parallel(n_jobs=1)]: Done  28 out of  28 | elapsed:  1.3min finished\n",
            "\n",
            "[2020-06-07 23:00:22] Features: 8/15 -- score: 0.8613402124302987[Parallel(n_jobs=1)]: Using backend SequentialBackend with 1 concurrent workers.\n",
            "[Parallel(n_jobs=1)]: Done   1 out of   1 | elapsed:    3.0s remaining:    0.0s\n",
            "[Parallel(n_jobs=1)]: Done  27 out of  27 | elapsed:  1.3min finished\n",
            "\n",
            "[2020-06-07 23:01:42] Features: 9/15 -- score: 0.8621661367553471[Parallel(n_jobs=1)]: Using backend SequentialBackend with 1 concurrent workers.\n",
            "[Parallel(n_jobs=1)]: Done   1 out of   1 | elapsed:    3.1s remaining:    0.0s\n",
            "[Parallel(n_jobs=1)]: Done  26 out of  26 | elapsed:  1.3min finished\n",
            "\n",
            "[2020-06-07 23:03:03] Features: 10/15 -- score: 0.8629352936934342[Parallel(n_jobs=1)]: Using backend SequentialBackend with 1 concurrent workers.\n",
            "[Parallel(n_jobs=1)]: Done   1 out of   1 | elapsed:    3.2s remaining:    0.0s\n",
            "[Parallel(n_jobs=1)]: Done  25 out of  25 | elapsed:  1.3min finished\n",
            "\n",
            "[2020-06-07 23:04:23] Features: 11/15 -- score: 0.8638453723957122[Parallel(n_jobs=1)]: Using backend SequentialBackend with 1 concurrent workers.\n",
            "[Parallel(n_jobs=1)]: Done   1 out of   1 | elapsed:    3.3s remaining:    0.0s\n",
            "[Parallel(n_jobs=1)]: Done  24 out of  24 | elapsed:  1.4min finished\n",
            "\n",
            "[2020-06-07 23:05:45] Features: 12/15 -- score: 0.8645212161125823[Parallel(n_jobs=1)]: Using backend SequentialBackend with 1 concurrent workers.\n",
            "[Parallel(n_jobs=1)]: Done   1 out of   1 | elapsed:    3.4s remaining:    0.0s\n",
            "[Parallel(n_jobs=1)]: Done  23 out of  23 | elapsed:  1.3min finished\n",
            "\n",
            "[2020-06-07 23:07:06] Features: 13/15 -- score: 0.8648303386111126[Parallel(n_jobs=1)]: Using backend SequentialBackend with 1 concurrent workers.\n",
            "[Parallel(n_jobs=1)]: Done   1 out of   1 | elapsed:    3.7s remaining:    0.0s\n",
            "[Parallel(n_jobs=1)]: Done  22 out of  22 | elapsed:  1.4min finished\n",
            "\n",
            "[2020-06-07 23:08:27] Features: 14/15 -- score: 0.8651829745839714[Parallel(n_jobs=1)]: Using backend SequentialBackend with 1 concurrent workers.\n",
            "[Parallel(n_jobs=1)]: Done   1 out of   1 | elapsed:    3.7s remaining:    0.0s\n",
            "[Parallel(n_jobs=1)]: Done  21 out of  21 | elapsed:  1.3min finished\n",
            "\n",
            "[2020-06-07 23:09:45] Features: 15/15 -- score: 0.8656290713133249"
          ],
          "name": "stderr"
        }
      ]
    },
    {
      "cell_type": "code",
      "metadata": {
        "id": "src4_XRFfoBV",
        "colab_type": "code",
        "outputId": "db6dc8e1-8241-4da7-b602-ec5be75a5749",
        "colab": {
          "base_uri": "https://localhost:8080/",
          "height": 51
        }
      },
      "source": [
        "feat_cols1 = list(sfs1.k_feature_idx_)\n",
        "print(\"Importanat faetures are present at the index:\")\n",
        "print(feat_cols1)"
      ],
      "execution_count": 0,
      "outputs": [
        {
          "output_type": "stream",
          "text": [
            "Importanat faetures are present at the index:\n",
            "[0, 1, 9, 10, 12, 13, 14, 15, 16, 17, 19, 21, 22, 26, 33]\n"
          ],
          "name": "stdout"
        }
      ]
    },
    {
      "cell_type": "markdown",
      "metadata": {
        "id": "TgSG_cuj6XQp",
        "colab_type": "text"
      },
      "source": [
        "Random Forest Classifier"
      ]
    },
    {
      "cell_type": "code",
      "metadata": {
        "id": "T9WeVmtKykyl",
        "colab_type": "code",
        "outputId": "693402a8-1fd6-4242-828e-a959cbb3bcca",
        "colab": {
          "base_uri": "https://localhost:8080/",
          "height": 1000
        }
      },
      "source": [
        "from sklearn.ensemble import RandomForestClassifier\n",
        "from sklearn.svm import LinearSVC\n",
        "from sklearn.pipeline import Pipeline\n",
        "from sklearn.linear_model import Ridge\n",
        "from mlxtend.feature_selection import SequentialFeatureSelector as sfs\n",
        "from mlxtend.classifier import StackingClassifier\n",
        "from sklearn.metrics import roc_curve, roc_auc_score\n",
        "\n",
        "clf2 = RandomForestClassifier(n_estimators=100, n_jobs=-1)\n",
        "sfs2 = sfs(clf2,\n",
        "           k_features=15,\n",
        "           forward=True,\n",
        "           floating=False,\n",
        "           verbose=2,\n",
        "           scoring='roc_auc',\n",
        "           cv=5)\n",
        "sfs2 = sfs2.fit(X_train, y_train)"
      ],
      "execution_count": 0,
      "outputs": [
        {
          "output_type": "stream",
          "text": [
            "[Parallel(n_jobs=1)]: Using backend SequentialBackend with 1 concurrent workers.\n",
            "[Parallel(n_jobs=1)]: Done   1 out of   1 | elapsed:    3.2s remaining:    0.0s\n",
            "[Parallel(n_jobs=1)]: Done  35 out of  35 | elapsed:  1.2min finished\n",
            "\n",
            "[2020-06-07 23:10:57] Features: 1/15 -- score: 0.7020852818794674[Parallel(n_jobs=1)]: Using backend SequentialBackend with 1 concurrent workers.\n",
            "[Parallel(n_jobs=1)]: Done   1 out of   1 | elapsed:    2.3s remaining:    0.0s\n",
            "[Parallel(n_jobs=1)]: Done  34 out of  34 | elapsed:  1.3min finished\n",
            "\n",
            "[2020-06-07 23:12:14] Features: 2/15 -- score: 0.7846640217482934[Parallel(n_jobs=1)]: Using backend SequentialBackend with 1 concurrent workers.\n",
            "[Parallel(n_jobs=1)]: Done   1 out of   1 | elapsed:    2.5s remaining:    0.0s\n",
            "[Parallel(n_jobs=1)]: Done  33 out of  33 | elapsed:  1.3min finished\n",
            "\n",
            "[2020-06-07 23:13:35] Features: 3/15 -- score: 0.8262418737447683[Parallel(n_jobs=1)]: Using backend SequentialBackend with 1 concurrent workers.\n",
            "[Parallel(n_jobs=1)]: Done   1 out of   1 | elapsed:    2.8s remaining:    0.0s\n",
            "[Parallel(n_jobs=1)]: Done  32 out of  32 | elapsed:  1.5min finished\n",
            "\n",
            "[2020-06-07 23:15:06] Features: 4/15 -- score: 0.842271808855332[Parallel(n_jobs=1)]: Using backend SequentialBackend with 1 concurrent workers.\n",
            "[Parallel(n_jobs=1)]: Done   1 out of   1 | elapsed:    3.4s remaining:    0.0s\n",
            "[Parallel(n_jobs=1)]: Done  31 out of  31 | elapsed:  1.7min finished\n",
            "\n",
            "[2020-06-07 23:16:46] Features: 5/15 -- score: 0.8450548567270542[Parallel(n_jobs=1)]: Using backend SequentialBackend with 1 concurrent workers.\n",
            "[Parallel(n_jobs=1)]: Done   1 out of   1 | elapsed:    3.5s remaining:    0.0s\n",
            "[Parallel(n_jobs=1)]: Done  30 out of  30 | elapsed:  1.7min finished\n",
            "\n",
            "[2020-06-07 23:18:28] Features: 6/15 -- score: 0.8454118680407623[Parallel(n_jobs=1)]: Using backend SequentialBackend with 1 concurrent workers.\n",
            "[Parallel(n_jobs=1)]: Done   1 out of   1 | elapsed:    3.5s remaining:    0.0s\n",
            "[Parallel(n_jobs=1)]: Done  29 out of  29 | elapsed:  1.6min finished\n",
            "\n",
            "[2020-06-07 23:20:07] Features: 7/15 -- score: 0.8432994228744205[Parallel(n_jobs=1)]: Using backend SequentialBackend with 1 concurrent workers.\n",
            "[Parallel(n_jobs=1)]: Done   1 out of   1 | elapsed:    3.6s remaining:    0.0s\n",
            "[Parallel(n_jobs=1)]: Done  28 out of  28 | elapsed:  1.7min finished\n",
            "\n",
            "[2020-06-07 23:21:47] Features: 8/15 -- score: 0.8416847134291583[Parallel(n_jobs=1)]: Using backend SequentialBackend with 1 concurrent workers.\n",
            "[Parallel(n_jobs=1)]: Done   1 out of   1 | elapsed:    4.0s remaining:    0.0s\n",
            "[Parallel(n_jobs=1)]: Done  27 out of  27 | elapsed:  1.8min finished\n",
            "\n",
            "[2020-06-07 23:23:35] Features: 9/15 -- score: 0.8391651897041681[Parallel(n_jobs=1)]: Using backend SequentialBackend with 1 concurrent workers.\n",
            "[Parallel(n_jobs=1)]: Done   1 out of   1 | elapsed:    4.3s remaining:    0.0s\n",
            "[Parallel(n_jobs=1)]: Done  26 out of  26 | elapsed:  1.8min finished\n",
            "\n",
            "[2020-06-07 23:25:25] Features: 10/15 -- score: 0.835709060836694[Parallel(n_jobs=1)]: Using backend SequentialBackend with 1 concurrent workers.\n",
            "[Parallel(n_jobs=1)]: Done   1 out of   1 | elapsed:    4.4s remaining:    0.0s\n",
            "[Parallel(n_jobs=1)]: Done  25 out of  25 | elapsed:  1.8min finished\n",
            "\n",
            "[2020-06-07 23:27:14] Features: 11/15 -- score: 0.8330252266001752[Parallel(n_jobs=1)]: Using backend SequentialBackend with 1 concurrent workers.\n",
            "[Parallel(n_jobs=1)]: Done   1 out of   1 | elapsed:    4.7s remaining:    0.0s\n",
            "[Parallel(n_jobs=1)]: Done  24 out of  24 | elapsed:  1.9min finished\n",
            "\n",
            "[2020-06-07 23:29:05] Features: 12/15 -- score: 0.829394239095248[Parallel(n_jobs=1)]: Using backend SequentialBackend with 1 concurrent workers.\n",
            "[Parallel(n_jobs=1)]: Done   1 out of   1 | elapsed:    4.8s remaining:    0.0s\n",
            "[Parallel(n_jobs=1)]: Done  23 out of  23 | elapsed:  1.9min finished\n",
            "\n",
            "[2020-06-07 23:30:56] Features: 13/15 -- score: 0.8262885143941695[Parallel(n_jobs=1)]: Using backend SequentialBackend with 1 concurrent workers.\n",
            "[Parallel(n_jobs=1)]: Done   1 out of   1 | elapsed:    5.5s remaining:    0.0s\n",
            "[Parallel(n_jobs=1)]: Done  22 out of  22 | elapsed:  1.9min finished\n",
            "\n",
            "[2020-06-07 23:32:52] Features: 14/15 -- score: 0.825788131220157[Parallel(n_jobs=1)]: Using backend SequentialBackend with 1 concurrent workers.\n",
            "[Parallel(n_jobs=1)]: Done   1 out of   1 | elapsed:    5.4s remaining:    0.0s\n",
            "[Parallel(n_jobs=1)]: Done  21 out of  21 | elapsed:  1.9min finished\n",
            "\n",
            "[2020-06-07 23:34:47] Features: 15/15 -- score: 0.822332158070197"
          ],
          "name": "stderr"
        }
      ]
    },
    {
      "cell_type": "code",
      "metadata": {
        "id": "y6OgDmsoKHn1",
        "colab_type": "code",
        "outputId": "3f7b8f8a-f3e1-43c3-c2e5-ec2d45b84932",
        "colab": {
          "base_uri": "https://localhost:8080/",
          "height": 51
        }
      },
      "source": [
        "feat_cols2 = list(sfs2.k_feature_idx_)\n",
        "print(\"Importanat faetures are present at the index:\")\n",
        "print(feat_cols2)"
      ],
      "execution_count": 0,
      "outputs": [
        {
          "output_type": "stream",
          "text": [
            "Importanat faetures are present at the index:\n",
            "[2, 4, 5, 6, 9, 10, 11, 12, 13, 14, 15, 16, 18, 23, 24]\n"
          ],
          "name": "stdout"
        }
      ]
    },
    {
      "cell_type": "markdown",
      "metadata": {
        "id": "YPavx9-e638s",
        "colab_type": "text"
      },
      "source": [
        "MLP Regressor"
      ]
    },
    {
      "cell_type": "code",
      "metadata": {
        "id": "S7YvqCt_61rt",
        "colab_type": "code",
        "colab": {}
      },
      "source": [
        "from sklearn.neural_network import MLPRegressor\n",
        "from sklearn.metrics import roc_curve, roc_auc_score\n",
        "clf3 = MLPRegressor(random_state=1, max_iter=500)\n",
        "sfs3=sfs(clf3,\n",
        "           k_features=15,\n",
        "           forward=True,\n",
        "           floating=False,\n",
        "           verbose=2,\n",
        "           scoring='roc_auc',\n",
        "           cv=5)\n",
        "sfs3 = sfs3.fit(X_train, y_train)"
      ],
      "execution_count": 0,
      "outputs": []
    },
    {
      "cell_type": "code",
      "metadata": {
        "id": "rWy0B4PO7fbN",
        "colab_type": "code",
        "colab": {}
      },
      "source": [
        "feat_cols3 = list(sfs3.k_feature_idx_)\n",
        "print(\"Importanat faetures are present at the index:\")\n",
        "print(feat_cols3)"
      ],
      "execution_count": 0,
      "outputs": []
    },
    {
      "cell_type": "code",
      "metadata": {
        "id": "_pizR3ikFTk1",
        "colab_type": "code",
        "colab": {}
      },
      "source": [
        "from sklearn.neural_network import MLPClassifier\n",
        "from sklearn.metrics import roc_curve, roc_auc_score\n",
        "clf3a = MLPClassifier(random_state=1, max_iter=500)\n",
        "sfs3a=sfs(clf3a,\n",
        "           k_features=15,\n",
        "           forward=True,\n",
        "           floating=False,\n",
        "           verbose=2,\n",
        "           scoring='roc_auc',\n",
        "           cv=5)\n",
        "sfs3a = sfs3a.fit(X_train, y_train)"
      ],
      "execution_count": 0,
      "outputs": []
    },
    {
      "cell_type": "code",
      "metadata": {
        "id": "kzfznm_9FV9W",
        "colab_type": "code",
        "colab": {}
      },
      "source": [
        "feat_cols3a = list(sfs3a.k_feature_idx_)\n",
        "print(\"Importanat faetures are present at the index:\")\n",
        "print(feat_cols3a)"
      ],
      "execution_count": 0,
      "outputs": []
    },
    {
      "cell_type": "markdown",
      "metadata": {
        "id": "zfxpxOZx6iRq",
        "colab_type": "text"
      },
      "source": [
        "Decision Tress Classifier"
      ]
    },
    {
      "cell_type": "code",
      "metadata": {
        "id": "Q063iE8R7oxs",
        "colab_type": "code",
        "outputId": "dbf9908a-cee2-4169-d830-923e484865a4",
        "colab": {
          "base_uri": "https://localhost:8080/",
          "height": 231
        }
      },
      "source": [
        "from sklearn.tree import DecisionTreeRegressor\n",
        "clf4 = DecisionTreeRegressor(random_state=1, max_iter=500)\n",
        "sfs4=sfs(clf4,\n",
        "           k_features=15,\n",
        "           forward=True,\n",
        "           floating=False,\n",
        "           verbose=2,\n",
        "           scoring='roc_auc',\n",
        "           cv=5)\n",
        "sfs4 = sfs4.fit(X_train, y_train)"
      ],
      "execution_count": 0,
      "outputs": [
        {
          "output_type": "error",
          "ename": "TypeError",
          "evalue": "ignored",
          "traceback": [
            "\u001b[0;31m---------------------------------------------------------------------------\u001b[0m",
            "\u001b[0;31mTypeError\u001b[0m                                 Traceback (most recent call last)",
            "\u001b[0;32m<ipython-input-39-a44ab0d1e0e6>\u001b[0m in \u001b[0;36m<module>\u001b[0;34m()\u001b[0m\n\u001b[1;32m      1\u001b[0m \u001b[0;32mfrom\u001b[0m \u001b[0msklearn\u001b[0m\u001b[0;34m.\u001b[0m\u001b[0mtree\u001b[0m \u001b[0;32mimport\u001b[0m \u001b[0mDecisionTreeRegressor\u001b[0m\u001b[0;34m\u001b[0m\u001b[0;34m\u001b[0m\u001b[0m\n\u001b[0;32m----> 2\u001b[0;31m \u001b[0mclf4\u001b[0m \u001b[0;34m=\u001b[0m \u001b[0mDecisionTreeRegressor\u001b[0m\u001b[0;34m(\u001b[0m\u001b[0mrandom_state\u001b[0m\u001b[0;34m=\u001b[0m\u001b[0;36m1\u001b[0m\u001b[0;34m,\u001b[0m \u001b[0mmax_iter\u001b[0m\u001b[0;34m=\u001b[0m\u001b[0;36m500\u001b[0m\u001b[0;34m)\u001b[0m\u001b[0;34m\u001b[0m\u001b[0;34m\u001b[0m\u001b[0m\n\u001b[0m\u001b[1;32m      3\u001b[0m sfs4=sfs(clf4,\n\u001b[1;32m      4\u001b[0m            \u001b[0mk_features\u001b[0m\u001b[0;34m=\u001b[0m\u001b[0;36m15\u001b[0m\u001b[0;34m,\u001b[0m\u001b[0;34m\u001b[0m\u001b[0;34m\u001b[0m\u001b[0m\n\u001b[1;32m      5\u001b[0m            \u001b[0mforward\u001b[0m\u001b[0;34m=\u001b[0m\u001b[0;32mTrue\u001b[0m\u001b[0;34m,\u001b[0m\u001b[0;34m\u001b[0m\u001b[0;34m\u001b[0m\u001b[0m\n",
            "\u001b[0;31mTypeError\u001b[0m: __init__() got an unexpected keyword argument 'max_iter'"
          ]
        }
      ]
    },
    {
      "cell_type": "code",
      "metadata": {
        "id": "v1pp2dn_F_EG",
        "colab_type": "code",
        "colab": {}
      },
      "source": [
        "feat_cols4 = list(sfs4.k_feature_idx_)\n",
        "print(\"Importanat faetures are present at the index:\")\n",
        "print(feat_cols4)"
      ],
      "execution_count": 0,
      "outputs": []
    },
    {
      "cell_type": "code",
      "metadata": {
        "id": "RsbIfOj2GcTh",
        "colab_type": "code",
        "outputId": "19f51b5b-39c7-419d-ef92-19eda1bb312e",
        "colab": {
          "base_uri": "https://localhost:8080/",
          "height": 1000
        }
      },
      "source": [
        "from sklearn.tree import DecisionTreeClassifier\n",
        "clf4a = DecisionTreeClassifier(random_state=1)\n",
        "sfs4a=sfs(clf4a,\n",
        "           k_features=15,\n",
        "           forward=True,\n",
        "           floating=False,\n",
        "           verbose=2,\n",
        "           scoring='roc_auc',\n",
        "           cv=5)\n",
        "sfs4a = sfs4a.fit(X_train, y_train)"
      ],
      "execution_count": 0,
      "outputs": [
        {
          "output_type": "stream",
          "text": [
            "[Parallel(n_jobs=1)]: Using backend SequentialBackend with 1 concurrent workers.\n",
            "[Parallel(n_jobs=1)]: Done   1 out of   1 | elapsed:    0.0s remaining:    0.0s\n",
            "[Parallel(n_jobs=1)]: Done  35 out of  35 | elapsed:    1.0s finished\n",
            "\n",
            "[2020-06-07 23:52:33] Features: 1/15 -- score: 0.7019532538129466[Parallel(n_jobs=1)]: Using backend SequentialBackend with 1 concurrent workers.\n",
            "[Parallel(n_jobs=1)]: Done   1 out of   1 | elapsed:    0.0s remaining:    0.0s\n",
            "[Parallel(n_jobs=1)]: Done  34 out of  34 | elapsed:    1.2s finished\n",
            "\n",
            "[2020-06-07 23:52:34] Features: 2/15 -- score: 0.7847268759882068[Parallel(n_jobs=1)]: Using backend SequentialBackend with 1 concurrent workers.\n",
            "[Parallel(n_jobs=1)]: Done   1 out of   1 | elapsed:    0.0s remaining:    0.0s\n",
            "[Parallel(n_jobs=1)]: Done  33 out of  33 | elapsed:    1.4s finished\n",
            "\n",
            "[2020-06-07 23:52:35] Features: 3/15 -- score: 0.826152053225376[Parallel(n_jobs=1)]: Using backend SequentialBackend with 1 concurrent workers.\n",
            "[Parallel(n_jobs=1)]: Done   1 out of   1 | elapsed:    0.1s remaining:    0.0s\n",
            "[Parallel(n_jobs=1)]: Done  32 out of  32 | elapsed:    1.6s finished\n",
            "\n",
            "[2020-06-07 23:52:37] Features: 4/15 -- score: 0.8411434615399763[Parallel(n_jobs=1)]: Using backend SequentialBackend with 1 concurrent workers.\n",
            "[Parallel(n_jobs=1)]: Done   1 out of   1 | elapsed:    0.1s remaining:    0.0s\n",
            "[Parallel(n_jobs=1)]: Done  31 out of  31 | elapsed:    2.1s finished\n",
            "\n",
            "[2020-06-07 23:52:39] Features: 5/15 -- score: 0.8411434615399763[Parallel(n_jobs=1)]: Using backend SequentialBackend with 1 concurrent workers.\n",
            "[Parallel(n_jobs=1)]: Done   1 out of   1 | elapsed:    0.1s remaining:    0.0s\n",
            "[Parallel(n_jobs=1)]: Done  30 out of  30 | elapsed:    2.1s finished\n",
            "\n",
            "[2020-06-07 23:52:41] Features: 6/15 -- score: 0.8409878045516213[Parallel(n_jobs=1)]: Using backend SequentialBackend with 1 concurrent workers.\n",
            "[Parallel(n_jobs=1)]: Done   1 out of   1 | elapsed:    0.1s remaining:    0.0s\n",
            "[Parallel(n_jobs=1)]: Done  29 out of  29 | elapsed:    2.4s finished\n",
            "\n",
            "[2020-06-07 23:52:44] Features: 7/15 -- score: 0.8371596149343136[Parallel(n_jobs=1)]: Using backend SequentialBackend with 1 concurrent workers.\n",
            "[Parallel(n_jobs=1)]: Done   1 out of   1 | elapsed:    0.1s remaining:    0.0s\n",
            "[Parallel(n_jobs=1)]: Done  28 out of  28 | elapsed:    2.5s finished\n",
            "\n",
            "[2020-06-07 23:52:46] Features: 8/15 -- score: 0.8310043204727975[Parallel(n_jobs=1)]: Using backend SequentialBackend with 1 concurrent workers.\n",
            "[Parallel(n_jobs=1)]: Done   1 out of   1 | elapsed:    0.1s remaining:    0.0s\n",
            "[Parallel(n_jobs=1)]: Done  27 out of  27 | elapsed:    2.7s finished\n",
            "\n",
            "[2020-06-07 23:52:49] Features: 9/15 -- score: 0.8232797606103063[Parallel(n_jobs=1)]: Using backend SequentialBackend with 1 concurrent workers.\n",
            "[Parallel(n_jobs=1)]: Done   1 out of   1 | elapsed:    0.1s remaining:    0.0s\n",
            "[Parallel(n_jobs=1)]: Done  26 out of  26 | elapsed:    2.9s finished\n",
            "\n",
            "[2020-06-07 23:52:52] Features: 10/15 -- score: 0.8145343874763078[Parallel(n_jobs=1)]: Using backend SequentialBackend with 1 concurrent workers.\n",
            "[Parallel(n_jobs=1)]: Done   1 out of   1 | elapsed:    0.1s remaining:    0.0s\n",
            "[Parallel(n_jobs=1)]: Done  25 out of  25 | elapsed:    3.0s finished\n",
            "\n",
            "[2020-06-07 23:52:55] Features: 11/15 -- score: 0.8057108793796282[Parallel(n_jobs=1)]: Using backend SequentialBackend with 1 concurrent workers.\n",
            "[Parallel(n_jobs=1)]: Done   1 out of   1 | elapsed:    0.1s remaining:    0.0s\n",
            "[Parallel(n_jobs=1)]: Done  24 out of  24 | elapsed:    3.1s finished\n",
            "\n",
            "[2020-06-07 23:52:58] Features: 12/15 -- score: 0.7896823896345737[Parallel(n_jobs=1)]: Using backend SequentialBackend with 1 concurrent workers.\n",
            "[Parallel(n_jobs=1)]: Done   1 out of   1 | elapsed:    0.2s remaining:    0.0s\n",
            "[Parallel(n_jobs=1)]: Done  23 out of  23 | elapsed:    3.3s finished\n",
            "\n",
            "[2020-06-07 23:53:01] Features: 13/15 -- score: 0.7713954093610138[Parallel(n_jobs=1)]: Using backend SequentialBackend with 1 concurrent workers.\n",
            "[Parallel(n_jobs=1)]: Done   1 out of   1 | elapsed:    0.2s remaining:    0.0s\n",
            "[Parallel(n_jobs=1)]: Done  22 out of  22 | elapsed:    3.5s finished\n",
            "\n",
            "[2020-06-07 23:53:05] Features: 14/15 -- score: 0.7550569853467904[Parallel(n_jobs=1)]: Using backend SequentialBackend with 1 concurrent workers.\n",
            "[Parallel(n_jobs=1)]: Done   1 out of   1 | elapsed:    0.2s remaining:    0.0s\n",
            "[Parallel(n_jobs=1)]: Done  21 out of  21 | elapsed:    3.7s finished\n",
            "\n",
            "[2020-06-07 23:53:08] Features: 15/15 -- score: 0.7393634437927143"
          ],
          "name": "stderr"
        }
      ]
    },
    {
      "cell_type": "code",
      "metadata": {
        "id": "P0wSxH6WGdt0",
        "colab_type": "code",
        "outputId": "ce6fbcb5-eba4-491f-d693-d46d400e2338",
        "colab": {
          "base_uri": "https://localhost:8080/",
          "height": 51
        }
      },
      "source": [
        "feat_cols4a = list(sfs4a.k_feature_idx_)\n",
        "print(\"Importanat faetures are present at the index:\")\n",
        "print(feat_cols4a)"
      ],
      "execution_count": 0,
      "outputs": [
        {
          "output_type": "stream",
          "text": [
            "Importanat faetures are present at the index:\n",
            "[2, 4, 5, 6, 7, 8, 9, 10, 11, 12, 13, 14, 15, 16, 24]\n"
          ],
          "name": "stdout"
        }
      ]
    },
    {
      "cell_type": "markdown",
      "metadata": {
        "id": "WMM6UXsjGtje",
        "colab_type": "text"
      },
      "source": [
        "Linear Regression"
      ]
    },
    {
      "cell_type": "code",
      "metadata": {
        "id": "XwVmfN8uGv2q",
        "colab_type": "code",
        "outputId": "bb74248b-f8f6-4a4e-b58f-7648a6bcb85e",
        "colab": {
          "base_uri": "https://localhost:8080/",
          "height": 1000
        }
      },
      "source": [
        "from sklearn.linear_model import LinearRegression\n",
        "from sklearn.metrics import roc_curve, roc_auc_score\n",
        "clf5 = LinearRegression()\n",
        "sfs5=sfs(clf5,\n",
        "           k_features=15,\n",
        "           forward=True,\n",
        "           floating=False,\n",
        "           verbose=2,\n",
        "           scoring='roc_auc',\n",
        "           cv=5)\n",
        "sfs5 = sfs5.fit(X_train, y_train)"
      ],
      "execution_count": 0,
      "outputs": [
        {
          "output_type": "stream",
          "text": [
            "[Parallel(n_jobs=1)]: Using backend SequentialBackend with 1 concurrent workers.\n",
            "[Parallel(n_jobs=1)]: Done   1 out of   1 | elapsed:    0.0s remaining:    0.0s\n",
            "[Parallel(n_jobs=1)]: Done  35 out of  35 | elapsed:    0.6s finished\n",
            "\n",
            "[2020-06-07 23:54:08] Features: 1/15 -- score: 0.6998603537039717[Parallel(n_jobs=1)]: Using backend SequentialBackend with 1 concurrent workers.\n",
            "[Parallel(n_jobs=1)]: Done   1 out of   1 | elapsed:    0.0s remaining:    0.0s\n",
            "[Parallel(n_jobs=1)]: Done  34 out of  34 | elapsed:    0.7s finished\n",
            "\n",
            "[2020-06-07 23:54:09] Features: 2/15 -- score: 0.734538268298187[Parallel(n_jobs=1)]: Using backend SequentialBackend with 1 concurrent workers.\n",
            "[Parallel(n_jobs=1)]: Done   1 out of   1 | elapsed:    0.0s remaining:    0.0s\n",
            "[Parallel(n_jobs=1)]: Done  33 out of  33 | elapsed:    1.2s finished\n",
            "\n",
            "[2020-06-07 23:54:10] Features: 3/15 -- score: 0.7607760928987373[Parallel(n_jobs=1)]: Using backend SequentialBackend with 1 concurrent workers.\n",
            "[Parallel(n_jobs=1)]: Done   1 out of   1 | elapsed:    0.0s remaining:    0.0s\n",
            "[Parallel(n_jobs=1)]: Done  32 out of  32 | elapsed:    1.1s finished\n",
            "\n",
            "[2020-06-07 23:54:11] Features: 4/15 -- score: 0.7607760928987373[Parallel(n_jobs=1)]: Using backend SequentialBackend with 1 concurrent workers.\n",
            "[Parallel(n_jobs=1)]: Done   1 out of   1 | elapsed:    0.0s remaining:    0.0s\n",
            "[Parallel(n_jobs=1)]: Done  31 out of  31 | elapsed:    1.2s finished\n",
            "\n",
            "[2020-06-07 23:54:12] Features: 5/15 -- score: 0.7525749161336175[Parallel(n_jobs=1)]: Using backend SequentialBackend with 1 concurrent workers.\n",
            "[Parallel(n_jobs=1)]: Done   1 out of   1 | elapsed:    0.0s remaining:    0.0s\n",
            "[Parallel(n_jobs=1)]: Done  30 out of  30 | elapsed:    1.2s finished\n",
            "\n",
            "[2020-06-07 23:54:13] Features: 6/15 -- score: 0.7474758926221041[Parallel(n_jobs=1)]: Using backend SequentialBackend with 1 concurrent workers.\n",
            "[Parallel(n_jobs=1)]: Done   1 out of   1 | elapsed:    0.0s remaining:    0.0s\n",
            "[Parallel(n_jobs=1)]: Done  29 out of  29 | elapsed:    1.2s finished\n",
            "\n",
            "[2020-06-07 23:54:14] Features: 7/15 -- score: 0.7454335883610648[Parallel(n_jobs=1)]: Using backend SequentialBackend with 1 concurrent workers.\n",
            "[Parallel(n_jobs=1)]: Done   1 out of   1 | elapsed:    0.0s remaining:    0.0s\n",
            "[Parallel(n_jobs=1)]: Done  28 out of  28 | elapsed:    1.2s finished\n",
            "\n",
            "[2020-06-07 23:54:16] Features: 8/15 -- score: 0.7422200457167738[Parallel(n_jobs=1)]: Using backend SequentialBackend with 1 concurrent workers.\n",
            "[Parallel(n_jobs=1)]: Done   1 out of   1 | elapsed:    0.1s remaining:    0.0s\n",
            "[Parallel(n_jobs=1)]: Done  27 out of  27 | elapsed:    1.3s finished\n",
            "\n",
            "[2020-06-07 23:54:17] Features: 9/15 -- score: 0.7398065883109387[Parallel(n_jobs=1)]: Using backend SequentialBackend with 1 concurrent workers.\n",
            "[Parallel(n_jobs=1)]: Done   1 out of   1 | elapsed:    0.1s remaining:    0.0s\n",
            "[Parallel(n_jobs=1)]: Done  26 out of  26 | elapsed:    1.3s finished\n",
            "\n",
            "[2020-06-07 23:54:18] Features: 10/15 -- score: 0.7373754062872032[Parallel(n_jobs=1)]: Using backend SequentialBackend with 1 concurrent workers.\n",
            "[Parallel(n_jobs=1)]: Done   1 out of   1 | elapsed:    0.1s remaining:    0.0s\n",
            "[Parallel(n_jobs=1)]: Done  25 out of  25 | elapsed:    1.4s finished\n",
            "\n",
            "[2020-06-07 23:54:20] Features: 11/15 -- score: 0.7342826182022539[Parallel(n_jobs=1)]: Using backend SequentialBackend with 1 concurrent workers.\n",
            "[Parallel(n_jobs=1)]: Done   1 out of   1 | elapsed:    0.1s remaining:    0.0s\n",
            "[Parallel(n_jobs=1)]: Done  24 out of  24 | elapsed:    1.4s finished\n",
            "\n",
            "[2020-06-07 23:54:21] Features: 12/15 -- score: 0.7310722668292116[Parallel(n_jobs=1)]: Using backend SequentialBackend with 1 concurrent workers.\n",
            "[Parallel(n_jobs=1)]: Done   1 out of   1 | elapsed:    0.1s remaining:    0.0s\n",
            "[Parallel(n_jobs=1)]: Done  23 out of  23 | elapsed:    1.4s finished\n",
            "\n",
            "[2020-06-07 23:54:23] Features: 13/15 -- score: 0.7275637563708345[Parallel(n_jobs=1)]: Using backend SequentialBackend with 1 concurrent workers.\n",
            "[Parallel(n_jobs=1)]: Done   1 out of   1 | elapsed:    0.1s remaining:    0.0s\n",
            "[Parallel(n_jobs=1)]: Done  22 out of  22 | elapsed:    1.4s finished\n",
            "\n",
            "[2020-06-07 23:54:24] Features: 14/15 -- score: 0.7196922388147619[Parallel(n_jobs=1)]: Using backend SequentialBackend with 1 concurrent workers.\n",
            "[Parallel(n_jobs=1)]: Done   1 out of   1 | elapsed:    0.1s remaining:    0.0s\n",
            "[Parallel(n_jobs=1)]: Done  21 out of  21 | elapsed:    1.4s finished\n",
            "\n",
            "[2020-06-07 23:54:25] Features: 15/15 -- score: 0.7092509599726944"
          ],
          "name": "stderr"
        }
      ]
    },
    {
      "cell_type": "code",
      "metadata": {
        "id": "NUcBIqgDHDtM",
        "colab_type": "code",
        "outputId": "2d6c0c2f-155e-4cff-bdfa-f8cab833402d",
        "colab": {
          "base_uri": "https://localhost:8080/",
          "height": 51
        }
      },
      "source": [
        "feat_cols5 = list(sfs5.k_feature_idx_)\n",
        "print(\"Importanat faetures are present at the index:\")\n",
        "print(feat_cols5)"
      ],
      "execution_count": 0,
      "outputs": [
        {
          "output_type": "stream",
          "text": [
            "Importanat faetures are present at the index:\n",
            "[0, 1, 3, 4, 5, 6, 7, 8, 9, 10, 15, 17, 18, 19, 24]\n"
          ],
          "name": "stdout"
        }
      ]
    },
    {
      "cell_type": "markdown",
      "metadata": {
        "id": "RMtrweDnLu3z",
        "colab_type": "text"
      },
      "source": [
        "Gradient Boosting Classifier"
      ]
    },
    {
      "cell_type": "code",
      "metadata": {
        "id": "iuBtdBoPLyFY",
        "colab_type": "code",
        "outputId": "dcc5b974-06f3-45e1-b11d-1e79b96f2c58",
        "colab": {
          "base_uri": "https://localhost:8080/",
          "height": 1000
        }
      },
      "source": [
        "from sklearn.ensemble import GradientBoostingClassifier\n",
        "clf6 = GradientBoostingClassifier(random_state=1)\n",
        "sfs6=sfs(clf6,\n",
        "           k_features=15,\n",
        "           forward=True,\n",
        "           floating=False,\n",
        "           verbose=2,\n",
        "           scoring='roc_auc',\n",
        "           cv=5)\n",
        "sfs6 = sfs6.fit(X_train, y_train)"
      ],
      "execution_count": 0,
      "outputs": [
        {
          "output_type": "stream",
          "text": [
            "[Parallel(n_jobs=1)]: Using backend SequentialBackend with 1 concurrent workers.\n",
            "[Parallel(n_jobs=1)]: Done   1 out of   1 | elapsed:    1.5s remaining:    0.0s\n",
            "[Parallel(n_jobs=1)]: Done  35 out of  35 | elapsed:   46.8s finished\n",
            "\n",
            "[2020-06-07 23:56:04] Features: 1/15 -- score: 0.7019532538129466[Parallel(n_jobs=1)]: Using backend SequentialBackend with 1 concurrent workers.\n",
            "[Parallel(n_jobs=1)]: Done   1 out of   1 | elapsed:    2.0s remaining:    0.0s\n",
            "[Parallel(n_jobs=1)]: Done  34 out of  34 | elapsed:  1.1min finished\n",
            "\n",
            "[2020-06-07 23:57:09] Features: 2/15 -- score: 0.7847534203367698[Parallel(n_jobs=1)]: Using backend SequentialBackend with 1 concurrent workers.\n",
            "[Parallel(n_jobs=1)]: Done   1 out of   1 | elapsed:    2.2s remaining:    0.0s\n",
            "[Parallel(n_jobs=1)]: Done  33 out of  33 | elapsed:  1.2min finished\n",
            "\n",
            "[2020-06-07 23:58:20] Features: 3/15 -- score: 0.8267558919541704[Parallel(n_jobs=1)]: Using backend SequentialBackend with 1 concurrent workers.\n",
            "[Parallel(n_jobs=1)]: Done   1 out of   1 | elapsed:    2.6s remaining:    0.0s\n",
            "[Parallel(n_jobs=1)]: Done  32 out of  32 | elapsed:  1.3min finished\n",
            "\n",
            "[2020-06-07 23:59:38] Features: 4/15 -- score: 0.8468157706234312[Parallel(n_jobs=1)]: Using backend SequentialBackend with 1 concurrent workers.\n",
            "[Parallel(n_jobs=1)]: Done   1 out of   1 | elapsed:    2.9s remaining:    0.0s\n",
            "[Parallel(n_jobs=1)]: Done  31 out of  31 | elapsed:  1.5min finished\n",
            "\n",
            "[2020-06-08 00:01:06] Features: 5/15 -- score: 0.8548917667880536[Parallel(n_jobs=1)]: Using backend SequentialBackend with 1 concurrent workers.\n",
            "[Parallel(n_jobs=1)]: Done   1 out of   1 | elapsed:    3.6s remaining:    0.0s\n",
            "[Parallel(n_jobs=1)]: Done  30 out of  30 | elapsed:  1.7min finished\n",
            "\n",
            "[2020-06-08 00:02:50] Features: 6/15 -- score: 0.8574161986632607[Parallel(n_jobs=1)]: Using backend SequentialBackend with 1 concurrent workers.\n",
            "[Parallel(n_jobs=1)]: Done   1 out of   1 | elapsed:    4.0s remaining:    0.0s\n",
            "[Parallel(n_jobs=1)]: Done  29 out of  29 | elapsed:  1.8min finished\n",
            "\n",
            "[2020-06-08 00:04:41] Features: 7/15 -- score: 0.8594873470529046[Parallel(n_jobs=1)]: Using backend SequentialBackend with 1 concurrent workers.\n",
            "[Parallel(n_jobs=1)]: Done   1 out of   1 | elapsed:    4.0s remaining:    0.0s\n",
            "[Parallel(n_jobs=1)]: Done  28 out of  28 | elapsed:  1.8min finished\n",
            "\n",
            "[2020-06-08 00:06:31] Features: 8/15 -- score: 0.861453189596206[Parallel(n_jobs=1)]: Using backend SequentialBackend with 1 concurrent workers.\n",
            "[Parallel(n_jobs=1)]: Done   1 out of   1 | elapsed:    4.2s remaining:    0.0s\n",
            "[Parallel(n_jobs=1)]: Done  27 out of  27 | elapsed:  1.8min finished\n",
            "\n",
            "[2020-06-08 00:08:20] Features: 9/15 -- score: 0.8622646983535616[Parallel(n_jobs=1)]: Using backend SequentialBackend with 1 concurrent workers.\n",
            "[Parallel(n_jobs=1)]: Done   1 out of   1 | elapsed:    4.3s remaining:    0.0s\n",
            "[Parallel(n_jobs=1)]: Done  26 out of  26 | elapsed:  1.8min finished\n",
            "\n",
            "[2020-06-08 00:10:10] Features: 10/15 -- score: 0.863120115249042[Parallel(n_jobs=1)]: Using backend SequentialBackend with 1 concurrent workers.\n",
            "[Parallel(n_jobs=1)]: Done   1 out of   1 | elapsed:    4.6s remaining:    0.0s\n",
            "[Parallel(n_jobs=1)]: Done  25 out of  25 | elapsed:  1.9min finished\n",
            "\n",
            "[2020-06-08 00:12:03] Features: 11/15 -- score: 0.8638450235149069[Parallel(n_jobs=1)]: Using backend SequentialBackend with 1 concurrent workers.\n",
            "[Parallel(n_jobs=1)]: Done   1 out of   1 | elapsed:    4.7s remaining:    0.0s\n",
            "[Parallel(n_jobs=1)]: Done  24 out of  24 | elapsed:  1.9min finished\n",
            "\n",
            "[2020-06-08 00:13:55] Features: 12/15 -- score: 0.8648331835089458[Parallel(n_jobs=1)]: Using backend SequentialBackend with 1 concurrent workers.\n",
            "[Parallel(n_jobs=1)]: Done   1 out of   1 | elapsed:    5.2s remaining:    0.0s\n",
            "[Parallel(n_jobs=1)]: Done  23 out of  23 | elapsed:  2.0min finished\n",
            "\n",
            "[2020-06-08 00:15:53] Features: 13/15 -- score: 0.8655053907114206[Parallel(n_jobs=1)]: Using backend SequentialBackend with 1 concurrent workers.\n",
            "[Parallel(n_jobs=1)]: Done   1 out of   1 | elapsed:    5.4s remaining:    0.0s\n",
            "[Parallel(n_jobs=1)]: Done  22 out of  22 | elapsed:  2.0min finished\n",
            "\n",
            "[2020-06-08 00:17:52] Features: 14/15 -- score: 0.8655933889264936[Parallel(n_jobs=1)]: Using backend SequentialBackend with 1 concurrent workers.\n",
            "[Parallel(n_jobs=1)]: Done   1 out of   1 | elapsed:    5.6s remaining:    0.0s\n",
            "[Parallel(n_jobs=1)]: Done  21 out of  21 | elapsed:  1.9min finished\n",
            "\n",
            "[2020-06-08 00:19:49] Features: 15/15 -- score: 0.865671678129263"
          ],
          "name": "stderr"
        }
      ]
    },
    {
      "cell_type": "code",
      "metadata": {
        "id": "wabgUTLtMCwT",
        "colab_type": "code",
        "outputId": "c2f6dd3a-7259-4cf2-b075-23f3aadcf666",
        "colab": {
          "base_uri": "https://localhost:8080/",
          "height": 51
        }
      },
      "source": [
        "feat_cols6 = list(sfs6.k_feature_idx_)\n",
        "print(\"Importanat faetures are present at the index:\")\n",
        "print(feat_cols6)"
      ],
      "execution_count": 0,
      "outputs": [
        {
          "output_type": "stream",
          "text": [
            "Importanat faetures are present at the index:\n",
            "[1, 3, 9, 10, 12, 13, 14, 15, 16, 17, 19, 21, 22, 26, 33]\n"
          ],
          "name": "stdout"
        }
      ]
    },
    {
      "cell_type": "markdown",
      "metadata": {
        "id": "90f8XKwg6l-J",
        "colab_type": "text"
      },
      "source": [
        "# **After feature engg...creating new dataframe with important features**"
      ]
    },
    {
      "cell_type": "markdown",
      "metadata": {
        "id": "WrRfH6iLgI8C",
        "colab_type": "text"
      },
      "source": [
        "main_features_seas=['h1n1_concern','h1n1_knowledge','behavioral_avoidance','behavioral_touch_face','doctor_recc_seasonal','child_under_6_months','health_worker','opinion_h1n1_sick_from_vacc','opinion_seas_vacc_effective','opinion_seas_risk','opinion_seas_sick_from_vacc']\n",
        "#train_X = X_train[main_features]\n",
        "#test_X=X_test[main_features]\n",
        "\n",
        "train_X1 = X[main_features_seas]\n",
        "test_X1=test_file_new[main_features_seas]"
      ]
    },
    {
      "cell_type": "code",
      "metadata": {
        "id": "r4h_DRsScpAR",
        "colab_type": "code",
        "colab": {}
      },
      "source": [
        "main_features_h1n1=['h1n1_concern','behavioral_avoidance','behavioral_face_mask','behavioral_wash_hands','behavioral_touch_face','doctor_recc_h1n1','chronic_med_condition','child_under_6_months','health_worker','health_insurance','opinion_h1n1_vacc_effective','opinion_h1n1_risk','opinion_h1n1_sick_from_vacc','opinion_seas_vacc_effective','age_group','race']\n",
        "#train_X = X_train[main_features]\n",
        "#test_X=X_test[main_features]\n",
        "\n",
        "train_X1 = X[main_features_h1n1]\n",
        "test_X1=test_file_new[main_features_h1n1]"
      ],
      "execution_count": 0,
      "outputs": []
    },
    {
      "cell_type": "code",
      "metadata": {
        "id": "wRH2hg33we3W",
        "colab_type": "code",
        "colab": {}
      },
      "source": [
        "clf11=XGBClassifier()\n",
        "clf11.fit(train_X1,y_seas)\n",
        "y_pred1=clf11.predict_proba(test_X1)\n",
        "#roc_auc_score(y_test,y_pred5)"
      ],
      "execution_count": 0,
      "outputs": []
    },
    {
      "cell_type": "code",
      "metadata": {
        "id": "ZUwalgoQxZeD",
        "colab_type": "code",
        "outputId": "d6a31546-6484-457b-dc5d-a6d037b90ba9",
        "colab": {
          "base_uri": "https://localhost:8080/",
          "height": 136
        }
      },
      "source": [
        "print(y_pred1)"
      ],
      "execution_count": 0,
      "outputs": [
        {
          "output_type": "stream",
          "text": [
            "[[0.6399094  0.36009064]\n",
            " [0.92933154 0.07066847]\n",
            " [0.27770537 0.7222946 ]\n",
            " ...\n",
            " [0.7636051  0.2363949 ]\n",
            " [0.68522125 0.31477875]\n",
            " [0.33265233 0.66734767]]\n"
          ],
          "name": "stdout"
        }
      ]
    },
    {
      "cell_type": "code",
      "metadata": {
        "id": "O42SsQUy0cE-",
        "colab_type": "code",
        "colab": {}
      },
      "source": [
        "np.savetxt('subm_h1n1_xgb_features_myvaladd.csv',y_pred1,delimiter=\",\")"
      ],
      "execution_count": 0,
      "outputs": []
    },
    {
      "cell_type": "markdown",
      "metadata": {
        "id": "SEdopoXu5xh6",
        "colab_type": "text"
      },
      "source": [
        "# **Random Forest Model**"
      ]
    },
    {
      "cell_type": "markdown",
      "metadata": {
        "id": "EzuioKP0NtQG",
        "colab_type": "text"
      },
      "source": [
        "main_features2=['h1n1_concern','behavioral_touch_face','doctor_recc_h1n1','child_under_6_months','health_worker','health_insurance','opinion_h1n1_vacc_effective','opinion_seas_vacc_effective','opinion_seas_risk','household_children']\n",
        "#train_X = X_train[main_features]\n",
        "#test_X=X_test[main_features]\n",
        "\n",
        "train_X2 = X[main_features2]\n",
        "test_X2=test_file_new[main_features2]"
      ]
    },
    {
      "cell_type": "code",
      "metadata": {
        "id": "gZqhYXlf37a0",
        "colab_type": "code",
        "colab": {}
      },
      "source": [
        "clf2= RandomForestClassifier()\n",
        "clf2.fit(train_X1,y_seas)\n",
        "y_pred2=clf2.predict_proba(test_X1)\n",
        "#roc_auc_score(y_test,y_pred5)"
      ],
      "execution_count": 0,
      "outputs": []
    },
    {
      "cell_type": "code",
      "metadata": {
        "id": "98kJO9TC3-GG",
        "colab_type": "code",
        "outputId": "64e477c0-c2f7-42d0-a78e-2ff2372d80dc",
        "colab": {
          "base_uri": "https://localhost:8080/",
          "height": 136
        }
      },
      "source": [
        "print(y_pred2)"
      ],
      "execution_count": 0,
      "outputs": [
        {
          "output_type": "stream",
          "text": [
            "[[0.94933333 0.05066667]\n",
            " [1.         0.        ]\n",
            " [0.15166667 0.84833333]\n",
            " ...\n",
            " [0.68341667 0.31658333]\n",
            " [0.788      0.212     ]\n",
            " [0.40261905 0.59738095]]\n"
          ],
          "name": "stdout"
        }
      ]
    },
    {
      "cell_type": "code",
      "metadata": {
        "id": "coCkZqX_4AXi",
        "colab_type": "code",
        "colab": {}
      },
      "source": [
        "np.savetxt('subm_h1n1_randomforest_features_myvaladd.csv',y_pred2,delimiter=\",\")"
      ],
      "execution_count": 0,
      "outputs": []
    },
    {
      "cell_type": "markdown",
      "metadata": {
        "id": "BgjzpdFGTPH-",
        "colab_type": "text"
      },
      "source": [
        "MLP Class"
      ]
    },
    {
      "cell_type": "code",
      "metadata": {
        "id": "MYjCDI-QZC1s",
        "colab_type": "code",
        "colab": {}
      },
      "source": [
        "from sklearn.neural_network import MLPClassifier\n",
        "from sklearn.metrics import roc_curve, roc_auc_score\n",
        "clf3= MLPClassifier()\n",
        "clf3.fit(train_X1,y_seas)\n",
        "y_pred3=clf3.predict_proba(test_X1)\n",
        "#roc_auc_score(y_test,y_pred5)"
      ],
      "execution_count": 0,
      "outputs": []
    },
    {
      "cell_type": "code",
      "metadata": {
        "id": "n1piPGtwZ1tU",
        "colab_type": "code",
        "outputId": "f392dd60-d8e0-4c8f-92e0-e62c4dd7233e",
        "colab": {
          "base_uri": "https://localhost:8080/",
          "height": 136
        }
      },
      "source": [
        "print(y_pred3)"
      ],
      "execution_count": 0,
      "outputs": [
        {
          "output_type": "stream",
          "text": [
            "[[0.66417762 0.33582238]\n",
            " [0.81149027 0.18850973]\n",
            " [0.52320308 0.47679692]\n",
            " ...\n",
            " [0.72959624 0.27040376]\n",
            " [0.76438039 0.23561961]\n",
            " [0.34205505 0.65794495]]\n"
          ],
          "name": "stdout"
        }
      ]
    },
    {
      "cell_type": "code",
      "metadata": {
        "id": "y8Cj9T4YZ4ZM",
        "colab_type": "code",
        "colab": {}
      },
      "source": [
        "np.savetxt('subm_h1n1_MLPclass_features_myvaladd.csv',y_pred3,delimiter=\",\")"
      ],
      "execution_count": 0,
      "outputs": []
    },
    {
      "cell_type": "markdown",
      "metadata": {
        "id": "5mcCN1ocZ7IG",
        "colab_type": "text"
      },
      "source": [
        "Decision Tree Classifier"
      ]
    },
    {
      "cell_type": "code",
      "metadata": {
        "id": "2s-1OLLraM1C",
        "colab_type": "code",
        "colab": {}
      },
      "source": [
        "from sklearn.tree import DecisionTreeClassifier\n",
        "clf4= DecisionTreeClassifier()\n",
        "clf4.fit(train_X1,y_seas)\n",
        "y_pred4=clf4.predict_proba(test_X1)"
      ],
      "execution_count": 0,
      "outputs": []
    },
    {
      "cell_type": "code",
      "metadata": {
        "id": "zpHCcnZCah6Y",
        "colab_type": "code",
        "outputId": "01eb7052-18df-40f7-d71c-ea9ead5f509d",
        "colab": {
          "base_uri": "https://localhost:8080/",
          "height": 136
        }
      },
      "source": [
        "print(y_pred4)"
      ],
      "execution_count": 0,
      "outputs": [
        {
          "output_type": "stream",
          "text": [
            "[[1.         0.        ]\n",
            " [1.         0.        ]\n",
            " [0.         1.        ]\n",
            " ...\n",
            " [0.66666667 0.33333333]\n",
            " [1.         0.        ]\n",
            " [1.         0.        ]]\n"
          ],
          "name": "stdout"
        }
      ]
    },
    {
      "cell_type": "code",
      "metadata": {
        "id": "ERSoPkZWaj78",
        "colab_type": "code",
        "colab": {}
      },
      "source": [
        "np.savetxt('subm_h1n1_decisiontree_features_myvaladd.csv',y_pred4,delimiter=\",\")"
      ],
      "execution_count": 0,
      "outputs": []
    },
    {
      "cell_type": "markdown",
      "metadata": {
        "id": "0eazWEMRalpn",
        "colab_type": "text"
      },
      "source": [
        "Linear Regression"
      ]
    },
    {
      "cell_type": "code",
      "metadata": {
        "id": "SwxYJK6pas5n",
        "colab_type": "code",
        "colab": {}
      },
      "source": [
        "from sklearn.linear_model import LinearRegression\n",
        "from sklearn.metrics import roc_curve, roc_auc_score\n",
        "clf5=LinearRegression()\n",
        "clf5.fit(train_X1,y_seas)\n",
        "y_pred5=clf5.predict(test_X1).astype(float)"
      ],
      "execution_count": 0,
      "outputs": []
    },
    {
      "cell_type": "code",
      "metadata": {
        "id": "kE7ScHuwa60m",
        "colab_type": "code",
        "outputId": "c1ecfc7d-c68e-4deb-ef66-5d21d8271f6d",
        "colab": {
          "base_uri": "https://localhost:8080/",
          "height": 34
        }
      },
      "source": [
        "print(y_pred5)"
      ],
      "execution_count": 0,
      "outputs": [
        {
          "output_type": "stream",
          "text": [
            "[0.35864604 0.30524524 0.52956854 ... 0.30520606 0.52975503 0.49207441]\n"
          ],
          "name": "stdout"
        }
      ]
    },
    {
      "cell_type": "code",
      "metadata": {
        "id": "u6rY3N7Ea8xP",
        "colab_type": "code",
        "colab": {}
      },
      "source": [
        "np.savetxt('subm_h1n1_LinearReg_features_myvaladd.csv',y_pred5,delimiter=\",\")"
      ],
      "execution_count": 0,
      "outputs": []
    },
    {
      "cell_type": "markdown",
      "metadata": {
        "id": "2IF7aLw8a9Zw",
        "colab_type": "text"
      },
      "source": [
        "Gradient Boosting Classifier"
      ]
    },
    {
      "cell_type": "code",
      "metadata": {
        "id": "GpRU4jcGa_h_",
        "colab_type": "code",
        "colab": {}
      },
      "source": [
        "from sklearn.ensemble import GradientBoostingClassifier\n",
        "clf6 = GradientBoostingClassifier()\n",
        "clf6.fit(train_X1,y_seas)\n",
        "y_pred6=clf6.predict_proba(test_X1)"
      ],
      "execution_count": 0,
      "outputs": []
    },
    {
      "cell_type": "code",
      "metadata": {
        "id": "sKB1cfWnbOfN",
        "colab_type": "code",
        "outputId": "2e1a62a2-4dff-45ad-b323-2324ee38cace",
        "colab": {
          "base_uri": "https://localhost:8080/",
          "height": 136
        }
      },
      "source": [
        "print(y_pred6)"
      ],
      "execution_count": 0,
      "outputs": [
        {
          "output_type": "stream",
          "text": [
            "[[0.64256798 0.35743202]\n",
            " [0.92994944 0.07005056]\n",
            " [0.2682842  0.7317158 ]\n",
            " ...\n",
            " [0.76374329 0.23625671]\n",
            " [0.67847321 0.32152679]\n",
            " [0.30212455 0.69787545]]\n"
          ],
          "name": "stdout"
        }
      ]
    },
    {
      "cell_type": "code",
      "metadata": {
        "id": "0n5BnK77gD-u",
        "colab_type": "code",
        "colab": {}
      },
      "source": [
        "np.savetxt('subm_h1n1_Gradientboost_features_myvaladd.csv',y_pred5,delimiter=\",\")"
      ],
      "execution_count": 0,
      "outputs": []
    },
    {
      "cell_type": "code",
      "metadata": {
        "id": "YpS9ZUwWgJCd",
        "colab_type": "code",
        "colab": {}
      },
      "source": [
        ""
      ],
      "execution_count": 0,
      "outputs": []
    }
  ]
}